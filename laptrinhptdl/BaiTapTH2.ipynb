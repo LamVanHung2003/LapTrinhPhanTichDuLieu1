{
 "cells": [
  {
   "cell_type": "code",
   "execution_count": 24,
   "metadata": {},
   "outputs": [],
   "source": [
    "import matplotlib.pyplot as plt\n",
    "from sklearn.cluster import KMeans\n",
    "import numpy as np\n",
    "import pandas as pd\n",
    "import matplotlib.pyplot as plt\n",
    "import seaborn as sns"
   ]
  },
  {
   "cell_type": "code",
   "execution_count": 25,
   "metadata": {},
   "outputs": [
    {
     "data": {
      "text/plain": [
       "' Bài tập 2: Hãy làm lại các yêu cầu như trên nhưng dùng độ đo (metric) là Manhattan để đo lường sự giống nhau của \\nhai phần tử '"
      ]
     },
     "execution_count": 25,
     "metadata": {},
     "output_type": "execute_result"
    }
   ],
   "source": [
    "''' Bài tập 1: Sử dụng dữ liệu dulieuxettuyendaihoc.csv. \n",
    "Hãy gom cụm điểm trung bình toán của cả 2 học kì năm lớp 12 (gọi là TBT12) và điểm LOGIC với số cụm tốt nhất\n",
    "Thiết lập random_state là 17. Hãy trả lời các câu hỏi bên dưới:  \n",
    "1. Số cụm là bao nhiêu là tốt nhất\n",
    "2. Giá trị các vector thể hiện cho các center của cụm\n",
    "3. Giá trị Lowest SSE đánh giá mô hình\n",
    "4. In ra bảng dữ liệu và kết quả gom cụm\n",
    "5. Hãy cho biết tổng khoảng cách trung bình của 5 phần tử đầu tiên thuộc cụm có nhãn là 1 đến tâm của cụm \n",
    "6. Trực quan tổng hợp thống kê cho kết quả gom cụm\n",
    "7. Trực quan kết quả gom cụm\n",
    "8. Hãy cho biết một sinh viên có TBT12 là 6.78 và điểm thi LOGIC là 5.76 thì sẽ thuộc cụm nào \n",
    "'''\n",
    "\n",
    "''' Bài tập 2: Hãy làm lại các yêu cầu như trên nhưng dùng độ đo (metric) là Manhattan để đo lường sự giống nhau của \n",
    "hai phần tử '''"
   ]
  },
  {
   "cell_type": "code",
   "execution_count": 26,
   "metadata": {},
   "outputs": [
    {
     "data": {
      "text/html": [
       "<div>\n",
       "<style scoped>\n",
       "    .dataframe tbody tr th:only-of-type {\n",
       "        vertical-align: middle;\n",
       "    }\n",
       "\n",
       "    .dataframe tbody tr th {\n",
       "        vertical-align: top;\n",
       "    }\n",
       "\n",
       "    .dataframe thead th {\n",
       "        text-align: right;\n",
       "    }\n",
       "</style>\n",
       "<table border=\"1\" class=\"dataframe\">\n",
       "  <thead>\n",
       "    <tr style=\"text-align: right;\">\n",
       "      <th></th>\n",
       "      <th>MSSV</th>\n",
       "      <th>T1</th>\n",
       "      <th>T2</th>\n",
       "      <th>T3</th>\n",
       "      <th>T4</th>\n",
       "      <th>T5</th>\n",
       "      <th>T6</th>\n",
       "      <th>GT</th>\n",
       "      <th>DT</th>\n",
       "      <th>KV</th>\n",
       "      <th>NGONNGU</th>\n",
       "      <th>TOANLOGICPHANTICH</th>\n",
       "      <th>GIAIQUYETVANDE</th>\n",
       "      <th>KT</th>\n",
       "      <th>NGAYTHI</th>\n",
       "      <th>DINHHUONGNGHENGHIEP</th>\n",
       "    </tr>\n",
       "  </thead>\n",
       "  <tbody>\n",
       "    <tr>\n",
       "      <th>0</th>\n",
       "      <td>SV001</td>\n",
       "      <td>7.2</td>\n",
       "      <td>8.4</td>\n",
       "      <td>7.4</td>\n",
       "      <td>7.2</td>\n",
       "      <td>7.4</td>\n",
       "      <td>6.9</td>\n",
       "      <td>F</td>\n",
       "      <td>NaN</td>\n",
       "      <td>2NT</td>\n",
       "      <td>3.25</td>\n",
       "      <td>3.25</td>\n",
       "      <td>4.50</td>\n",
       "      <td>A1</td>\n",
       "      <td>12/7/2018</td>\n",
       "      <td>No</td>\n",
       "    </tr>\n",
       "    <tr>\n",
       "      <th>1</th>\n",
       "      <td>SV002</td>\n",
       "      <td>5.4</td>\n",
       "      <td>6.3</td>\n",
       "      <td>4.3</td>\n",
       "      <td>4.9</td>\n",
       "      <td>3.0</td>\n",
       "      <td>4.0</td>\n",
       "      <td>M</td>\n",
       "      <td>NaN</td>\n",
       "      <td>1</td>\n",
       "      <td>6.00</td>\n",
       "      <td>4.00</td>\n",
       "      <td>3.50</td>\n",
       "      <td>C</td>\n",
       "      <td>12/7/2018</td>\n",
       "      <td>Yes</td>\n",
       "    </tr>\n",
       "    <tr>\n",
       "      <th>2</th>\n",
       "      <td>SV003</td>\n",
       "      <td>5.6</td>\n",
       "      <td>5.0</td>\n",
       "      <td>2.8</td>\n",
       "      <td>6.1</td>\n",
       "      <td>4.8</td>\n",
       "      <td>5.7</td>\n",
       "      <td>M</td>\n",
       "      <td>NaN</td>\n",
       "      <td>1</td>\n",
       "      <td>5.00</td>\n",
       "      <td>6.75</td>\n",
       "      <td>4.00</td>\n",
       "      <td>C</td>\n",
       "      <td>12/7/2018</td>\n",
       "      <td>No</td>\n",
       "    </tr>\n",
       "    <tr>\n",
       "      <th>3</th>\n",
       "      <td>SV004</td>\n",
       "      <td>6.6</td>\n",
       "      <td>5.1</td>\n",
       "      <td>5.9</td>\n",
       "      <td>4.1</td>\n",
       "      <td>6.1</td>\n",
       "      <td>7.4</td>\n",
       "      <td>M</td>\n",
       "      <td>NaN</td>\n",
       "      <td>1</td>\n",
       "      <td>4.25</td>\n",
       "      <td>4.25</td>\n",
       "      <td>5.25</td>\n",
       "      <td>D1</td>\n",
       "      <td>12/7/2018</td>\n",
       "      <td>No</td>\n",
       "    </tr>\n",
       "    <tr>\n",
       "      <th>4</th>\n",
       "      <td>SV005</td>\n",
       "      <td>6.0</td>\n",
       "      <td>5.4</td>\n",
       "      <td>7.6</td>\n",
       "      <td>4.4</td>\n",
       "      <td>6.8</td>\n",
       "      <td>8.0</td>\n",
       "      <td>M</td>\n",
       "      <td>NaN</td>\n",
       "      <td>2NT</td>\n",
       "      <td>4.25</td>\n",
       "      <td>4.50</td>\n",
       "      <td>5.00</td>\n",
       "      <td>A</td>\n",
       "      <td>12/7/2018</td>\n",
       "      <td>No</td>\n",
       "    </tr>\n",
       "    <tr>\n",
       "      <th>5</th>\n",
       "      <td>SV006</td>\n",
       "      <td>9.3</td>\n",
       "      <td>9.6</td>\n",
       "      <td>7.1</td>\n",
       "      <td>8.5</td>\n",
       "      <td>8.5</td>\n",
       "      <td>7.8</td>\n",
       "      <td>M</td>\n",
       "      <td>NaN</td>\n",
       "      <td>1</td>\n",
       "      <td>1.50</td>\n",
       "      <td>4.00</td>\n",
       "      <td>6.00</td>\n",
       "      <td>D1</td>\n",
       "      <td>12/7/2018</td>\n",
       "      <td>No</td>\n",
       "    </tr>\n",
       "    <tr>\n",
       "      <th>6</th>\n",
       "      <td>SV007</td>\n",
       "      <td>2.8</td>\n",
       "      <td>4.4</td>\n",
       "      <td>4.6</td>\n",
       "      <td>4.7</td>\n",
       "      <td>5.4</td>\n",
       "      <td>5.3</td>\n",
       "      <td>F</td>\n",
       "      <td>NaN</td>\n",
       "      <td>2</td>\n",
       "      <td>6.50</td>\n",
       "      <td>6.75</td>\n",
       "      <td>5.25</td>\n",
       "      <td>C</td>\n",
       "      <td>12/7/2018</td>\n",
       "      <td>Yes</td>\n",
       "    </tr>\n",
       "    <tr>\n",
       "      <th>7</th>\n",
       "      <td>SV008</td>\n",
       "      <td>8.3</td>\n",
       "      <td>6.7</td>\n",
       "      <td>8.6</td>\n",
       "      <td>8.3</td>\n",
       "      <td>8.5</td>\n",
       "      <td>8.3</td>\n",
       "      <td>F</td>\n",
       "      <td>NaN</td>\n",
       "      <td>2</td>\n",
       "      <td>3.75</td>\n",
       "      <td>4.50</td>\n",
       "      <td>4.25</td>\n",
       "      <td>D1</td>\n",
       "      <td>12/7/2018</td>\n",
       "      <td>Yes</td>\n",
       "    </tr>\n",
       "    <tr>\n",
       "      <th>8</th>\n",
       "      <td>SV009</td>\n",
       "      <td>6.5</td>\n",
       "      <td>7.3</td>\n",
       "      <td>6.4</td>\n",
       "      <td>8.1</td>\n",
       "      <td>7.7</td>\n",
       "      <td>7.7</td>\n",
       "      <td>F</td>\n",
       "      <td>NaN</td>\n",
       "      <td>1</td>\n",
       "      <td>3.50</td>\n",
       "      <td>3.50</td>\n",
       "      <td>6.75</td>\n",
       "      <td>D1</td>\n",
       "      <td>12/7/2018</td>\n",
       "      <td>Yes</td>\n",
       "    </tr>\n",
       "    <tr>\n",
       "      <th>9</th>\n",
       "      <td>SV0010</td>\n",
       "      <td>7.3</td>\n",
       "      <td>8.0</td>\n",
       "      <td>6.5</td>\n",
       "      <td>5.5</td>\n",
       "      <td>7.5</td>\n",
       "      <td>6.9</td>\n",
       "      <td>F</td>\n",
       "      <td>NaN</td>\n",
       "      <td>1</td>\n",
       "      <td>4.00</td>\n",
       "      <td>4.75</td>\n",
       "      <td>5.50</td>\n",
       "      <td>D1</td>\n",
       "      <td>12/7/2018</td>\n",
       "      <td>Yes</td>\n",
       "    </tr>\n",
       "  </tbody>\n",
       "</table>\n",
       "</div>"
      ],
      "text/plain": [
       "     MSSV   T1   T2   T3   T4   T5   T6 GT  DT   KV  NGONNGU  \\\n",
       "0   SV001  7.2  8.4  7.4  7.2  7.4  6.9  F NaN  2NT     3.25   \n",
       "1   SV002  5.4  6.3  4.3  4.9  3.0  4.0  M NaN    1     6.00   \n",
       "2   SV003  5.6  5.0  2.8  6.1  4.8  5.7  M NaN    1     5.00   \n",
       "3   SV004  6.6  5.1  5.9  4.1  6.1  7.4  M NaN    1     4.25   \n",
       "4   SV005  6.0  5.4  7.6  4.4  6.8  8.0  M NaN  2NT     4.25   \n",
       "5   SV006  9.3  9.6  7.1  8.5  8.5  7.8  M NaN    1     1.50   \n",
       "6   SV007  2.8  4.4  4.6  4.7  5.4  5.3  F NaN    2     6.50   \n",
       "7   SV008  8.3  6.7  8.6  8.3  8.5  8.3  F NaN    2     3.75   \n",
       "8   SV009  6.5  7.3  6.4  8.1  7.7  7.7  F NaN    1     3.50   \n",
       "9  SV0010  7.3  8.0  6.5  5.5  7.5  6.9  F NaN    1     4.00   \n",
       "\n",
       "   TOANLOGICPHANTICH  GIAIQUYETVANDE  KT    NGAYTHI DINHHUONGNGHENGHIEP  \n",
       "0               3.25            4.50  A1  12/7/2018                  No  \n",
       "1               4.00            3.50   C  12/7/2018                 Yes  \n",
       "2               6.75            4.00   C  12/7/2018                  No  \n",
       "3               4.25            5.25  D1  12/7/2018                  No  \n",
       "4               4.50            5.00   A  12/7/2018                  No  \n",
       "5               4.00            6.00  D1  12/7/2018                  No  \n",
       "6               6.75            5.25   C  12/7/2018                 Yes  \n",
       "7               4.50            4.25  D1  12/7/2018                 Yes  \n",
       "8               3.50            6.75  D1  12/7/2018                 Yes  \n",
       "9               4.75            5.50  D1  12/7/2018                 Yes  "
      ]
     },
     "execution_count": 26,
     "metadata": {},
     "output_type": "execute_result"
    }
   ],
   "source": [
    "df = pd.read_csv('dulieuxettuyendaihoc.csv')\n",
    "df.head(10)"
   ]
  },
  {
   "cell_type": "code",
   "execution_count": 27,
   "metadata": {},
   "outputs": [],
   "source": [
    "df.rename(columns={'TOANLOGICPHANTICH':'LOGIC'},inplace=True)"
   ]
  },
  {
   "cell_type": "code",
   "execution_count": 28,
   "metadata": {},
   "outputs": [],
   "source": [
    "#Tạo biến\n",
    "df['TBT12'] = (df['T5']+df['T6'])/2"
   ]
  },
  {
   "cell_type": "code",
   "execution_count": 29,
   "metadata": {},
   "outputs": [
    {
     "data": {
      "text/html": [
       "<div>\n",
       "<style scoped>\n",
       "    .dataframe tbody tr th:only-of-type {\n",
       "        vertical-align: middle;\n",
       "    }\n",
       "\n",
       "    .dataframe tbody tr th {\n",
       "        vertical-align: top;\n",
       "    }\n",
       "\n",
       "    .dataframe thead th {\n",
       "        text-align: right;\n",
       "    }\n",
       "</style>\n",
       "<table border=\"1\" class=\"dataframe\">\n",
       "  <thead>\n",
       "    <tr style=\"text-align: right;\">\n",
       "      <th></th>\n",
       "      <th>TBT12</th>\n",
       "      <th>LOGIC</th>\n",
       "    </tr>\n",
       "  </thead>\n",
       "  <tbody>\n",
       "    <tr>\n",
       "      <th>0</th>\n",
       "      <td>7.15</td>\n",
       "      <td>3.25</td>\n",
       "    </tr>\n",
       "    <tr>\n",
       "      <th>1</th>\n",
       "      <td>3.50</td>\n",
       "      <td>4.00</td>\n",
       "    </tr>\n",
       "    <tr>\n",
       "      <th>2</th>\n",
       "      <td>5.25</td>\n",
       "      <td>6.75</td>\n",
       "    </tr>\n",
       "    <tr>\n",
       "      <th>3</th>\n",
       "      <td>6.75</td>\n",
       "      <td>4.25</td>\n",
       "    </tr>\n",
       "    <tr>\n",
       "      <th>4</th>\n",
       "      <td>7.40</td>\n",
       "      <td>4.50</td>\n",
       "    </tr>\n",
       "    <tr>\n",
       "      <th>5</th>\n",
       "      <td>8.15</td>\n",
       "      <td>4.00</td>\n",
       "    </tr>\n",
       "    <tr>\n",
       "      <th>6</th>\n",
       "      <td>5.35</td>\n",
       "      <td>6.75</td>\n",
       "    </tr>\n",
       "    <tr>\n",
       "      <th>7</th>\n",
       "      <td>8.40</td>\n",
       "      <td>4.50</td>\n",
       "    </tr>\n",
       "    <tr>\n",
       "      <th>8</th>\n",
       "      <td>7.70</td>\n",
       "      <td>3.50</td>\n",
       "    </tr>\n",
       "    <tr>\n",
       "      <th>9</th>\n",
       "      <td>7.20</td>\n",
       "      <td>4.75</td>\n",
       "    </tr>\n",
       "  </tbody>\n",
       "</table>\n",
       "</div>"
      ],
      "text/plain": [
       "   TBT12  LOGIC\n",
       "0   7.15   3.25\n",
       "1   3.50   4.00\n",
       "2   5.25   6.75\n",
       "3   6.75   4.25\n",
       "4   7.40   4.50\n",
       "5   8.15   4.00\n",
       "6   5.35   6.75\n",
       "7   8.40   4.50\n",
       "8   7.70   3.50\n",
       "9   7.20   4.75"
      ]
     },
     "execution_count": 29,
     "metadata": {},
     "output_type": "execute_result"
    }
   ],
   "source": [
    "data = df[['TBT12','LOGIC']]\n",
    "data.head(10)"
   ]
  },
  {
   "cell_type": "code",
   "execution_count": 30,
   "metadata": {},
   "outputs": [],
   "source": [
    "from sklearn.cluster import KMeans"
   ]
  },
  {
   "cell_type": "code",
   "execution_count": 31,
   "metadata": {},
   "outputs": [
    {
     "data": {
      "text/plain": [
       "'\\nHãy gom cụm điểm trung bình toán của cả 2 học kì năm lớp 12 (gọi là TBT12) và điểm LOGIC với số cụm tốt nhất\\nThiết lập random_state là 17\\n'"
      ]
     },
     "execution_count": 31,
     "metadata": {},
     "output_type": "execute_result"
    }
   ],
   "source": [
    "'''\n",
    "Hãy gom cụm điểm trung bình toán của cả 2 học kì năm lớp 12 (gọi là TBT12) và điểm LOGIC với số cụm tốt nhất\n",
    "Thiết lập random_state là 17\n",
    "'''"
   ]
  },
  {
   "cell_type": "code",
   "execution_count": 32,
   "metadata": {},
   "outputs": [],
   "source": [
    "#1. Số cụm là bao nhiêu là tốt nhất\n",
    "kmeans = KMeans(n_clusters=4).fit(data)"
   ]
  },
  {
   "cell_type": "code",
   "execution_count": 33,
   "metadata": {},
   "outputs": [
    {
     "name": "stdout",
     "output_type": "stream",
     "text": [
      "[[4.86904762 3.61904762]\n",
      " [7.27272727 3.50757576]\n",
      " [6.74482759 5.        ]\n",
      " [8.52058824 5.22058824]]\n",
      "94.08313488404767\n",
      "6\n",
      "[1 0 2 2 2 1 2 3 1 2 1 3 3 1 3 0 1 2 2 1 3 1 0 2 0 0 2 2 3 0 1 2 2 1 2 2 1\n",
      " 0 0 1 1 3 0 0 1 2 1 3 1 2 2 1 1 2 1 3 3 2 2 0 1 1 1 1 1 0 2 2 3 0 2 3 0 0\n",
      " 1 0 1 1 0 1 1 2 2 2 3 2 2 1 0 2 3 3 3 1 1 1 0 3 0 0]\n"
     ]
    }
   ],
   "source": [
    "print(kmeans.cluster_centers_)#Trung tâm cụm\n",
    "print(kmeans.inertia_)#Giá trị tâm (SSE) thể hiện mức độ biến động và độ phân tán của các điểm dữ liệu. Giá trị inertia càng nhỏ thì mô hình càng tốt\n",
    "print(kmeans.n_iter_) #số lần lặp giá trị\n",
    "print(kmeans.labels_[:])#Nhãn"
   ]
  },
  {
   "cell_type": "code",
   "execution_count": 34,
   "metadata": {},
   "outputs": [
    {
     "data": {
      "image/png": "[encoded data removed]",
      "text/plain": [
       "<Figure size 640x480 with 1 Axes>"
      ]
     },
     "metadata": {},
     "output_type": "display_data"
    }
   ],
   "source": [
    "#Chọn số cụm tốt nhất\n",
    "kmeans_kwargs = {\"init\": \"random\",\"n_init\":10,\"max_iter\":300,\"random_state\":17}\n",
    "sse =[]\n",
    "for k in range(1,11):\n",
    "    kmeans = KMeans(n_clusters=k, **kmeans_kwargs)\n",
    "    kmeans.fit(data)\n",
    "    sse.append(kmeans.inertia_)\n",
    "\n",
    "plt.style.use('fivethirtyeight')\n",
    "plt.plot(range(1,11),sse)\n",
    "plt.xticks(range(1,11))\n",
    "plt.xlabel(\"Number of Clusters\")\n",
    "plt.ylabel(\"SSE\")\n",
    "plt.show()"
   ]
  },
  {
   "cell_type": "code",
   "execution_count": 35,
   "metadata": {},
   "outputs": [
    {
     "name": "stdout",
     "output_type": "stream",
     "text": [
      "3\n"
     ]
    }
   ],
   "source": [
    "#Cách 2 Dùng phương phát độ đo ElBoww để tìm số cụm là tốt nhất\n",
    "from kneed import KneeLocator\n",
    "k1 = KneeLocator(range(1,11), sse, curve='convex', direction='decreasing')\n",
    "print(k1.elbow)"
   ]
  },
  {
   "cell_type": "code",
   "execution_count": 36,
   "metadata": {},
   "outputs": [],
   "source": [
    "#Câu 1: Số cụm tốt nhất là 3"
   ]
  },
  {
   "cell_type": "code",
   "execution_count": 41,
   "metadata": {},
   "outputs": [
    {
     "name": "stdout",
     "output_type": "stream",
     "text": [
      "[[5.06607143 4.08928571]\n",
      " [7.92       5.02857143]\n",
      " [7.12567568 3.64864865]]\n"
     ]
    }
   ],
   "source": [
    "#2 in ra cac center\n",
    "print(kmeans.cluster_centers_)"
   ]
  },
  {
   "cell_type": "code",
   "execution_count": 44,
   "metadata": {},
   "outputs": [
    {
     "name": "stdout",
     "output_type": "stream",
     "text": [
      "121.7200226833977\n"
     ]
    }
   ],
   "source": [
    "#3 gt lowest sse\n",
    "print(kmeans.inertia_)"
   ]
  },
  {
   "cell_type": "code",
   "execution_count": 45,
   "metadata": {},
   "outputs": [
    {
     "name": "stdout",
     "output_type": "stream",
     "text": [
      "    TBT12  LOGIC  Cluster\n",
      "0    7.15   3.25        2\n",
      "1    3.50   4.00        0\n",
      "2    5.25   6.75        0\n",
      "3    6.75   4.25        2\n",
      "4    7.40   4.50        1\n",
      "..    ...    ...      ...\n",
      "95   7.25   1.50        2\n",
      "96   5.60   3.75        0\n",
      "97   8.75   8.00        1\n",
      "98   4.20   3.50        0\n",
      "99   5.35   2.50        0\n",
      "\n",
      "[100 rows x 3 columns]\n"
     ]
    },
    {
     "name": "stderr",
     "output_type": "stream",
     "text": [
      "C:\\Users\\THANH DUOC\\AppData\\Local\\Temp\\ipykernel_21988\\1718160873.py:5: SettingWithCopyWarning: \n",
      "A value is trying to be set on a copy of a slice from a DataFrame.\n",
      "Try using .loc[row_indexer,col_indexer] = value instead\n",
      "\n",
      "See the caveats in the documentation: https://pandas.pydata.org/pandas-docs/stable/user_guide/indexing.html#returning-a-view-versus-a-copy\n",
      "  data['Cluster'] = labels\n"
     ]
    }
   ],
   "source": [
    "# Gán nhãn cho từng điểm dữ liệu\n",
    "labels = kmeans.labels_[:]\n",
    "\n",
    "# 4. In ra bảng dữ liệu và kết quả gom cụm\n",
    "data['Cluster'] = labels\n",
    "print(data[['TBT12', 'LOGIC', 'Cluster']])"
   ]
  },
  {
   "cell_type": "code",
   "execution_count": 55,
   "metadata": {},
   "outputs": [
    {
     "ename": "ValueError",
     "evalue": "operands could not be broadcast together with shapes (5,3) (2,) ",
     "output_type": "error",
     "traceback": [
      "\u001b[1;31m---------------------------------------------------------------------------\u001b[0m",
      "\u001b[1;31mValueError\u001b[0m                                Traceback (most recent call last)",
      "\u001b[1;32me:\\laptrinhptdl\\BaiTapTH2.ipynb Cell 17\u001b[0m in \u001b[0;36m<cell line: 12>\u001b[1;34m()\u001b[0m\n\u001b[0;32m      <a href='vscode-notebook-cell:/e%3A/laptrinhptdl/BaiTapTH2.ipynb#X22sZmlsZQ%3D%3D?line=8'>9</a>\u001b[0m first_5_elements_indices \u001b[39m=\u001b[39m cluster_1_indices[:\u001b[39m5\u001b[39m]\n\u001b[0;32m     <a href='vscode-notebook-cell:/e%3A/laptrinhptdl/BaiTapTH2.ipynb#X22sZmlsZQ%3D%3D?line=10'>11</a>\u001b[0m \u001b[39m# Tính tổng khoảng cách trung bình từ các phần tử đầu tiên đến tâm của cụm\u001b[39;00m\n\u001b[1;32m---> <a href='vscode-notebook-cell:/e%3A/laptrinhptdl/BaiTapTH2.ipynb#X22sZmlsZQ%3D%3D?line=11'>12</a>\u001b[0m distances \u001b[39m=\u001b[39m np\u001b[39m.\u001b[39mlinalg\u001b[39m.\u001b[39mnorm(X[first_5_elements_indices] \u001b[39m-\u001b[39;49m centers[\u001b[39m1\u001b[39;49m], axis\u001b[39m=\u001b[39m\u001b[39m1\u001b[39m)\n\u001b[0;32m     <a href='vscode-notebook-cell:/e%3A/laptrinhptdl/BaiTapTH2.ipynb#X22sZmlsZQ%3D%3D?line=12'>13</a>\u001b[0m average_distance \u001b[39m=\u001b[39m np\u001b[39m.\u001b[39mmean(distances)\n\u001b[0;32m     <a href='vscode-notebook-cell:/e%3A/laptrinhptdl/BaiTapTH2.ipynb#X22sZmlsZQ%3D%3D?line=14'>15</a>\u001b[0m \u001b[39m# In ra tổng khoảng cách trung bình\u001b[39;00m\n",
      "\u001b[1;31mValueError\u001b[0m: operands could not be broadcast together with shapes (5,3) (2,) "
     ]
    }
   ],
   "source": [
    "#5. Hãy cho biết tổng khoảng cách trung bình của 5 phần tử đầu tiên thuộc cụm có nhãn là 1 đến tâm của cụm\n",
    "#5 Hãy cho biết tổng khoảng cách trung bình của 5 phần\n",
    "X = data[['TBT12', 'LOGIC','Cluster']].values\n",
    "# Lấy tâm của các cụm\n",
    "centers = kmeans.cluster_centers_\n",
    "\n",
    "# Lấy các phần tử thuộc cụm có nhãn là 1\n",
    "cluster_1_indices = np.where(data['Cluster'] == 1)[0]\n",
    "first_5_elements_indices = cluster_1_indices[:5]\n",
    "\n",
    "# Tính tổng khoảng cách trung bình từ các phần tử đầu tiên đến tâm của cụm\n",
    "distances = np.linalg.norm(X[first_5_elements_indices] - centers[1], axis=1)\n",
    "average_distance = np.mean(distances)\n",
    "\n",
    "# In ra tổng khoảng cách trung bình\n",
    "print(\"Tổng khoảng cách trung bình của 5 phần tử đầu tiên thuộc cụm có nhãn là 1 đến tâm của cụm:\", average_distance)"
   ]
  },
  {
   "cell_type": "code",
   "execution_count": null,
   "metadata": {},
   "outputs": [
    {
     "name": "stdout",
     "output_type": "stream",
     "text": [
      "[[5.1775     3.1125     7.9       ]\n",
      " [6.74901961 4.33333333 0.94117647]\n",
      " [8.10172414 4.90517241 4.37931034]]\n"
     ]
    },
    {
     "data": {
      "image/png": "[encoded data removed]",
      "text/plain": [
       "<Figure size 640x480 with 1 Axes>"
      ]
     },
     "metadata": {},
     "output_type": "display_data"
    }
   ],
   "source": [
    "#6. Trực quan tổng hợp thống kê cho kết quả gom cụm\n",
    "centroids = kmeans.cluster_centers_\n",
    "print(centroids)\n",
    "\n",
    "gr_data = data.groupby(['Cluster']).size()\n",
    "gr_data.plot.bar()\n",
    "plt.show()\n"
   ]
  },
  {
   "cell_type": "code",
   "execution_count": null,
   "metadata": {},
   "outputs": [
    {
     "name": "stderr",
     "output_type": "stream",
     "text": [
      "C:\\Users\\HP-FPT\\AppData\\Local\\Temp\\ipykernel_4992\\2760608055.py:1: FutureWarning: Indexing with multiple keys (implicitly converted to a tuple of keys) will be deprecated, use a list instead.\n",
      "  gr_data_min = data.groupby(['Cluster'])['TBT12','LOGIC'].min()\n"
     ]
    },
    {
     "data": {
      "image/png": "[encoded data removed]",
      "text/plain": [
       "<Figure size 640x480 with 1 Axes>"
      ]
     },
     "metadata": {},
     "output_type": "display_data"
    }
   ],
   "source": [
    "gr_data_min = data.groupby(['Cluster'])['TBT12','LOGIC'].min()\n",
    "gr_data_min.plot(kind='bar')\n",
    "plt.show()"
   ]
  },
  {
   "cell_type": "code",
   "execution_count": null,
   "metadata": {},
   "outputs": [
    {
     "name": "stderr",
     "output_type": "stream",
     "text": [
      "C:\\Users\\HP-FPT\\AppData\\Local\\Temp\\ipykernel_4992\\1033340499.py:1: FutureWarning: Indexing with multiple keys (implicitly converted to a tuple of keys) will be deprecated, use a list instead.\n",
      "  gr_data_mean = data.groupby(['Cluster'])['TBT12','LOGIC'].mean()\n"
     ]
    },
    {
     "data": {
      "image/png": "[encoded data removed]",
      "text/plain": [
       "<Figure size 640x480 with 1 Axes>"
      ]
     },
     "metadata": {},
     "output_type": "display_data"
    }
   ],
   "source": [
    "gr_data_mean = data.groupby(['Cluster'])['TBT12','LOGIC'].mean()\n",
    "gr_data_mean.plot(kind='bar')\n",
    "plt.show()"
   ]
  },
  {
   "cell_type": "code",
   "execution_count": null,
   "metadata": {},
   "outputs": [
    {
     "data": {
      "image/png": "[encoded data removed]",
      "text/plain": [
       "<Figure size 640x480 with 1 Axes>"
      ]
     },
     "metadata": {},
     "output_type": "display_data"
    }
   ],
   "source": [
    "#7. Trực quan kết quả gom cụm\n",
    "plt.scatter(df['TBT12'], df['LOGIC'], c=kmeans.labels_.astype(float), s=50, alpha=0.5)\n",
    "plt.scatter(centroids[:, 0], centroids[:, 1], c='red', s=50)\n",
    "plt.show()"
   ]
  },
  {
   "cell_type": "code",
   "execution_count": null,
   "metadata": {},
   "outputs": [
    {
     "ename": "ValueError",
     "evalue": "operands could not be broadcast together with shapes (1,2) (3,) ",
     "output_type": "error",
     "traceback": [
      "\u001b[1;31m---------------------------------------------------------------------------\u001b[0m",
      "\u001b[1;31mValueError\u001b[0m                                Traceback (most recent call last)",
      "\u001b[1;32md:\\Phân tích dữ liệu\\BaiTapTH2.ipynb Cell 22\u001b[0m in \u001b[0;36m7\n\u001b[0;32m      <a href='vscode-notebook-cell:/d%3A/Ph%C3%A2n%20t%C3%ADch%20d%E1%BB%AF%20li%E1%BB%87u/BaiTapTH2.ipynb#X24sZmlsZQ%3D%3D?line=3'>4</a>\u001b[0m student \u001b[39m=\u001b[39m np\u001b[39m.\u001b[39marray([[\u001b[39m6.78\u001b[39m, \u001b[39m5.76\u001b[39m]])\n\u001b[0;32m      <a href='vscode-notebook-cell:/d%3A/Ph%C3%A2n%20t%C3%ADch%20d%E1%BB%AF%20li%E1%BB%87u/BaiTapTH2.ipynb#X24sZmlsZQ%3D%3D?line=5'>6</a>\u001b[0m \u001b[39m# Chuẩn hóa dữ liệu của sinh viên\u001b[39;00m\n\u001b[1;32m----> <a href='vscode-notebook-cell:/d%3A/Ph%C3%A2n%20t%C3%ADch%20d%E1%BB%AF%20li%E1%BB%87u/BaiTapTH2.ipynb#X24sZmlsZQ%3D%3D?line=6'>7</a>\u001b[0m student \u001b[39m=\u001b[39m (student \u001b[39m-\u001b[39;49m X\u001b[39m.\u001b[39;49mmean(axis\u001b[39m=\u001b[39;49m\u001b[39m0\u001b[39;49m)) \u001b[39m/\u001b[39m X\u001b[39m.\u001b[39mstd(axis\u001b[39m=\u001b[39m\u001b[39m0\u001b[39m)\n\u001b[0;32m      <a href='vscode-notebook-cell:/d%3A/Ph%C3%A2n%20t%C3%ADch%20d%E1%BB%AF%20li%E1%BB%87u/BaiTapTH2.ipynb#X24sZmlsZQ%3D%3D?line=8'>9</a>\u001b[0m \u001b[39m# Dự đoán cụm cho sinh viên\u001b[39;00m\n\u001b[0;32m     <a href='vscode-notebook-cell:/d%3A/Ph%C3%A2n%20t%C3%ADch%20d%E1%BB%AF%20li%E1%BB%87u/BaiTapTH2.ipynb#X24sZmlsZQ%3D%3D?line=9'>10</a>\u001b[0m predicted_cluster \u001b[39m=\u001b[39m kmeans\u001b[39m.\u001b[39mpredict(student)\n",
      "\u001b[1;31mValueError\u001b[0m: operands could not be broadcast together with shapes (1,2) (3,) "
     ]
    }
   ],
   "source": [
    "#8. Hãy cho biết một sinh viên có TBT12 là 6.78 và điểm thi LOGIC là 5.76 thì sẽ thuộc cụm nào \n",
    "# Tạo một mảng chứa thông tin của sinh viên muốn dự đoán\n",
    "X = data[['TBT12','LOGIC','Cluster']].values\n",
    "student = np.array([[6.78, 5.76]])\n",
    "\n",
    "# Chuẩn hóa dữ liệu của sinh viên\n",
    "student = (student - X.mean(axis=0)) / X.std(axis=0)\n",
    "\n",
    "# Dự đoán cụm cho sinh viên\n",
    "predicted_cluster = kmeans.predict(student)\n",
    "\n",
    "# In ra cụm mà sinh viên thuộc về\n",
    "print(\"Sinh viên thuộc cụm:\", predicted_cluster[0])"
   ]
  },
  {
   "cell_type": "code",
   "execution_count": null,
   "metadata": {},
   "outputs": [],
   "source": []
  },
  {
   "cell_type": "code",
   "execution_count": null,
   "metadata": {},
   "outputs": [],
   "source": []
  }
 ],
 "metadata": {
  "kernelspec": {
   "display_name": "Python 3",
   "language": "python",
   "name": "python3"
  },
  "language_info": {
   "codemirror_mode": {
    "name": "ipython",
    "version": 3
   },
   "file_extension": ".py",
   "mimetype": "text/x-python",
   "name": "python",
   "nbconvert_exporter": "python",
   "pygments_lexer": "ipython3",
   "version": "3.10.9"
  },
  "orig_nbformat": 4
 },
 "nbformat": 4,
 "nbformat_minor": 2
}
