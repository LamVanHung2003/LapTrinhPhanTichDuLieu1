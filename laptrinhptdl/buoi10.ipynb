{
 "cells": [
  {
   "cell_type": "code",
   "execution_count": 44,
   "metadata": {},
   "outputs": [],
   "source": [
    "from sklearn.decomposition import PCA\n",
    "from sklearn.preprocessing import StandardScaler\n",
    "from bioinfokit.analys import get_data\n",
    "import numpy as np\n",
    "import pandas as pd\n",
    "from bioinfokit.visuz import cluster\n",
    "import matplotlib.pyplot as plt"
   ]
  },
  {
   "cell_type": "code",
   "execution_count": 45,
   "metadata": {},
   "outputs": [
    {
     "data": {
      "text/html": [
       "<div>\n",
       "<style scoped>\n",
       "    .dataframe tbody tr th:only-of-type {\n",
       "        vertical-align: middle;\n",
       "    }\n",
       "\n",
       "    .dataframe tbody tr th {\n",
       "        vertical-align: top;\n",
       "    }\n",
       "\n",
       "    .dataframe thead th {\n",
       "        text-align: right;\n",
       "    }\n",
       "</style>\n",
       "<table border=\"1\" class=\"dataframe\">\n",
       "  <thead>\n",
       "    <tr style=\"text-align: right;\">\n",
       "      <th></th>\n",
       "      <th>A</th>\n",
       "      <th>B</th>\n",
       "      <th>C</th>\n",
       "      <th>D</th>\n",
       "      <th>E</th>\n",
       "      <th>F</th>\n",
       "    </tr>\n",
       "  </thead>\n",
       "  <tbody>\n",
       "    <tr>\n",
       "      <th>0</th>\n",
       "      <td>4.50570</td>\n",
       "      <td>3.26036</td>\n",
       "      <td>-1.24940</td>\n",
       "      <td>8.89807</td>\n",
       "      <td>8.05955</td>\n",
       "      <td>-0.842803</td>\n",
       "    </tr>\n",
       "    <tr>\n",
       "      <th>1</th>\n",
       "      <td>3.50856</td>\n",
       "      <td>1.66079</td>\n",
       "      <td>-1.85668</td>\n",
       "      <td>-2.57336</td>\n",
       "      <td>-1.37370</td>\n",
       "      <td>1.196000</td>\n",
       "    </tr>\n",
       "  </tbody>\n",
       "</table>\n",
       "</div>"
      ],
      "text/plain": [
       "         A        B        C        D        E         F\n",
       "0  4.50570  3.26036 -1.24940  8.89807  8.05955 -0.842803\n",
       "1  3.50856  1.66079 -1.85668 -2.57336 -1.37370  1.196000"
      ]
     },
     "execution_count": 45,
     "metadata": {},
     "output_type": "execute_result"
    }
   ],
   "source": [
    "# load dataset as pandas dataframe\n",
    "\n",
    "df = get_data('gexp').data\n",
    "df.head(2)\n",
    "\n",
    "# variables A to F denotes multiple conditions associated with fungal stress\n",
    "# Read full paper https://journals.plos.org/plosone/article?id=10.1371/journal.pone.0138025"
   ]
  },
  {
   "cell_type": "code",
   "execution_count": 46,
   "metadata": {},
   "outputs": [
    {
     "data": {
      "text/html": [
       "<div>\n",
       "<style scoped>\n",
       "    .dataframe tbody tr th:only-of-type {\n",
       "        vertical-align: middle;\n",
       "    }\n",
       "\n",
       "    .dataframe tbody tr th {\n",
       "        vertical-align: top;\n",
       "    }\n",
       "\n",
       "    .dataframe thead th {\n",
       "        text-align: right;\n",
       "    }\n",
       "</style>\n",
       "<table border=\"1\" class=\"dataframe\">\n",
       "  <thead>\n",
       "    <tr style=\"text-align: right;\">\n",
       "      <th></th>\n",
       "      <th>A</th>\n",
       "      <th>B</th>\n",
       "      <th>C</th>\n",
       "      <th>D</th>\n",
       "      <th>E</th>\n",
       "      <th>F</th>\n",
       "    </tr>\n",
       "  </thead>\n",
       "  <tbody>\n",
       "    <tr>\n",
       "      <th>0</th>\n",
       "      <td>0.619654</td>\n",
       "      <td>0.448280</td>\n",
       "      <td>-0.240867</td>\n",
       "      <td>2.457058</td>\n",
       "      <td>2.304732</td>\n",
       "      <td>-0.331489</td>\n",
       "    </tr>\n",
       "    <tr>\n",
       "      <th>1</th>\n",
       "      <td>0.342286</td>\n",
       "      <td>-0.041499</td>\n",
       "      <td>-0.428652</td>\n",
       "      <td>-1.214732</td>\n",
       "      <td>-0.877151</td>\n",
       "      <td>0.474930</td>\n",
       "    </tr>\n",
       "  </tbody>\n",
       "</table>\n",
       "</div>"
      ],
      "text/plain": [
       "          A         B         C         D         E         F\n",
       "0  0.619654  0.448280 -0.240867  2.457058  2.304732 -0.331489\n",
       "1  0.342286 -0.041499 -0.428652 -1.214732 -0.877151  0.474930"
      ]
     },
     "execution_count": 46,
     "metadata": {},
     "output_type": "execute_result"
    }
   ],
   "source": [
    "# this is an optional step\n",
    "df_st =  StandardScaler().fit_transform(df)  \n",
    "pd.DataFrame(df_st, columns=df.columns).head(2)"
   ]
  },
  {
   "cell_type": "code",
   "execution_count": 47,
   "metadata": {},
   "outputs": [],
   "source": [
    "# this is an optional step\n",
    "df_st =  StandardScaler().fit_transform(df)  \n",
    "pd.DataFrame(df_st, columns=df.columns).head(2)\n",
    "pca_out = PCA().fit(df_st)"
   ]
  },
  {
   "cell_type": "code",
   "execution_count": 48,
   "metadata": {},
   "outputs": [
    {
     "data": {
      "text/plain": [
       "array([0.2978742 , 0.27481252, 0.23181442, 0.19291638, 0.00144353,\n",
       "       0.00113895])"
      ]
     },
     "execution_count": 48,
     "metadata": {},
     "output_type": "execute_result"
    }
   ],
   "source": [
    "pca_out.explained_variance_ratio_\n",
    "# Cumulative proportion of variance (from PC1 to PC6)   "
   ]
  },
  {
   "cell_type": "code",
   "execution_count": 49,
   "metadata": {},
   "outputs": [
    {
     "data": {
      "text/plain": [
       "array([0.2978742 , 0.57268672, 0.80450114, 0.99741752, 0.99886105,\n",
       "       1.        ])"
      ]
     },
     "execution_count": 49,
     "metadata": {},
     "output_type": "execute_result"
    }
   ],
   "source": [
    "np.cumsum(pca_out.explained_variance_ratio_)    "
   ]
  },
  {
   "cell_type": "code",
   "execution_count": 50,
   "metadata": {},
   "outputs": [
    {
     "data": {
      "text/html": [
       "<div>\n",
       "<style scoped>\n",
       "    .dataframe tbody tr th:only-of-type {\n",
       "        vertical-align: middle;\n",
       "    }\n",
       "\n",
       "    .dataframe tbody tr th {\n",
       "        vertical-align: top;\n",
       "    }\n",
       "\n",
       "    .dataframe thead th {\n",
       "        text-align: right;\n",
       "    }\n",
       "</style>\n",
       "<table border=\"1\" class=\"dataframe\">\n",
       "  <thead>\n",
       "    <tr style=\"text-align: right;\">\n",
       "      <th></th>\n",
       "      <th>PC1</th>\n",
       "      <th>PC2</th>\n",
       "      <th>PC3</th>\n",
       "      <th>PC4</th>\n",
       "      <th>PC5</th>\n",
       "      <th>PC6</th>\n",
       "    </tr>\n",
       "    <tr>\n",
       "      <th>variable</th>\n",
       "      <th></th>\n",
       "      <th></th>\n",
       "      <th></th>\n",
       "      <th></th>\n",
       "      <th></th>\n",
       "      <th></th>\n",
       "    </tr>\n",
       "  </thead>\n",
       "  <tbody>\n",
       "    <tr>\n",
       "      <th>A</th>\n",
       "      <td>-0.510898</td>\n",
       "      <td>0.452234</td>\n",
       "      <td>0.227356</td>\n",
       "      <td>-0.323464</td>\n",
       "      <td>0.614881</td>\n",
       "      <td>0.008372</td>\n",
       "    </tr>\n",
       "    <tr>\n",
       "      <th>B</th>\n",
       "      <td>-0.085908</td>\n",
       "      <td>0.401197</td>\n",
       "      <td>0.708556</td>\n",
       "      <td>0.132788</td>\n",
       "      <td>-0.558448</td>\n",
       "      <td>-0.010616</td>\n",
       "    </tr>\n",
       "    <tr>\n",
       "      <th>C</th>\n",
       "      <td>0.477477</td>\n",
       "      <td>-0.100994</td>\n",
       "      <td>0.462437</td>\n",
       "      <td>0.487951</td>\n",
       "      <td>0.556605</td>\n",
       "      <td>0.007893</td>\n",
       "    </tr>\n",
       "    <tr>\n",
       "      <th>D</th>\n",
       "      <td>0.370318</td>\n",
       "      <td>0.611485</td>\n",
       "      <td>-0.308295</td>\n",
       "      <td>0.054973</td>\n",
       "      <td>-0.007642</td>\n",
       "      <td>0.625159</td>\n",
       "    </tr>\n",
       "    <tr>\n",
       "      <th>E</th>\n",
       "      <td>0.568491</td>\n",
       "      <td>0.300118</td>\n",
       "      <td>-0.011775</td>\n",
       "      <td>-0.484115</td>\n",
       "      <td>0.009382</td>\n",
       "      <td>-0.593425</td>\n",
       "    </tr>\n",
       "    <tr>\n",
       "      <th>F</th>\n",
       "      <td>0.208090</td>\n",
       "      <td>-0.400426</td>\n",
       "      <td>0.370440</td>\n",
       "      <td>-0.634234</td>\n",
       "      <td>-0.010111</td>\n",
       "      <td>0.506732</td>\n",
       "    </tr>\n",
       "  </tbody>\n",
       "</table>\n",
       "</div>"
      ],
      "text/plain": [
       "               PC1       PC2       PC3       PC4       PC5       PC6\n",
       "variable                                                            \n",
       "A        -0.510898  0.452234  0.227356 -0.323464  0.614881  0.008372\n",
       "B        -0.085908  0.401197  0.708556  0.132788 -0.558448 -0.010616\n",
       "C         0.477477 -0.100994  0.462437  0.487951  0.556605  0.007893\n",
       "D         0.370318  0.611485 -0.308295  0.054973 -0.007642  0.625159\n",
       "E         0.568491  0.300118 -0.011775 -0.484115  0.009382 -0.593425\n",
       "F         0.208090 -0.400426  0.370440 -0.634234 -0.010111  0.506732"
      ]
     },
     "execution_count": 50,
     "metadata": {},
     "output_type": "execute_result"
    }
   ],
   "source": [
    "loadings = pca_out.components_\n",
    "num_pc = pca_out.n_features_\n",
    "pc_list = [\"PC\"+str(i) for i in list(range(1, num_pc+1))]\n",
    "loadings_df = pd.DataFrame.from_dict(dict(zip(pc_list, loadings)))\n",
    "loadings_df['variable'] = df.columns.values\n",
    "loadings_df = loadings_df.set_index('variable')\n",
    "loadings_df"
   ]
  },
  {
   "cell_type": "code",
   "execution_count": 51,
   "metadata": {},
   "outputs": [
    {
     "data": {
      "image/png": "[encoded data removed]",
      "text/plain": [
       "<Figure size 640x480 with 2 Axes>"
      ]
     },
     "metadata": {},
     "output_type": "display_data"
    }
   ],
   "source": [
    "# get correlation matrix plot for loadings\n",
    "import seaborn as sns\n",
    "import matplotlib.pyplot as plt\n",
    "ax = sns.heatmap(loadings_df, annot=True, cmap='Spectral')\n",
    "plt.show()"
   ]
  },
  {
   "cell_type": "code",
   "execution_count": 52,
   "metadata": {},
   "outputs": [
    {
     "data": {
      "text/plain": [
       "array([1.78994905, 1.65136965, 1.39299071, 1.15924943, 0.0086743 ,\n",
       "       0.00684401])"
      ]
     },
     "execution_count": 52,
     "metadata": {},
     "output_type": "execute_result"
    }
   ],
   "source": [
    "# get eigenvalues (variance explained by each PC)  \n",
    "pca_out.explained_variance_"
   ]
  },
  {
   "cell_type": "code",
   "execution_count": 55,
   "metadata": {},
   "outputs": [],
   "source": [
    "from bioinfokit.visuz import cluster\n",
    "cluster.screeplot(obj=[pc_list, pca_out.explained_variance_ratio_])\n"
   ]
  },
  {
   "cell_type": "code",
   "execution_count": 56,
   "metadata": {},
   "outputs": [],
   "source": [
    "# get PCA loadings plots (2D and 3D)\n",
    "# 2D\n",
    "cluster.pcaplot(x=loadings[0], y=loadings[1], labels=df.columns.values, \n",
    "    var1=round(pca_out.explained_variance_ratio_[0]*100, 2),\n",
    "    var2=round(pca_out.explained_variance_ratio_[1]*100, 2))\n",
    "\n",
    "# 3D\n",
    "cluster.pcaplot(x=loadings[0], y=loadings[1], z=loadings[2],  labels=df.columns.values, \n",
    "    var1=round(pca_out.explained_variance_ratio_[0]*100, 2), var2=round(pca_out.explained_variance_ratio_[1]*100, 2), \n",
    "    var3=round(pca_out.explained_variance_ratio_[2]*100, 2))"
   ]
  },
  {
   "cell_type": "code",
   "execution_count": null,
   "metadata": {},
   "outputs": [],
   "source": [
    "# get PC scores\n",
    "pca_scores = PCA().fit_transform(df_st)\n",
    "\n",
    "# get 2D biplot\n",
    "cluster.biplot(cscore=pca_scores, loadings=loadings, labels=df.columns.values, var1=round(pca_out.explained_variance_ratio_[0]*100, 2),\n",
    "    var2=round(pca_out.explained_variance_ratio_[1]*100, 2))\n",
    "    \n",
    "# get 3D biplot\n",
    "cluster.biplot(cscore=pca_scores, loadings=loadings, labels=df.columns.values, \n",
    "    var1=round(pca_out.explained_variance_ratio_[0]*100, 2), var2=round(pca_out.explained_variance_ratio_[1]*100, 2), \n",
    "    var3=round(pca_out.explained_variance_ratio_[2]*100, 2))"
   ]
  },
  {
   "cell_type": "code",
   "execution_count": null,
   "metadata": {},
   "outputs": [],
   "source": []
  },
  {
   "cell_type": "code",
   "execution_count": null,
   "metadata": {},
   "outputs": [],
   "source": []
  }
 ],
 "metadata": {
  "kernelspec": {
   "display_name": "Python 3",
   "language": "python",
   "name": "python3"
  },
  "language_info": {
   "codemirror_mode": {
    "name": "ipython",
    "version": 3
   },
   "file_extension": ".py",
   "mimetype": "text/x-python",
   "name": "python",
   "nbconvert_exporter": "python",
   "pygments_lexer": "ipython3",
   "version": "3.10.9"
  },
  "orig_nbformat": 4
 },
 "nbformat": 4,
 "nbformat_minor": 2
}
