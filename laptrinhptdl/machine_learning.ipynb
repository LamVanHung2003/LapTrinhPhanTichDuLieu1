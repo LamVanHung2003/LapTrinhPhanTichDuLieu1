{
 "cells": [
  {
   "cell_type": "code",
   "execution_count": 1,
   "metadata": {},
   "outputs": [],
   "source": [
    "import pandas as pd\n",
    "import matplotlib.pyplot as plt\n",
    "import seaborn as sns"
   ]
  },
  {
   "cell_type": "code",
   "execution_count": 2,
   "metadata": {},
   "outputs": [
    {
     "data": {
      "text/html": [
       "<div>\n",
       "<style scoped>\n",
       "    .dataframe tbody tr th:only-of-type {\n",
       "        vertical-align: middle;\n",
       "    }\n",
       "\n",
       "    .dataframe tbody tr th {\n",
       "        vertical-align: top;\n",
       "    }\n",
       "\n",
       "    .dataframe thead th {\n",
       "        text-align: right;\n",
       "    }\n",
       "</style>\n",
       "<table border=\"1\" class=\"dataframe\">\n",
       "  <thead>\n",
       "    <tr style=\"text-align: right;\">\n",
       "      <th></th>\n",
       "      <th>MSSV</th>\n",
       "      <th>T1</th>\n",
       "      <th>T2</th>\n",
       "      <th>T3</th>\n",
       "      <th>T4</th>\n",
       "      <th>T5</th>\n",
       "      <th>T6</th>\n",
       "      <th>GT</th>\n",
       "      <th>DT</th>\n",
       "      <th>KV</th>\n",
       "      <th>NGONNGU</th>\n",
       "      <th>LOGIC</th>\n",
       "      <th>UNGXU</th>\n",
       "      <th>KT</th>\n",
       "      <th>NGAYTHI</th>\n",
       "      <th>HUONGNGHIEP</th>\n",
       "    </tr>\n",
       "  </thead>\n",
       "  <tbody>\n",
       "    <tr>\n",
       "      <th>0</th>\n",
       "      <td>SV001</td>\n",
       "      <td>7.2</td>\n",
       "      <td>8.4</td>\n",
       "      <td>7.4</td>\n",
       "      <td>7.2</td>\n",
       "      <td>7.4</td>\n",
       "      <td>6.9</td>\n",
       "      <td>F</td>\n",
       "      <td>NaN</td>\n",
       "      <td>2NT</td>\n",
       "      <td>3.25</td>\n",
       "      <td>3.25</td>\n",
       "      <td>4.50</td>\n",
       "      <td>A1</td>\n",
       "      <td>12/7/2018</td>\n",
       "      <td>No</td>\n",
       "    </tr>\n",
       "    <tr>\n",
       "      <th>1</th>\n",
       "      <td>SV002</td>\n",
       "      <td>5.4</td>\n",
       "      <td>6.3</td>\n",
       "      <td>4.3</td>\n",
       "      <td>4.9</td>\n",
       "      <td>3.0</td>\n",
       "      <td>4.0</td>\n",
       "      <td>M</td>\n",
       "      <td>NaN</td>\n",
       "      <td>1</td>\n",
       "      <td>6.00</td>\n",
       "      <td>4.00</td>\n",
       "      <td>3.50</td>\n",
       "      <td>C</td>\n",
       "      <td>12/7/2018</td>\n",
       "      <td>Yes</td>\n",
       "    </tr>\n",
       "    <tr>\n",
       "      <th>2</th>\n",
       "      <td>SV003</td>\n",
       "      <td>5.6</td>\n",
       "      <td>5.0</td>\n",
       "      <td>2.8</td>\n",
       "      <td>6.1</td>\n",
       "      <td>4.8</td>\n",
       "      <td>5.7</td>\n",
       "      <td>M</td>\n",
       "      <td>NaN</td>\n",
       "      <td>1</td>\n",
       "      <td>5.00</td>\n",
       "      <td>6.75</td>\n",
       "      <td>4.00</td>\n",
       "      <td>C</td>\n",
       "      <td>12/7/2018</td>\n",
       "      <td>No</td>\n",
       "    </tr>\n",
       "    <tr>\n",
       "      <th>3</th>\n",
       "      <td>SV004</td>\n",
       "      <td>6.6</td>\n",
       "      <td>5.1</td>\n",
       "      <td>5.9</td>\n",
       "      <td>4.1</td>\n",
       "      <td>6.1</td>\n",
       "      <td>7.4</td>\n",
       "      <td>M</td>\n",
       "      <td>NaN</td>\n",
       "      <td>1</td>\n",
       "      <td>4.25</td>\n",
       "      <td>4.25</td>\n",
       "      <td>5.25</td>\n",
       "      <td>D1</td>\n",
       "      <td>12/7/2018</td>\n",
       "      <td>No</td>\n",
       "    </tr>\n",
       "    <tr>\n",
       "      <th>4</th>\n",
       "      <td>SV005</td>\n",
       "      <td>6.0</td>\n",
       "      <td>5.4</td>\n",
       "      <td>7.6</td>\n",
       "      <td>4.4</td>\n",
       "      <td>6.8</td>\n",
       "      <td>8.0</td>\n",
       "      <td>M</td>\n",
       "      <td>NaN</td>\n",
       "      <td>2NT</td>\n",
       "      <td>4.25</td>\n",
       "      <td>4.50</td>\n",
       "      <td>5.00</td>\n",
       "      <td>A</td>\n",
       "      <td>12/7/2018</td>\n",
       "      <td>No</td>\n",
       "    </tr>\n",
       "    <tr>\n",
       "      <th>...</th>\n",
       "      <td>...</td>\n",
       "      <td>...</td>\n",
       "      <td>...</td>\n",
       "      <td>...</td>\n",
       "      <td>...</td>\n",
       "      <td>...</td>\n",
       "      <td>...</td>\n",
       "      <td>...</td>\n",
       "      <td>...</td>\n",
       "      <td>...</td>\n",
       "      <td>...</td>\n",
       "      <td>...</td>\n",
       "      <td>...</td>\n",
       "      <td>...</td>\n",
       "      <td>...</td>\n",
       "      <td>...</td>\n",
       "    </tr>\n",
       "    <tr>\n",
       "      <th>95</th>\n",
       "      <td>SV0096</td>\n",
       "      <td>8.6</td>\n",
       "      <td>8.9</td>\n",
       "      <td>7.7</td>\n",
       "      <td>6.7</td>\n",
       "      <td>7.9</td>\n",
       "      <td>6.6</td>\n",
       "      <td>F</td>\n",
       "      <td>NaN</td>\n",
       "      <td>1</td>\n",
       "      <td>5.25</td>\n",
       "      <td>1.50</td>\n",
       "      <td>6.25</td>\n",
       "      <td>C</td>\n",
       "      <td>7/20/2022</td>\n",
       "      <td>Yes</td>\n",
       "    </tr>\n",
       "    <tr>\n",
       "      <th>96</th>\n",
       "      <td>SV0097</td>\n",
       "      <td>3.7</td>\n",
       "      <td>4.1</td>\n",
       "      <td>3.1</td>\n",
       "      <td>3.4</td>\n",
       "      <td>5.5</td>\n",
       "      <td>5.7</td>\n",
       "      <td>F</td>\n",
       "      <td>NaN</td>\n",
       "      <td>1</td>\n",
       "      <td>5.25</td>\n",
       "      <td>3.75</td>\n",
       "      <td>4.75</td>\n",
       "      <td>C</td>\n",
       "      <td>7/20/2022</td>\n",
       "      <td>No</td>\n",
       "    </tr>\n",
       "    <tr>\n",
       "      <th>97</th>\n",
       "      <td>SV0098</td>\n",
       "      <td>8.8</td>\n",
       "      <td>9.5</td>\n",
       "      <td>9.5</td>\n",
       "      <td>8.5</td>\n",
       "      <td>9.0</td>\n",
       "      <td>8.5</td>\n",
       "      <td>M</td>\n",
       "      <td>NaN</td>\n",
       "      <td>2NT</td>\n",
       "      <td>7.00</td>\n",
       "      <td>8.00</td>\n",
       "      <td>4.00</td>\n",
       "      <td>C</td>\n",
       "      <td>7/20/2022</td>\n",
       "      <td>Yes</td>\n",
       "    </tr>\n",
       "    <tr>\n",
       "      <th>98</th>\n",
       "      <td>SV0099</td>\n",
       "      <td>2.7</td>\n",
       "      <td>2.8</td>\n",
       "      <td>6.2</td>\n",
       "      <td>5.2</td>\n",
       "      <td>4.1</td>\n",
       "      <td>4.3</td>\n",
       "      <td>M</td>\n",
       "      <td>NaN</td>\n",
       "      <td>1</td>\n",
       "      <td>5.00</td>\n",
       "      <td>3.50</td>\n",
       "      <td>5.50</td>\n",
       "      <td>C</td>\n",
       "      <td>7/20/2022</td>\n",
       "      <td>No</td>\n",
       "    </tr>\n",
       "    <tr>\n",
       "      <th>99</th>\n",
       "      <td>SV00100</td>\n",
       "      <td>4.1</td>\n",
       "      <td>4.4</td>\n",
       "      <td>6.0</td>\n",
       "      <td>4.3</td>\n",
       "      <td>5.6</td>\n",
       "      <td>5.1</td>\n",
       "      <td>M</td>\n",
       "      <td>NaN</td>\n",
       "      <td>2NT</td>\n",
       "      <td>5.25</td>\n",
       "      <td>2.50</td>\n",
       "      <td>4.25</td>\n",
       "      <td>C</td>\n",
       "      <td>7/20/2022</td>\n",
       "      <td>Yes</td>\n",
       "    </tr>\n",
       "  </tbody>\n",
       "</table>\n",
       "<p>100 rows × 16 columns</p>\n",
       "</div>"
      ],
      "text/plain": [
       "       MSSV   T1   T2   T3   T4   T5   T6 GT  DT   KV  NGONNGU  LOGIC  UNGXU  \\\n",
       "0     SV001  7.2  8.4  7.4  7.2  7.4  6.9  F NaN  2NT     3.25   3.25   4.50   \n",
       "1     SV002  5.4  6.3  4.3  4.9  3.0  4.0  M NaN    1     6.00   4.00   3.50   \n",
       "2     SV003  5.6  5.0  2.8  6.1  4.8  5.7  M NaN    1     5.00   6.75   4.00   \n",
       "3     SV004  6.6  5.1  5.9  4.1  6.1  7.4  M NaN    1     4.25   4.25   5.25   \n",
       "4     SV005  6.0  5.4  7.6  4.4  6.8  8.0  M NaN  2NT     4.25   4.50   5.00   \n",
       "..      ...  ...  ...  ...  ...  ...  ... ..  ..  ...      ...    ...    ...   \n",
       "95   SV0096  8.6  8.9  7.7  6.7  7.9  6.6  F NaN    1     5.25   1.50   6.25   \n",
       "96   SV0097  3.7  4.1  3.1  3.4  5.5  5.7  F NaN    1     5.25   3.75   4.75   \n",
       "97   SV0098  8.8  9.5  9.5  8.5  9.0  8.5  M NaN  2NT     7.00   8.00   4.00   \n",
       "98   SV0099  2.7  2.8  6.2  5.2  4.1  4.3  M NaN    1     5.00   3.50   5.50   \n",
       "99  SV00100  4.1  4.4  6.0  4.3  5.6  5.1  M NaN  2NT     5.25   2.50   4.25   \n",
       "\n",
       "    KT    NGAYTHI HUONGNGHIEP  \n",
       "0   A1  12/7/2018          No  \n",
       "1    C  12/7/2018         Yes  \n",
       "2    C  12/7/2018          No  \n",
       "3   D1  12/7/2018          No  \n",
       "4    A  12/7/2018          No  \n",
       "..  ..        ...         ...  \n",
       "95   C  7/20/2022         Yes  \n",
       "96   C  7/20/2022          No  \n",
       "97   C  7/20/2022         Yes  \n",
       "98   C  7/20/2022          No  \n",
       "99   C  7/20/2022         Yes  \n",
       "\n",
       "[100 rows x 16 columns]"
      ]
     },
     "execution_count": 2,
     "metadata": {},
     "output_type": "execute_result"
    }
   ],
   "source": [
    "df = pd.read_csv('dulieuxettuyendaihoc.csv', header=0, delimiter=',', encoding='utf-8')\n",
    "df.rename(columns={'TOANLOGICPHANTICH': 'LOGIC', 'GIAIQUYETVANDE':'UNGXU', 'DINHHUONGNGHENGHIEP':'HUONGNGHIEP'}, inplace=True)\n",
    "df"
   ]
  },
  {
   "cell_type": "code",
   "execution_count": 3,
   "metadata": {},
   "outputs": [
    {
     "data": {
      "text/plain": [
       "'\\nDẫn nhập machine learning\\n- Dựa trên dữ liệu lịch sử (Historical data) để xây dựng mô hình (Model)\\n- Input đi qua Model (mô hình toán học) sẽ tính toán cho ra Output \\nCác bài toán phổ biến\\n\\n1. Dự báo (Prediction)\\n2. Phân loại (Classification)\\n3. Gom cụm (Clustering)\\n4. Luật kết hợp (Association rules)\\n\\nCác phương pháp phổ biến\\n1. supervised\\n2. un-supervised\\n3. semi-supervised learning\\n\\nQuy trình xây dựng ứng dụng Machine Learning\\n'"
      ]
     },
     "execution_count": 3,
     "metadata": {},
     "output_type": "execute_result"
    }
   ],
   "source": [
    "# Machine learning\n",
    "'''\n",
    "Dẫn nhập machine learning\n",
    "- Dựa trên dữ liệu lịch sử (Historical data) để xây dựng mô hình (Model)\n",
    "- Input đi qua Model (mô hình toán học) sẽ tính toán cho ra Output \n",
    "Các bài toán phổ biến\n",
    "\n",
    "1. Dự báo (Prediction)\n",
    "2. Phân loại (Classification)\n",
    "3. Gom cụm (Clustering)\n",
    "4. Luật kết hợp (Association rules)\n",
    "\n",
    "Các phương pháp phổ biến\n",
    "1. supervised\n",
    "2. un-supervised\n",
    "3. semi-supervised learning\n",
    "\n",
    "Quy trình xây dựng ứng dụng Machine Learning\n",
    "'''"
   ]
  },
  {
   "cell_type": "code",
   "execution_count": 5,
   "metadata": {},
   "outputs": [
    {
     "data": {
      "text/plain": [
       "'\\nDẫn nhập hồi quy tuyến tính\\nỨng dụng trong bài toán Prediction\\n\\nBài toán 1: Hãy dự báo điểm T6 dựa trên T5\\ninput: T5\\n'"
      ]
     },
     "execution_count": 5,
     "metadata": {},
     "output_type": "execute_result"
    }
   ],
   "source": [
    "'''\n",
    "Dẫn nhập hồi quy tuyến tính\n",
    "Ứng dụng trong bài toán Prediction\n",
    "\n",
    "Bài toán 1: Hãy dự báo điểm T6 dựa trên T5\n",
    "input: T5\n",
    "Output T6\n",
    "T6 = f(T5) -> T6 = Ao + A1.T5 + epsilon\n",
    "'''"
   ]
  },
  {
   "cell_type": "code",
   "execution_count": 3,
   "metadata": {},
   "outputs": [
    {
     "data": {
      "text/html": [
       "<div>\n",
       "<style scoped>\n",
       "    .dataframe tbody tr th:only-of-type {\n",
       "        vertical-align: middle;\n",
       "    }\n",
       "\n",
       "    .dataframe tbody tr th {\n",
       "        vertical-align: top;\n",
       "    }\n",
       "\n",
       "    .dataframe thead th {\n",
       "        text-align: right;\n",
       "    }\n",
       "</style>\n",
       "<table border=\"1\" class=\"dataframe\">\n",
       "  <thead>\n",
       "    <tr style=\"text-align: right;\">\n",
       "      <th></th>\n",
       "      <th>T5</th>\n",
       "      <th>T6</th>\n",
       "    </tr>\n",
       "  </thead>\n",
       "  <tbody>\n",
       "    <tr>\n",
       "      <th>0</th>\n",
       "      <td>7.4</td>\n",
       "      <td>6.9</td>\n",
       "    </tr>\n",
       "    <tr>\n",
       "      <th>1</th>\n",
       "      <td>3.0</td>\n",
       "      <td>4.0</td>\n",
       "    </tr>\n",
       "    <tr>\n",
       "      <th>2</th>\n",
       "      <td>4.8</td>\n",
       "      <td>5.7</td>\n",
       "    </tr>\n",
       "    <tr>\n",
       "      <th>3</th>\n",
       "      <td>6.1</td>\n",
       "      <td>7.4</td>\n",
       "    </tr>\n",
       "    <tr>\n",
       "      <th>4</th>\n",
       "      <td>6.8</td>\n",
       "      <td>8.0</td>\n",
       "    </tr>\n",
       "  </tbody>\n",
       "</table>\n",
       "</div>"
      ],
      "text/plain": [
       "    T5   T6\n",
       "0  7.4  6.9\n",
       "1  3.0  4.0\n",
       "2  4.8  5.7\n",
       "3  6.1  7.4\n",
       "4  6.8  8.0"
      ]
     },
     "execution_count": 3,
     "metadata": {},
     "output_type": "execute_result"
    }
   ],
   "source": [
    "df[['T5','T6']].head(5)"
   ]
  },
  {
   "cell_type": "code",
   "execution_count": 4,
   "metadata": {},
   "outputs": [
    {
     "data": {
      "text/html": [
       "<div>\n",
       "<style scoped>\n",
       "    .dataframe tbody tr th:only-of-type {\n",
       "        vertical-align: middle;\n",
       "    }\n",
       "\n",
       "    .dataframe tbody tr th {\n",
       "        vertical-align: top;\n",
       "    }\n",
       "\n",
       "    .dataframe thead th {\n",
       "        text-align: right;\n",
       "    }\n",
       "</style>\n",
       "<table border=\"1\" class=\"dataframe\">\n",
       "  <thead>\n",
       "    <tr style=\"text-align: right;\">\n",
       "      <th></th>\n",
       "      <th>T5</th>\n",
       "      <th>T6</th>\n",
       "    </tr>\n",
       "  </thead>\n",
       "  <tbody>\n",
       "    <tr>\n",
       "      <th>T5</th>\n",
       "      <td>1.000000</td>\n",
       "      <td>0.778683</td>\n",
       "    </tr>\n",
       "    <tr>\n",
       "      <th>T6</th>\n",
       "      <td>0.778683</td>\n",
       "      <td>1.000000</td>\n",
       "    </tr>\n",
       "  </tbody>\n",
       "</table>\n",
       "</div>"
      ],
      "text/plain": [
       "          T5        T6\n",
       "T5  1.000000  0.778683\n",
       "T6  0.778683  1.000000"
      ]
     },
     "execution_count": 4,
     "metadata": {},
     "output_type": "execute_result"
    }
   ],
   "source": [
    "df[['T5','T6']].corr()"
   ]
  },
  {
   "cell_type": "code",
   "execution_count": 5,
   "metadata": {},
   "outputs": [
    {
     "data": {
      "image/png": "[encoded data removed]",
      "text/plain": [
       "<Figure size 640x480 with 1 Axes>"
      ]
     },
     "metadata": {},
     "output_type": "display_data"
    }
   ],
   "source": [
    "plt.plot(df[['T5']][0:5],df[['T6']][0:5],'ro')\n",
    "plt.show()"
   ]
  },
  {
   "cell_type": "code",
   "execution_count": 6,
   "metadata": {},
   "outputs": [
    {
     "data": {
      "text/plain": [
       "'\\nLý thuyết về hồi quy tuyến tính\\n1. Phương pháp giải\\n\\n2. Các Phương pháp giải tối ưu chi phí tính toán\\n\\n3. DLS tối ưu sai số\\n'"
      ]
     },
     "execution_count": 6,
     "metadata": {},
     "output_type": "execute_result"
    }
   ],
   "source": [
    "'''\n",
    "Lý thuyết về hồi quy tuyến tính\n",
    "1. Phương pháp giải\n",
    "\n",
    "2. Các Phương pháp giải tối ưu chi phí tính toán\n",
    "\n",
    "3. DLS tối ưu sai số\n",
    "'''"
   ]
  },
  {
   "cell_type": "code",
   "execution_count": 13,
   "metadata": {},
   "outputs": [],
   "source": [
    "# Bài toán 2: Hãy dự báo điểm thi đánh giá năng lực phần LOGIC dựa trên điểm trung bình toán học kì 1 và học kì 2 năm lớp 12"
   ]
  },
  {
   "cell_type": "code",
   "execution_count": 7,
   "metadata": {},
   "outputs": [
    {
     "data": {
      "text/plain": [
       "'\\nInput: T5 T6\\nOutput: LOGIC\\nLOGIC = f(T5,T6) = Ao + A1.T5 + A2.T6 + epsilon\\n\\nXây dựng mô hình trong Machine Learning\\nBước 1: Xác định bài toán\\nB2: Xác định input và output\\nB3: Xác định mô hình xử lý\\nB4: Chia tập dữ liệu ra làm 2 phần: training và testing theo tỉ lệ 90% và 10%\\nB5: Chạy mô hình\\nB6: Đánh giá mô hình\\nB7: Triển khai mô hình\\n'"
      ]
     },
     "execution_count": 7,
     "metadata": {},
     "output_type": "execute_result"
    }
   ],
   "source": [
    "'''\n",
    "Input: T5 T6\n",
    "Output: LOGIC\n",
    "LOGIC = f(T5,T6) = Ao + A1.T5 + A2.T6 + epsilon\n",
    "\n",
    "Xây dựng mô hình trong Machine Learning\n",
    "Bước 1: Xác định bài toán\n",
    "B2: Xác định input và output\n",
    "B3: Xác định mô hình xử lý\n",
    "B4: Chia tập dữ liệu ra làm 2 phần: training và testing theo tỉ lệ 90% và 10%\n",
    "B5: Chạy mô hình\n",
    "B6: Đánh giá mô hình\n",
    "B7: Triển khai mô hình\n",
    "'''"
   ]
  },
  {
   "cell_type": "code",
   "execution_count": 22,
   "metadata": {},
   "outputs": [
    {
     "name": "stdout",
     "output_type": "stream",
     "text": [
      "[2.68763106]\n",
      "[[-0.11189321  0.3331366 ]]\n"
     ]
    }
   ],
   "source": [
    "# Tập dữ liệu\n",
    "X = df[['T5','T6']].values #input\n",
    "y = df[['LOGIC']].values #output\n",
    "\n",
    "#Chia tách ra training và testing\n",
    "from sklearn.model_selection import train_test_split\n",
    "X_train, X_test, y_train, y_test = train_test_split(X,y,test_size=0.1,random_state=5)\n",
    "\n",
    "#Xây dựng mô hình hồi quy tuyến tính đa biến\n",
    "# LOGIC = A0 + A1*T5 + A2*T6 + epsilon\n",
    "from sklearn import linear_model\n",
    "\n",
    "model = linear_model.LinearRegression()\n",
    "model.fit(X_train,y_train)\n",
    "\n",
    "#To retrieve the intercept:\n",
    "# intercept: hệ số tự do\n",
    "print(model.intercept_)\n",
    "\n",
    "#For retrieving the slope (cofficient):\n",
    "print(model.coef_)\n",
    "# A0, A1, A2 tương ứng với các số dưới"
   ]
  },
  {
   "cell_type": "code",
   "execution_count": 10,
   "metadata": {},
   "outputs": [],
   "source": [
    "pd.DataFrame(X_test).to_csv(\"input_test.csv\")"
   ]
  },
  {
   "cell_type": "code",
   "execution_count": 11,
   "metadata": {},
   "outputs": [],
   "source": [
    "pd.DataFrame(y_test).to_csv(\"output_test.csv\")"
   ]
  },
  {
   "cell_type": "code",
   "execution_count": 12,
   "metadata": {},
   "outputs": [],
   "source": [
    "# Tính toán giá trị điểm thi LOGIC dựa trên mô hình\n",
    "from sklearn import metrics\n",
    "\n",
    "y_test_pred = model.predict(X_test)"
   ]
  },
  {
   "cell_type": "code",
   "execution_count": 13,
   "metadata": {},
   "outputs": [],
   "source": [
    "pd.DataFrame(y_test_pred).to_csv(\"output_test_pred.csv\")"
   ]
  },
  {
   "cell_type": "code",
   "execution_count": 14,
   "metadata": {},
   "outputs": [
    {
     "name": "stdout",
     "output_type": "stream",
     "text": [
      "Mean Absolute Error: 0.7739518570284657\n",
      "Mean Squared Error: 0.8285004273228378\n",
      "Root Mean Squared Error: 0.9102199884219406\n",
      "Scored: -0.06473950499320513\n"
     ]
    }
   ],
   "source": [
    "# sử dụng các hàm python để đánh giá chất lượng mô hình trên tập test\n",
    "'''\n",
    "Tính toán các MAE, MSE, RMSE trên các tập training và test để đánh giá mô hình\n",
    "Sau đó đưa ra kết luận\n",
    "'''\n",
    "import numpy as np\n",
    "print('Mean Absolute Error:', metrics.mean_absolute_error(y_test,y_test_pred))\n",
    "print('Mean Squared Error:', metrics.mean_squared_error(y_test,y_test_pred))\n",
    "print('Root Mean Squared Error:', np.sqrt(metrics.mean_squared_error(y_test,y_test_pred)))\n",
    "print('Scored:', model.score(X_test,y_test))"
   ]
  },
  {
   "cell_type": "code",
   "execution_count": 15,
   "metadata": {},
   "outputs": [
    {
     "data": {
      "text/plain": [
       "'\\nHomework: Sử dụng độ đo đánh giá mô hình RMSE trên tập train và test.\\nHãy trả lời câu hỏi sau:\\n- Nếu kết quả rmse trên tập train > rmse trên tập test thì mô hình có ý nghĩa là gì\\n- Tương tự cho trường hợp bằng nhau và bé hơn\\n# overfit, underfit\\n'"
      ]
     },
     "execution_count": 15,
     "metadata": {},
     "output_type": "execute_result"
    }
   ],
   "source": [
    "'''\n",
    "Homework: Sử dụng độ đo đánh giá mô hình RMSE trên tập train và test.\n",
    "Hãy trả lời câu hỏi sau:\n",
    "- Nếu kết quả rmse trên tập train > rmse trên tập test thì mô hình có ý nghĩa là gì\n",
    "- Tương tự cho trường hợp bằng nhau và bé hơn\n",
    "# overfit, underfit\n",
    "'''"
   ]
  },
  {
   "cell_type": "code",
   "execution_count": 16,
   "metadata": {},
   "outputs": [
    {
     "data": {
      "image/png": "[encoded data removed]",
      "text/plain": [
       "<Figure size 1000x1000 with 1 Axes>"
      ]
     },
     "metadata": {},
     "output_type": "display_data"
    }
   ],
   "source": [
    "'''\n",
    "Trực quan hoá dữ liệu điểm thi LOGIC thực (Actual) và dữ liệu LOGIC\n",
    "theo dự báo (Predicted) trên tập test\n",
    "y_test: actual value\n",
    "y_test_pred: predicted value\n",
    "'''\n",
    "plt.figure(figsize=(10,10))\n",
    "plt.scatter(y_test,y_test_pred,c='crimson')\n",
    "plt.yscale('log')\n",
    "plt.xscale('log')\n",
    "\n",
    "p1 = max(max(y_test_pred), max(y_test))\n",
    "p2 = min(min(y_test_pred), min(y_test))\n",
    "plt.plot([p1,p2],[p1,p2],'b-')\n",
    "plt.xlabel('True values', fontsize=15)\n",
    "plt.ylabel('Predicted', fontsize=15)\n",
    "plt.axis('equal')\n",
    "plt.show()\n"
   ]
  },
  {
   "cell_type": "code",
   "execution_count": 17,
   "metadata": {},
   "outputs": [],
   "source": [
    "# Residual Plot\n",
    "# Tự nghiên cứu"
   ]
  },
  {
   "cell_type": "code",
   "execution_count": 18,
   "metadata": {},
   "outputs": [],
   "source": [
    "# Lưu trữ mô hình đã huấn luyện xuống ổ đĩa\n",
    "'''\n",
    "Lưu trữ mô hình hồi quy xuống thiết bị lưu trữ với tên model_linear_regression.sav\n",
    "'''\n",
    "import pickle\n",
    "pickle.dump(model,open('model_linear_regression.sav','wb'))"
   ]
  },
  {
   "cell_type": "code",
   "execution_count": 19,
   "metadata": {},
   "outputs": [
    {
     "ename": "KeyboardInterrupt",
     "evalue": "Interrupted by user",
     "output_type": "error",
     "traceback": [
      "\u001b[1;31m---------------------------------------------------------------------------\u001b[0m",
      "\u001b[1;31mKeyboardInterrupt\u001b[0m                         Traceback (most recent call last)",
      "\u001b[1;32me:\\laptrinhptdl\\machine_learning.ipynb Cell 21\u001b[0m in \u001b[0;36m<cell line: 7>\u001b[1;34m()\u001b[0m\n\u001b[0;32m      <a href='vscode-notebook-cell:/e%3A/laptrinhptdl/machine_learning.ipynb#X26sZmlsZQ%3D%3D?line=3'>4</a>\u001b[0m \u001b[39m# Load model từ storage\u001b[39;00m\n\u001b[0;32m      <a href='vscode-notebook-cell:/e%3A/laptrinhptdl/machine_learning.ipynb#X26sZmlsZQ%3D%3D?line=4'>5</a>\u001b[0m loaded_model \u001b[39m=\u001b[39m pickle\u001b[39m.\u001b[39mload(\u001b[39mopen\u001b[39m(\u001b[39m'\u001b[39m\u001b[39mmodel_linear_regression.sav\u001b[39m\u001b[39m'\u001b[39m,\u001b[39m'\u001b[39m\u001b[39mrb\u001b[39m\u001b[39m'\u001b[39m))\n\u001b[1;32m----> <a href='vscode-notebook-cell:/e%3A/laptrinhptdl/machine_learning.ipynb#X26sZmlsZQ%3D%3D?line=6'>7</a>\u001b[0m vT5 \u001b[39m=\u001b[39m \u001b[39mfloat\u001b[39m(\u001b[39minput\u001b[39;49m(\u001b[39m'\u001b[39;49m\u001b[39mĐiểm học kì 1 năm lớp 12: \u001b[39;49m\u001b[39m'\u001b[39;49m))\n\u001b[0;32m      <a href='vscode-notebook-cell:/e%3A/laptrinhptdl/machine_learning.ipynb#X26sZmlsZQ%3D%3D?line=7'>8</a>\u001b[0m vT6 \u001b[39m=\u001b[39m \u001b[39mfloat\u001b[39m(\u001b[39minput\u001b[39m(\u001b[39m'\u001b[39m\u001b[39mĐiểm học kì 2 năm lớp 12: \u001b[39m\u001b[39m'\u001b[39m))\n\u001b[0;32m     <a href='vscode-notebook-cell:/e%3A/laptrinhptdl/machine_learning.ipynb#X26sZmlsZQ%3D%3D?line=9'>10</a>\u001b[0m predicted_vLogic \u001b[39m=\u001b[39m loaded_model\u001b[39m.\u001b[39mpredict([[vT5,vT6]])\n",
      "File \u001b[1;32m~\\AppData\\Roaming\\Python\\Python310\\site-packages\\ipykernel\\kernelbase.py:1177\u001b[0m, in \u001b[0;36mKernel.raw_input\u001b[1;34m(self, prompt)\u001b[0m\n\u001b[0;32m   1173\u001b[0m \u001b[39mif\u001b[39;00m \u001b[39mnot\u001b[39;00m \u001b[39mself\u001b[39m\u001b[39m.\u001b[39m_allow_stdin:\n\u001b[0;32m   1174\u001b[0m     \u001b[39mraise\u001b[39;00m StdinNotImplementedError(\n\u001b[0;32m   1175\u001b[0m         \u001b[39m\"\u001b[39m\u001b[39mraw_input was called, but this frontend does not support input requests.\u001b[39m\u001b[39m\"\u001b[39m\n\u001b[0;32m   1176\u001b[0m     )\n\u001b[1;32m-> 1177\u001b[0m \u001b[39mreturn\u001b[39;00m \u001b[39mself\u001b[39;49m\u001b[39m.\u001b[39;49m_input_request(\n\u001b[0;32m   1178\u001b[0m     \u001b[39mstr\u001b[39;49m(prompt),\n\u001b[0;32m   1179\u001b[0m     \u001b[39mself\u001b[39;49m\u001b[39m.\u001b[39;49m_parent_ident[\u001b[39m\"\u001b[39;49m\u001b[39mshell\u001b[39;49m\u001b[39m\"\u001b[39;49m],\n\u001b[0;32m   1180\u001b[0m     \u001b[39mself\u001b[39;49m\u001b[39m.\u001b[39;49mget_parent(\u001b[39m\"\u001b[39;49m\u001b[39mshell\u001b[39;49m\u001b[39m\"\u001b[39;49m),\n\u001b[0;32m   1181\u001b[0m     password\u001b[39m=\u001b[39;49m\u001b[39mFalse\u001b[39;49;00m,\n\u001b[0;32m   1182\u001b[0m )\n",
      "File \u001b[1;32m~\\AppData\\Roaming\\Python\\Python310\\site-packages\\ipykernel\\kernelbase.py:1219\u001b[0m, in \u001b[0;36mKernel._input_request\u001b[1;34m(self, prompt, ident, parent, password)\u001b[0m\n\u001b[0;32m   1216\u001b[0m             \u001b[39mbreak\u001b[39;00m\n\u001b[0;32m   1217\u001b[0m \u001b[39mexcept\u001b[39;00m \u001b[39mKeyboardInterrupt\u001b[39;00m:\n\u001b[0;32m   1218\u001b[0m     \u001b[39m# re-raise KeyboardInterrupt, to truncate traceback\u001b[39;00m\n\u001b[1;32m-> 1219\u001b[0m     \u001b[39mraise\u001b[39;00m \u001b[39mKeyboardInterrupt\u001b[39;00m(\u001b[39m\"\u001b[39m\u001b[39mInterrupted by user\u001b[39m\u001b[39m\"\u001b[39m) \u001b[39mfrom\u001b[39;00m \u001b[39mNone\u001b[39m\n\u001b[0;32m   1220\u001b[0m \u001b[39mexcept\u001b[39;00m \u001b[39mException\u001b[39;00m:\n\u001b[0;32m   1221\u001b[0m     \u001b[39mself\u001b[39m\u001b[39m.\u001b[39mlog\u001b[39m.\u001b[39mwarning(\u001b[39m\"\u001b[39m\u001b[39mInvalid Message:\u001b[39m\u001b[39m\"\u001b[39m, exc_info\u001b[39m=\u001b[39m\u001b[39mTrue\u001b[39;00m)\n",
      "\u001b[1;31mKeyboardInterrupt\u001b[0m: Interrupted by user"
     ]
    }
   ],
   "source": [
    "'''\n",
    "Xây dựng chương trình: nhập điểm T5 T6 từ bàn phím, hãy dự báo điểm thi logic\n",
    "'''\n",
    "# Load model từ storage\n",
    "loaded_model = pickle.load(open('model_linear_regression.sav','rb'))\n",
    "\n",
    "vT5 = float(input('Điểm học kì 1 năm lớp 12: '))\n",
    "vT6 = float(input('Điểm học kì 2 năm lớp 12: '))\n",
    "\n",
    "predicted_vLogic = loaded_model.predict([[vT5,vT6]])\n",
    "print(f'Dự báo điểm thi LOGIC là: {predicted_vLogic}')\n",
    "# MAE = 0.77 thì trừ đi sai số [x,y]"
   ]
  },
  {
   "cell_type": "code",
   "execution_count": null,
   "metadata": {},
   "outputs": [],
   "source": []
  }
 ],
 "metadata": {
  "kernelspec": {
   "display_name": "Python 3",
   "language": "python",
   "name": "python3"
  },
  "language_info": {
   "codemirror_mode": {
    "name": "ipython",
    "version": 3
   },
   "file_extension": ".py",
   "mimetype": "text/x-python",
   "name": "python",
   "nbconvert_exporter": "python",
   "pygments_lexer": "ipython3",
   "version": "3.10.9"
  },
  "orig_nbformat": 4
 },
 "nbformat": 4,
 "nbformat_minor": 2
}
