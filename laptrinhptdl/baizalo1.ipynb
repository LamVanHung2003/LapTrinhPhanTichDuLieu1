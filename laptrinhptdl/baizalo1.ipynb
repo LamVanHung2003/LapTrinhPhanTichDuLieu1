{
  "cells": [
    {
      "attachments": {},
      "cell_type": "markdown",
      "metadata": {
        "id": "o6L3lIg_O2JR"
      },
      "source": [
        "'' Bài tập 1: Sử dụng dữ liệu dulieuxettuyendaihoc.csv.\n",
        "Hãy gom cụm điểm trung bình toán của cả 2 học kì năm lớp 12 (gọi là TBT12) và điểm LOGIC với số cụm tốt nhất\n",
        "Thiết lập random_state là 17. Hãy trả lời các câu hỏi bên dưới:  \n",
        "1. Số cụm là bao nhiêu là tốt nhất\n",
        "2. Giá trị các vector thể hiện cho các center của cụm\n",
        "3. Giá trị Lowest SSE đánh giá mô hình\n",
        "4. In ra bảng dữ liệu và kết quả gom cụm\n",
        "5. Hãy cho biết tổng khoảng cách trung bình của 5 phần tử đầu tiên thuộc cụm có nhãn là 1 đến tâm của cụm\n",
        "6. Trực quan tổng hợp thống kê cho kết quả gom cụm\n",
        "7. Trực quan kết quả gom cụm\n",
        "8. Hãy cho biết một sinh viên có TBT12 là 6.78 và điểm thi LOGIC là 5.76 thì sẽ thuộc cụm nào\n",
        "'''\n",
        "\n",
        "''' Bài tập 2: Hãy làm lại các yêu cầu như trên nhưng dùng độ đo (metric) là Manhattan để đo lường sự giống nhau của\n",
        "hai phần tử\n"
      ]
    },
    {
      "cell_type": "code",
      "execution_count": 34,
      "metadata": {
        "id": "gaYBLJGgeh-H"
      },
      "outputs": [],
      "source": [
        "import pandas as pd\n",
        "import numpy as np\n",
        "import seaborn as sns\n",
        "from sklearn.cluster import KMeans\n",
        "import matplotlib.pyplot as plt\n",
        "from kneed import  KneeLocator\n",
        "from sklearn.metrics import silhouette_score\n",
        "\n",
        "\n"
      ]
    },
    {
      "cell_type": "code",
      "execution_count": 35,
      "metadata": {
        "id": "ebC92iglPHQA"
      },
      "outputs": [],
      "source": [
        "df=pd.read_csv('dulieuxettuyendaihoc.csv')"
      ]
    },
    {
      "cell_type": "code",
      "execution_count": 36,
      "metadata": {
        "id": "2tA7cB9qPHSw"
      },
      "outputs": [],
      "source": [
        "df=df[['T5','T6','GT','DT','KV','KT','NGONNGU','TOANLOGICPHANTICH', 'GIAIQUYETVANDE','NGAYTHI','DINHHUONGNGHENGHIEP']]"
      ]
    },
    {
      "cell_type": "code",
      "execution_count": 37,
      "metadata": {
        "id": "l7BPk3YXPHVI"
      },
      "outputs": [],
      "source": [
        "df.rename(columns={'TOANLOGICPHANTICH':'LOGIC','GIAIQUYETVANDE':'UNGXU','DINHHUONGNGHENGHIEP':'HUONGNGHIEP'},inplace=True)"
      ]
    },
    {
      "cell_type": "code",
      "execution_count": 38,
      "metadata": {
        "colab": {
          "base_uri": "https://localhost:8080/",
          "height": 424
        },
        "id": "yalAJ7ssPHXx",
        "outputId": "b201282b-cd95-4200-ed1b-a8ed500a43d5"
      },
      "outputs": [
        {
          "data": {
            "text/html": [
              "<div>\n",
              "<style scoped>\n",
              "    .dataframe tbody tr th:only-of-type {\n",
              "        vertical-align: middle;\n",
              "    }\n",
              "\n",
              "    .dataframe tbody tr th {\n",
              "        vertical-align: top;\n",
              "    }\n",
              "\n",
              "    .dataframe thead th {\n",
              "        text-align: right;\n",
              "    }\n",
              "</style>\n",
              "<table border=\"1\" class=\"dataframe\">\n",
              "  <thead>\n",
              "    <tr style=\"text-align: right;\">\n",
              "      <th></th>\n",
              "      <th>T5</th>\n",
              "      <th>T6</th>\n",
              "      <th>GT</th>\n",
              "      <th>DT</th>\n",
              "      <th>KV</th>\n",
              "      <th>KT</th>\n",
              "      <th>NGONNGU</th>\n",
              "      <th>LOGIC</th>\n",
              "      <th>UNGXU</th>\n",
              "      <th>NGAYTHI</th>\n",
              "      <th>HUONGNGHIEP</th>\n",
              "    </tr>\n",
              "  </thead>\n",
              "  <tbody>\n",
              "    <tr>\n",
              "      <th>0</th>\n",
              "      <td>7.4</td>\n",
              "      <td>6.9</td>\n",
              "      <td>F</td>\n",
              "      <td>NaN</td>\n",
              "      <td>2NT</td>\n",
              "      <td>A1</td>\n",
              "      <td>3.25</td>\n",
              "      <td>3.25</td>\n",
              "      <td>4.50</td>\n",
              "      <td>12/7/2018</td>\n",
              "      <td>No</td>\n",
              "    </tr>\n",
              "    <tr>\n",
              "      <th>1</th>\n",
              "      <td>3.0</td>\n",
              "      <td>4.0</td>\n",
              "      <td>M</td>\n",
              "      <td>NaN</td>\n",
              "      <td>1</td>\n",
              "      <td>C</td>\n",
              "      <td>6.00</td>\n",
              "      <td>4.00</td>\n",
              "      <td>3.50</td>\n",
              "      <td>12/7/2018</td>\n",
              "      <td>Yes</td>\n",
              "    </tr>\n",
              "    <tr>\n",
              "      <th>2</th>\n",
              "      <td>4.8</td>\n",
              "      <td>5.7</td>\n",
              "      <td>M</td>\n",
              "      <td>NaN</td>\n",
              "      <td>1</td>\n",
              "      <td>C</td>\n",
              "      <td>5.00</td>\n",
              "      <td>6.75</td>\n",
              "      <td>4.00</td>\n",
              "      <td>12/7/2018</td>\n",
              "      <td>No</td>\n",
              "    </tr>\n",
              "    <tr>\n",
              "      <th>3</th>\n",
              "      <td>6.1</td>\n",
              "      <td>7.4</td>\n",
              "      <td>M</td>\n",
              "      <td>NaN</td>\n",
              "      <td>1</td>\n",
              "      <td>D1</td>\n",
              "      <td>4.25</td>\n",
              "      <td>4.25</td>\n",
              "      <td>5.25</td>\n",
              "      <td>12/7/2018</td>\n",
              "      <td>No</td>\n",
              "    </tr>\n",
              "    <tr>\n",
              "      <th>4</th>\n",
              "      <td>6.8</td>\n",
              "      <td>8.0</td>\n",
              "      <td>M</td>\n",
              "      <td>NaN</td>\n",
              "      <td>2NT</td>\n",
              "      <td>A</td>\n",
              "      <td>4.25</td>\n",
              "      <td>4.50</td>\n",
              "      <td>5.00</td>\n",
              "      <td>12/7/2018</td>\n",
              "      <td>No</td>\n",
              "    </tr>\n",
              "    <tr>\n",
              "      <th>...</th>\n",
              "      <td>...</td>\n",
              "      <td>...</td>\n",
              "      <td>...</td>\n",
              "      <td>...</td>\n",
              "      <td>...</td>\n",
              "      <td>...</td>\n",
              "      <td>...</td>\n",
              "      <td>...</td>\n",
              "      <td>...</td>\n",
              "      <td>...</td>\n",
              "      <td>...</td>\n",
              "    </tr>\n",
              "    <tr>\n",
              "      <th>95</th>\n",
              "      <td>7.9</td>\n",
              "      <td>6.6</td>\n",
              "      <td>F</td>\n",
              "      <td>NaN</td>\n",
              "      <td>1</td>\n",
              "      <td>C</td>\n",
              "      <td>5.25</td>\n",
              "      <td>1.50</td>\n",
              "      <td>6.25</td>\n",
              "      <td>7/20/2022</td>\n",
              "      <td>Yes</td>\n",
              "    </tr>\n",
              "    <tr>\n",
              "      <th>96</th>\n",
              "      <td>5.5</td>\n",
              "      <td>5.7</td>\n",
              "      <td>F</td>\n",
              "      <td>NaN</td>\n",
              "      <td>1</td>\n",
              "      <td>C</td>\n",
              "      <td>5.25</td>\n",
              "      <td>3.75</td>\n",
              "      <td>4.75</td>\n",
              "      <td>7/20/2022</td>\n",
              "      <td>No</td>\n",
              "    </tr>\n",
              "    <tr>\n",
              "      <th>97</th>\n",
              "      <td>9.0</td>\n",
              "      <td>8.5</td>\n",
              "      <td>M</td>\n",
              "      <td>NaN</td>\n",
              "      <td>2NT</td>\n",
              "      <td>C</td>\n",
              "      <td>7.00</td>\n",
              "      <td>8.00</td>\n",
              "      <td>4.00</td>\n",
              "      <td>7/20/2022</td>\n",
              "      <td>Yes</td>\n",
              "    </tr>\n",
              "    <tr>\n",
              "      <th>98</th>\n",
              "      <td>4.1</td>\n",
              "      <td>4.3</td>\n",
              "      <td>M</td>\n",
              "      <td>NaN</td>\n",
              "      <td>1</td>\n",
              "      <td>C</td>\n",
              "      <td>5.00</td>\n",
              "      <td>3.50</td>\n",
              "      <td>5.50</td>\n",
              "      <td>7/20/2022</td>\n",
              "      <td>No</td>\n",
              "    </tr>\n",
              "    <tr>\n",
              "      <th>99</th>\n",
              "      <td>5.6</td>\n",
              "      <td>5.1</td>\n",
              "      <td>M</td>\n",
              "      <td>NaN</td>\n",
              "      <td>2NT</td>\n",
              "      <td>C</td>\n",
              "      <td>5.25</td>\n",
              "      <td>2.50</td>\n",
              "      <td>4.25</td>\n",
              "      <td>7/20/2022</td>\n",
              "      <td>Yes</td>\n",
              "    </tr>\n",
              "  </tbody>\n",
              "</table>\n",
              "<p>100 rows × 11 columns</p>\n",
              "</div>"
            ],
            "text/plain": [
              "     T5   T6 GT  DT   KV  KT  NGONNGU  LOGIC  UNGXU    NGAYTHI HUONGNGHIEP\n",
              "0   7.4  6.9  F NaN  2NT  A1     3.25   3.25   4.50  12/7/2018          No\n",
              "1   3.0  4.0  M NaN    1   C     6.00   4.00   3.50  12/7/2018         Yes\n",
              "2   4.8  5.7  M NaN    1   C     5.00   6.75   4.00  12/7/2018          No\n",
              "3   6.1  7.4  M NaN    1  D1     4.25   4.25   5.25  12/7/2018          No\n",
              "4   6.8  8.0  M NaN  2NT   A     4.25   4.50   5.00  12/7/2018          No\n",
              "..  ...  ... ..  ..  ...  ..      ...    ...    ...        ...         ...\n",
              "95  7.9  6.6  F NaN    1   C     5.25   1.50   6.25  7/20/2022         Yes\n",
              "96  5.5  5.7  F NaN    1   C     5.25   3.75   4.75  7/20/2022          No\n",
              "97  9.0  8.5  M NaN  2NT   C     7.00   8.00   4.00  7/20/2022         Yes\n",
              "98  4.1  4.3  M NaN    1   C     5.00   3.50   5.50  7/20/2022          No\n",
              "99  5.6  5.1  M NaN  2NT   C     5.25   2.50   4.25  7/20/2022         Yes\n",
              "\n",
              "[100 rows x 11 columns]"
            ]
          },
          "execution_count": 38,
          "metadata": {},
          "output_type": "execute_result"
        }
      ],
      "source": [
        "df"
      ]
    },
    {
      "cell_type": "code",
      "execution_count": 39,
      "metadata": {
        "id": "6VK3QSqcPzZY"
      },
      "outputs": [],
      "source": [
        "df['TBT12']=(df['T5']+df['T6'])/2"
      ]
    },
    {
      "cell_type": "code",
      "execution_count": 40,
      "metadata": {
        "colab": {
          "base_uri": "https://localhost:8080/",
          "height": 424
        },
        "id": "t46GfzrVPzcJ",
        "outputId": "df7dddef-ff12-498f-dcfc-5df9073ae12b"
      },
      "outputs": [
        {
          "data": {
            "text/html": [
              "<div>\n",
              "<style scoped>\n",
              "    .dataframe tbody tr th:only-of-type {\n",
              "        vertical-align: middle;\n",
              "    }\n",
              "\n",
              "    .dataframe tbody tr th {\n",
              "        vertical-align: top;\n",
              "    }\n",
              "\n",
              "    .dataframe thead th {\n",
              "        text-align: right;\n",
              "    }\n",
              "</style>\n",
              "<table border=\"1\" class=\"dataframe\">\n",
              "  <thead>\n",
              "    <tr style=\"text-align: right;\">\n",
              "      <th></th>\n",
              "      <th>T5</th>\n",
              "      <th>T6</th>\n",
              "      <th>GT</th>\n",
              "      <th>DT</th>\n",
              "      <th>KV</th>\n",
              "      <th>KT</th>\n",
              "      <th>NGONNGU</th>\n",
              "      <th>LOGIC</th>\n",
              "      <th>UNGXU</th>\n",
              "      <th>NGAYTHI</th>\n",
              "      <th>HUONGNGHIEP</th>\n",
              "      <th>TBT12</th>\n",
              "    </tr>\n",
              "  </thead>\n",
              "  <tbody>\n",
              "    <tr>\n",
              "      <th>0</th>\n",
              "      <td>7.4</td>\n",
              "      <td>6.9</td>\n",
              "      <td>F</td>\n",
              "      <td>NaN</td>\n",
              "      <td>2NT</td>\n",
              "      <td>A1</td>\n",
              "      <td>3.25</td>\n",
              "      <td>3.25</td>\n",
              "      <td>4.50</td>\n",
              "      <td>12/7/2018</td>\n",
              "      <td>No</td>\n",
              "      <td>7.15</td>\n",
              "    </tr>\n",
              "    <tr>\n",
              "      <th>1</th>\n",
              "      <td>3.0</td>\n",
              "      <td>4.0</td>\n",
              "      <td>M</td>\n",
              "      <td>NaN</td>\n",
              "      <td>1</td>\n",
              "      <td>C</td>\n",
              "      <td>6.00</td>\n",
              "      <td>4.00</td>\n",
              "      <td>3.50</td>\n",
              "      <td>12/7/2018</td>\n",
              "      <td>Yes</td>\n",
              "      <td>3.50</td>\n",
              "    </tr>\n",
              "    <tr>\n",
              "      <th>2</th>\n",
              "      <td>4.8</td>\n",
              "      <td>5.7</td>\n",
              "      <td>M</td>\n",
              "      <td>NaN</td>\n",
              "      <td>1</td>\n",
              "      <td>C</td>\n",
              "      <td>5.00</td>\n",
              "      <td>6.75</td>\n",
              "      <td>4.00</td>\n",
              "      <td>12/7/2018</td>\n",
              "      <td>No</td>\n",
              "      <td>5.25</td>\n",
              "    </tr>\n",
              "    <tr>\n",
              "      <th>3</th>\n",
              "      <td>6.1</td>\n",
              "      <td>7.4</td>\n",
              "      <td>M</td>\n",
              "      <td>NaN</td>\n",
              "      <td>1</td>\n",
              "      <td>D1</td>\n",
              "      <td>4.25</td>\n",
              "      <td>4.25</td>\n",
              "      <td>5.25</td>\n",
              "      <td>12/7/2018</td>\n",
              "      <td>No</td>\n",
              "      <td>6.75</td>\n",
              "    </tr>\n",
              "    <tr>\n",
              "      <th>4</th>\n",
              "      <td>6.8</td>\n",
              "      <td>8.0</td>\n",
              "      <td>M</td>\n",
              "      <td>NaN</td>\n",
              "      <td>2NT</td>\n",
              "      <td>A</td>\n",
              "      <td>4.25</td>\n",
              "      <td>4.50</td>\n",
              "      <td>5.00</td>\n",
              "      <td>12/7/2018</td>\n",
              "      <td>No</td>\n",
              "      <td>7.40</td>\n",
              "    </tr>\n",
              "    <tr>\n",
              "      <th>...</th>\n",
              "      <td>...</td>\n",
              "      <td>...</td>\n",
              "      <td>...</td>\n",
              "      <td>...</td>\n",
              "      <td>...</td>\n",
              "      <td>...</td>\n",
              "      <td>...</td>\n",
              "      <td>...</td>\n",
              "      <td>...</td>\n",
              "      <td>...</td>\n",
              "      <td>...</td>\n",
              "      <td>...</td>\n",
              "    </tr>\n",
              "    <tr>\n",
              "      <th>95</th>\n",
              "      <td>7.9</td>\n",
              "      <td>6.6</td>\n",
              "      <td>F</td>\n",
              "      <td>NaN</td>\n",
              "      <td>1</td>\n",
              "      <td>C</td>\n",
              "      <td>5.25</td>\n",
              "      <td>1.50</td>\n",
              "      <td>6.25</td>\n",
              "      <td>7/20/2022</td>\n",
              "      <td>Yes</td>\n",
              "      <td>7.25</td>\n",
              "    </tr>\n",
              "    <tr>\n",
              "      <th>96</th>\n",
              "      <td>5.5</td>\n",
              "      <td>5.7</td>\n",
              "      <td>F</td>\n",
              "      <td>NaN</td>\n",
              "      <td>1</td>\n",
              "      <td>C</td>\n",
              "      <td>5.25</td>\n",
              "      <td>3.75</td>\n",
              "      <td>4.75</td>\n",
              "      <td>7/20/2022</td>\n",
              "      <td>No</td>\n",
              "      <td>5.60</td>\n",
              "    </tr>\n",
              "    <tr>\n",
              "      <th>97</th>\n",
              "      <td>9.0</td>\n",
              "      <td>8.5</td>\n",
              "      <td>M</td>\n",
              "      <td>NaN</td>\n",
              "      <td>2NT</td>\n",
              "      <td>C</td>\n",
              "      <td>7.00</td>\n",
              "      <td>8.00</td>\n",
              "      <td>4.00</td>\n",
              "      <td>7/20/2022</td>\n",
              "      <td>Yes</td>\n",
              "      <td>8.75</td>\n",
              "    </tr>\n",
              "    <tr>\n",
              "      <th>98</th>\n",
              "      <td>4.1</td>\n",
              "      <td>4.3</td>\n",
              "      <td>M</td>\n",
              "      <td>NaN</td>\n",
              "      <td>1</td>\n",
              "      <td>C</td>\n",
              "      <td>5.00</td>\n",
              "      <td>3.50</td>\n",
              "      <td>5.50</td>\n",
              "      <td>7/20/2022</td>\n",
              "      <td>No</td>\n",
              "      <td>4.20</td>\n",
              "    </tr>\n",
              "    <tr>\n",
              "      <th>99</th>\n",
              "      <td>5.6</td>\n",
              "      <td>5.1</td>\n",
              "      <td>M</td>\n",
              "      <td>NaN</td>\n",
              "      <td>2NT</td>\n",
              "      <td>C</td>\n",
              "      <td>5.25</td>\n",
              "      <td>2.50</td>\n",
              "      <td>4.25</td>\n",
              "      <td>7/20/2022</td>\n",
              "      <td>Yes</td>\n",
              "      <td>5.35</td>\n",
              "    </tr>\n",
              "  </tbody>\n",
              "</table>\n",
              "<p>100 rows × 12 columns</p>\n",
              "</div>"
            ],
            "text/plain": [
              "     T5   T6 GT  DT   KV  KT  NGONNGU  LOGIC  UNGXU    NGAYTHI HUONGNGHIEP  \\\n",
              "0   7.4  6.9  F NaN  2NT  A1     3.25   3.25   4.50  12/7/2018          No   \n",
              "1   3.0  4.0  M NaN    1   C     6.00   4.00   3.50  12/7/2018         Yes   \n",
              "2   4.8  5.7  M NaN    1   C     5.00   6.75   4.00  12/7/2018          No   \n",
              "3   6.1  7.4  M NaN    1  D1     4.25   4.25   5.25  12/7/2018          No   \n",
              "4   6.8  8.0  M NaN  2NT   A     4.25   4.50   5.00  12/7/2018          No   \n",
              "..  ...  ... ..  ..  ...  ..      ...    ...    ...        ...         ...   \n",
              "95  7.9  6.6  F NaN    1   C     5.25   1.50   6.25  7/20/2022         Yes   \n",
              "96  5.5  5.7  F NaN    1   C     5.25   3.75   4.75  7/20/2022          No   \n",
              "97  9.0  8.5  M NaN  2NT   C     7.00   8.00   4.00  7/20/2022         Yes   \n",
              "98  4.1  4.3  M NaN    1   C     5.00   3.50   5.50  7/20/2022          No   \n",
              "99  5.6  5.1  M NaN  2NT   C     5.25   2.50   4.25  7/20/2022         Yes   \n",
              "\n",
              "    TBT12  \n",
              "0    7.15  \n",
              "1    3.50  \n",
              "2    5.25  \n",
              "3    6.75  \n",
              "4    7.40  \n",
              "..    ...  \n",
              "95   7.25  \n",
              "96   5.60  \n",
              "97   8.75  \n",
              "98   4.20  \n",
              "99   5.35  \n",
              "\n",
              "[100 rows x 12 columns]"
            ]
          },
          "execution_count": 40,
          "metadata": {},
          "output_type": "execute_result"
        }
      ],
      "source": [
        "df"
      ]
    },
    {
      "cell_type": "code",
      "execution_count": 41,
      "metadata": {
        "id": "S5SQRaEAQIjI"
      },
      "outputs": [],
      "source": [
        "data=df[['TBT12','LOGIC']]"
      ]
    },
    {
      "cell_type": "code",
      "execution_count": 42,
      "metadata": {
        "colab": {
          "base_uri": "https://localhost:8080/",
          "height": 424
        },
        "id": "xL_ISoOaQQ8Y",
        "outputId": "27cf23bb-6d0d-4dea-e05c-7d3d310230dc"
      },
      "outputs": [
        {
          "data": {
            "text/html": [
              "<div>\n",
              "<style scoped>\n",
              "    .dataframe tbody tr th:only-of-type {\n",
              "        vertical-align: middle;\n",
              "    }\n",
              "\n",
              "    .dataframe tbody tr th {\n",
              "        vertical-align: top;\n",
              "    }\n",
              "\n",
              "    .dataframe thead th {\n",
              "        text-align: right;\n",
              "    }\n",
              "</style>\n",
              "<table border=\"1\" class=\"dataframe\">\n",
              "  <thead>\n",
              "    <tr style=\"text-align: right;\">\n",
              "      <th></th>\n",
              "      <th>TBT12</th>\n",
              "      <th>LOGIC</th>\n",
              "    </tr>\n",
              "  </thead>\n",
              "  <tbody>\n",
              "    <tr>\n",
              "      <th>0</th>\n",
              "      <td>7.15</td>\n",
              "      <td>3.25</td>\n",
              "    </tr>\n",
              "    <tr>\n",
              "      <th>1</th>\n",
              "      <td>3.50</td>\n",
              "      <td>4.00</td>\n",
              "    </tr>\n",
              "    <tr>\n",
              "      <th>2</th>\n",
              "      <td>5.25</td>\n",
              "      <td>6.75</td>\n",
              "    </tr>\n",
              "    <tr>\n",
              "      <th>3</th>\n",
              "      <td>6.75</td>\n",
              "      <td>4.25</td>\n",
              "    </tr>\n",
              "    <tr>\n",
              "      <th>4</th>\n",
              "      <td>7.40</td>\n",
              "      <td>4.50</td>\n",
              "    </tr>\n",
              "    <tr>\n",
              "      <th>...</th>\n",
              "      <td>...</td>\n",
              "      <td>...</td>\n",
              "    </tr>\n",
              "    <tr>\n",
              "      <th>95</th>\n",
              "      <td>7.25</td>\n",
              "      <td>1.50</td>\n",
              "    </tr>\n",
              "    <tr>\n",
              "      <th>96</th>\n",
              "      <td>5.60</td>\n",
              "      <td>3.75</td>\n",
              "    </tr>\n",
              "    <tr>\n",
              "      <th>97</th>\n",
              "      <td>8.75</td>\n",
              "      <td>8.00</td>\n",
              "    </tr>\n",
              "    <tr>\n",
              "      <th>98</th>\n",
              "      <td>4.20</td>\n",
              "      <td>3.50</td>\n",
              "    </tr>\n",
              "    <tr>\n",
              "      <th>99</th>\n",
              "      <td>5.35</td>\n",
              "      <td>2.50</td>\n",
              "    </tr>\n",
              "  </tbody>\n",
              "</table>\n",
              "<p>100 rows × 2 columns</p>\n",
              "</div>"
            ],
            "text/plain": [
              "    TBT12  LOGIC\n",
              "0    7.15   3.25\n",
              "1    3.50   4.00\n",
              "2    5.25   6.75\n",
              "3    6.75   4.25\n",
              "4    7.40   4.50\n",
              "..    ...    ...\n",
              "95   7.25   1.50\n",
              "96   5.60   3.75\n",
              "97   8.75   8.00\n",
              "98   4.20   3.50\n",
              "99   5.35   2.50\n",
              "\n",
              "[100 rows x 2 columns]"
            ]
          },
          "execution_count": 42,
          "metadata": {},
          "output_type": "execute_result"
        }
      ],
      "source": [
        "data"
      ]
    },
    {
      "cell_type": "code",
      "execution_count": 56,
      "metadata": {},
      "outputs": [
        {
          "data": {
            "image/png": "[encoded data removed]",
            "text/plain": [
              "<Figure size 640x480 with 1 Axes>"
            ]
          },
          "metadata": {},
          "output_type": "display_data"
        }
      ],
      "source": [
        "#1. Số cụm là bao nhiêu là tốt nhất\n",
        "kmeans = KMeans(n_clusters=4).fit(data)\n",
        "#Chọn số cụm tốt nhất\n",
        "kmeans_kwargs = {\"init\": \"random\",\"n_init\":10,\"max_iter\":300,\"random_state\":17}\n",
        "sse =[]\n",
        "for k in range(1,11):\n",
        "    kmeans = KMeans(n_clusters=k, **kmeans_kwargs)\n",
        "    kmeans.fit(data)\n",
        "    sse.append(kmeans.inertia_)\n",
        "\n",
        "plt.style.use('fivethirtyeight')\n",
        "plt.plot(range(1,11),sse)\n",
        "plt.xticks(range(1,11))\n",
        "plt.xlabel(\"Number of Clusters\")\n",
        "plt.ylabel(\"SSE\")\n",
        "plt.show()"
      ]
    },
    {
      "cell_type": "code",
      "execution_count": 58,
      "metadata": {},
      "outputs": [
        {
          "name": "stdout",
          "output_type": "stream",
          "text": [
            "3\n"
          ]
        }
      ],
      "source": [
        "#Cách 2 Dùng phương phát độ đo ElBoww để tìm số cụm là tốt nhất\n",
        "from kneed import KneeLocator\n",
        "k1 = KneeLocator(range(1,11), sse, curve='convex', direction='decreasing')\n",
        "print(k1.elbow)"
      ]
    },
    {
      "cell_type": "code",
      "execution_count": 66,
      "metadata": {},
      "outputs": [],
      "source": [
        "#cau 1: số cụm tốt nhất là 3"
      ]
    },
    {
      "cell_type": "code",
      "execution_count": 73,
      "metadata": {},
      "outputs": [
        {
          "name": "stdout",
          "output_type": "stream",
          "text": [
            "[[5.06607143e+00 4.08928571e+00 4.44089210e-16]\n",
            " [7.88030303e+00 5.10606061e+00 1.00000000e+00]\n",
            " [7.20000000e+00 3.65384615e+00 2.00000000e+00]]\n"
          ]
        }
      ],
      "source": [
        "#cau2\n",
        "Kmeans=KMeans(n_clusters=3,random_state=17).fit(data)\n",
        "print(Kmeans.cluster_centers_)"
      ]
    },
    {
      "cell_type": "code",
      "execution_count": 48,
      "metadata": {},
      "outputs": [
        {
          "name": "stdout",
          "output_type": "stream",
          "text": [
            "121.3474614968365\n"
          ]
        }
      ],
      "source": [
        "print(kmeans.inertia_)"
      ]
    },
    {
      "cell_type": "code",
      "execution_count": 49,
      "metadata": {},
      "outputs": [
        {
          "name": "stdout",
          "output_type": "stream",
          "text": [
            "    TBT12  LOGIC  Cluster\n",
            "0    7.15   3.25        2\n",
            "1    3.50   4.00        0\n",
            "2    5.25   6.75        0\n",
            "3    6.75   4.25        2\n",
            "4    7.40   4.50        1\n",
            "..    ...    ...      ...\n",
            "95   7.25   1.50        2\n",
            "96   5.60   3.75        0\n",
            "97   8.75   8.00        1\n",
            "98   4.20   3.50        0\n",
            "99   5.35   2.50        0\n",
            "\n",
            "[100 rows x 3 columns]\n"
          ]
        },
        {
          "name": "stderr",
          "output_type": "stream",
          "text": [
            "C:\\Users\\THANH DUOC\\AppData\\Local\\Temp\\ipykernel_16740\\1099964050.py:6: SettingWithCopyWarning: \n",
            "A value is trying to be set on a copy of a slice from a DataFrame.\n",
            "Try using .loc[row_indexer,col_indexer] = value instead\n",
            "\n",
            "See the caveats in the documentation: https://pandas.pydata.org/pandas-docs/stable/user_guide/indexing.html#returning-a-view-versus-a-copy\n",
            "  data['Cluster'] = labels\n"
          ]
        }
      ],
      "source": [
        "#cau4 in ra bảng dữ liệu và kết quả gom cụm\n",
        "# Gán nhãn cho từng điểm dữ liệu\n",
        "labels = kmeans.labels_[:]\n",
        "\n",
        "# 4. In ra bảng dữ liệu và kết quả gom cụm\n",
        "data['Cluster'] = labels\n",
        "print(data[['TBT12', 'LOGIC', 'Cluster']])"
      ]
    },
    {
      "cell_type": "code",
      "execution_count": 54,
      "metadata": {},
      "outputs": [
        {
          "ename": "ValueError",
          "evalue": "operands could not be broadcast together with shapes (5,3) (2,) ",
          "output_type": "error",
          "traceback": [
            "\u001b[1;31m---------------------------------------------------------------------------\u001b[0m",
            "\u001b[1;31mValueError\u001b[0m                                Traceback (most recent call last)",
            "\u001b[1;32me:\\laptrinhptdl\\baizalo1.ipynb Cell 18\u001b[0m in \u001b[0;36m<cell line: 9>\u001b[1;34m()\u001b[0m\n\u001b[0;32m      <a href='vscode-notebook-cell:/e%3A/laptrinhptdl/baizalo1.ipynb#Y115sZmlsZQ%3D%3D?line=5'>6</a>\u001b[0m first_5_elements_indices \u001b[39m=\u001b[39m cluster_1_indices[:\u001b[39m5\u001b[39m]\n\u001b[0;32m      <a href='vscode-notebook-cell:/e%3A/laptrinhptdl/baizalo1.ipynb#Y115sZmlsZQ%3D%3D?line=7'>8</a>\u001b[0m \u001b[39m# Tính tổng khoảng cách từ các phần tử đầu tiên đến tâm của cụm\u001b[39;00m\n\u001b[1;32m----> <a href='vscode-notebook-cell:/e%3A/laptrinhptdl/baizalo1.ipynb#Y115sZmlsZQ%3D%3D?line=8'>9</a>\u001b[0m distances \u001b[39m=\u001b[39m np\u001b[39m.\u001b[39mlinalg\u001b[39m.\u001b[39mnorm(X[first_5_elements_indices] \u001b[39m-\u001b[39;49m centers[\u001b[39m1\u001b[39;49m], axis\u001b[39m=\u001b[39m\u001b[39m1\u001b[39m)\n\u001b[0;32m     <a href='vscode-notebook-cell:/e%3A/laptrinhptdl/baizalo1.ipynb#Y115sZmlsZQ%3D%3D?line=9'>10</a>\u001b[0m average_distance \u001b[39m=\u001b[39m np\u001b[39m.\u001b[39mmean(distances)\n\u001b[0;32m     <a href='vscode-notebook-cell:/e%3A/laptrinhptdl/baizalo1.ipynb#Y115sZmlsZQ%3D%3D?line=11'>12</a>\u001b[0m \u001b[39m# In ra tổng khoảng cách trung bình\u001b[39;00m\n",
            "\u001b[1;31mValueError\u001b[0m: operands could not be broadcast together with shapes (5,3) (2,) "
          ]
        }
      ],
      "source": [
        "# Lấy tâm của các cụm\n",
        "centers = kmeans.cluster_centers_\n",
        "\n",
        "# Lấy các phần tử thuộc cụm có nhãn là 1\n",
        "cluster_1_indices = np.where(data['Cluster'] == 1)[0]\n",
        "first_5_elements_indices = cluster_1_indices[:5]\n",
        "\n",
        "# Tính tổng khoảng cách từ các phần tử đầu tiên đến tâm của cụm\n",
        "distances = np.linalg.norm(X[first_5_elements_indices] - centers[1], axis=1)\n",
        "average_distance = np.mean(distances)\n",
        "\n",
        "# In ra tổng khoảng cách trung bình\n",
        "print(\"Tổng khoảng cách trung bình của 5 phần tử đầu tiên thuộc cụm có nhãn là 1 đến tâm của cụm:\", average_distance)\n"
      ]
    },
    {
      "cell_type": "code",
      "execution_count": null,
      "metadata": {},
      "outputs": [],
      "source": []
    },
    {
      "cell_type": "code",
      "execution_count": null,
      "metadata": {},
      "outputs": [],
      "source": []
    },
    {
      "cell_type": "code",
      "execution_count": null,
      "metadata": {},
      "outputs": [],
      "source": []
    },
    {
      "cell_type": "code",
      "execution_count": null,
      "metadata": {},
      "outputs": [],
      "source": []
    },
    {
      "cell_type": "code",
      "execution_count": null,
      "metadata": {},
      "outputs": [],
      "source": []
    }
  ],
  "metadata": {
    "colab": {
      "provenance": []
    },
    "kernelspec": {
      "display_name": "Python 3",
      "name": "python3"
    },
    "language_info": {
      "codemirror_mode": {
        "name": "ipython",
        "version": 3
      },
      "file_extension": ".py",
      "mimetype": "text/x-python",
      "name": "python",
      "nbconvert_exporter": "python",
      "pygments_lexer": "ipython3",
      "version": "3.10.9"
    }
  },
  "nbformat": 4,
  "nbformat_minor": 0
}
