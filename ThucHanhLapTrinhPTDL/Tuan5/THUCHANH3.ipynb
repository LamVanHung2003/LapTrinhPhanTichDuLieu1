{
 "cells": [
  {
   "cell_type": "code",
   "execution_count": 1,
   "metadata": {},
   "outputs": [],
   "source": [
    "import numpy as np\n",
    "import pandas as pd\n",
    "import matplotlib.pyplot as plt\n",
    "import seaborn as sns\n",
    "from sklearn.linear_model import LogisticRegression\n",
    "from sklearn.metrics import confusion_matrix, classification_report"
   ]
  },
  {
   "cell_type": "code",
   "execution_count": 2,
   "metadata": {},
   "outputs": [],
   "source": [
    "\n",
    "social_N_data = pd.read_csv('Social_Network_Ads.csv')"
   ]
  },
  {
   "cell_type": "code",
   "execution_count": 4,
   "metadata": {},
   "outputs": [
    {
     "data": {
      "text/html": [
       "<div>\n",
       "<style scoped>\n",
       "    .dataframe tbody tr th:only-of-type {\n",
       "        vertical-align: middle;\n",
       "    }\n",
       "\n",
       "    .dataframe tbody tr th {\n",
       "        vertical-align: top;\n",
       "    }\n",
       "\n",
       "    .dataframe thead th {\n",
       "        text-align: right;\n",
       "    }\n",
       "</style>\n",
       "<table border=\"1\" class=\"dataframe\">\n",
       "  <thead>\n",
       "    <tr style=\"text-align: right;\">\n",
       "      <th></th>\n",
       "      <th>Male</th>\n",
       "    </tr>\n",
       "  </thead>\n",
       "  <tbody>\n",
       "    <tr>\n",
       "      <th>0</th>\n",
       "      <td>True</td>\n",
       "    </tr>\n",
       "    <tr>\n",
       "      <th>1</th>\n",
       "      <td>True</td>\n",
       "    </tr>\n",
       "    <tr>\n",
       "      <th>2</th>\n",
       "      <td>False</td>\n",
       "    </tr>\n",
       "    <tr>\n",
       "      <th>3</th>\n",
       "      <td>False</td>\n",
       "    </tr>\n",
       "    <tr>\n",
       "      <th>4</th>\n",
       "      <td>True</td>\n",
       "    </tr>\n",
       "    <tr>\n",
       "      <th>...</th>\n",
       "      <td>...</td>\n",
       "    </tr>\n",
       "    <tr>\n",
       "      <th>395</th>\n",
       "      <td>False</td>\n",
       "    </tr>\n",
       "    <tr>\n",
       "      <th>396</th>\n",
       "      <td>True</td>\n",
       "    </tr>\n",
       "    <tr>\n",
       "      <th>397</th>\n",
       "      <td>False</td>\n",
       "    </tr>\n",
       "    <tr>\n",
       "      <th>398</th>\n",
       "      <td>True</td>\n",
       "    </tr>\n",
       "    <tr>\n",
       "      <th>399</th>\n",
       "      <td>False</td>\n",
       "    </tr>\n",
       "  </tbody>\n",
       "</table>\n",
       "<p>400 rows × 1 columns</p>\n",
       "</div>"
      ],
      "text/plain": [
       "      Male\n",
       "0     True\n",
       "1     True\n",
       "2    False\n",
       "3    False\n",
       "4     True\n",
       "..     ...\n",
       "395  False\n",
       "396   True\n",
       "397  False\n",
       "398   True\n",
       "399  False\n",
       "\n",
       "[400 rows x 1 columns]"
      ]
     },
     "execution_count": 4,
     "metadata": {},
     "output_type": "execute_result"
    }
   ],
   "source": [
    "gender = pd.get_dummies(social_N_data['Gender'], drop_first=True)\n",
    "gender"
   ]
  },
  {
   "cell_type": "code",
   "execution_count": 5,
   "metadata": {},
   "outputs": [],
   "source": [
    "social_N_data.drop('Gender',axis=1,inplace=True)"
   ]
  },
  {
   "cell_type": "code",
   "execution_count": 6,
   "metadata": {},
   "outputs": [],
   "source": [
    "social_N_data = pd.concat([social_N_data,gender], axis=1)"
   ]
  },
  {
   "cell_type": "code",
   "execution_count": 7,
   "metadata": {},
   "outputs": [
    {
     "data": {
      "text/html": [
       "<div>\n",
       "<style scoped>\n",
       "    .dataframe tbody tr th:only-of-type {\n",
       "        vertical-align: middle;\n",
       "    }\n",
       "\n",
       "    .dataframe tbody tr th {\n",
       "        vertical-align: top;\n",
       "    }\n",
       "\n",
       "    .dataframe thead th {\n",
       "        text-align: right;\n",
       "    }\n",
       "</style>\n",
       "<table border=\"1\" class=\"dataframe\">\n",
       "  <thead>\n",
       "    <tr style=\"text-align: right;\">\n",
       "      <th></th>\n",
       "      <th>User ID</th>\n",
       "      <th>Age</th>\n",
       "      <th>EstimatedSalary</th>\n",
       "      <th>Purchased</th>\n",
       "      <th>Male</th>\n",
       "    </tr>\n",
       "  </thead>\n",
       "  <tbody>\n",
       "    <tr>\n",
       "      <th>0</th>\n",
       "      <td>15624510</td>\n",
       "      <td>19</td>\n",
       "      <td>19000</td>\n",
       "      <td>0</td>\n",
       "      <td>True</td>\n",
       "    </tr>\n",
       "    <tr>\n",
       "      <th>1</th>\n",
       "      <td>15810944</td>\n",
       "      <td>35</td>\n",
       "      <td>20000</td>\n",
       "      <td>0</td>\n",
       "      <td>True</td>\n",
       "    </tr>\n",
       "    <tr>\n",
       "      <th>2</th>\n",
       "      <td>15668575</td>\n",
       "      <td>26</td>\n",
       "      <td>43000</td>\n",
       "      <td>0</td>\n",
       "      <td>False</td>\n",
       "    </tr>\n",
       "    <tr>\n",
       "      <th>3</th>\n",
       "      <td>15603246</td>\n",
       "      <td>27</td>\n",
       "      <td>57000</td>\n",
       "      <td>0</td>\n",
       "      <td>False</td>\n",
       "    </tr>\n",
       "    <tr>\n",
       "      <th>4</th>\n",
       "      <td>15804002</td>\n",
       "      <td>19</td>\n",
       "      <td>76000</td>\n",
       "      <td>0</td>\n",
       "      <td>True</td>\n",
       "    </tr>\n",
       "  </tbody>\n",
       "</table>\n",
       "</div>"
      ],
      "text/plain": [
       "    User ID  Age  EstimatedSalary  Purchased   Male\n",
       "0  15624510   19            19000          0   True\n",
       "1  15810944   35            20000          0   True\n",
       "2  15668575   26            43000          0  False\n",
       "3  15603246   27            57000          0  False\n",
       "4  15804002   19            76000          0   True"
      ]
     },
     "execution_count": 7,
     "metadata": {},
     "output_type": "execute_result"
    }
   ],
   "source": [
    "social_N_data.head()"
   ]
  },
  {
   "cell_type": "code",
   "execution_count": 8,
   "metadata": {},
   "outputs": [
    {
     "data": {
      "text/html": [
       "<div>\n",
       "<style scoped>\n",
       "    .dataframe tbody tr th:only-of-type {\n",
       "        vertical-align: middle;\n",
       "    }\n",
       "\n",
       "    .dataframe tbody tr th {\n",
       "        vertical-align: top;\n",
       "    }\n",
       "\n",
       "    .dataframe thead th {\n",
       "        text-align: right;\n",
       "    }\n",
       "</style>\n",
       "<table border=\"1\" class=\"dataframe\">\n",
       "  <thead>\n",
       "    <tr style=\"text-align: right;\">\n",
       "      <th></th>\n",
       "      <th>User ID</th>\n",
       "      <th>Age</th>\n",
       "      <th>Purchased</th>\n",
       "    </tr>\n",
       "  </thead>\n",
       "  <tbody>\n",
       "    <tr>\n",
       "      <th>0</th>\n",
       "      <td>15624510</td>\n",
       "      <td>19</td>\n",
       "      <td>0</td>\n",
       "    </tr>\n",
       "    <tr>\n",
       "      <th>1</th>\n",
       "      <td>15810944</td>\n",
       "      <td>35</td>\n",
       "      <td>0</td>\n",
       "    </tr>\n",
       "    <tr>\n",
       "      <th>2</th>\n",
       "      <td>15668575</td>\n",
       "      <td>26</td>\n",
       "      <td>0</td>\n",
       "    </tr>\n",
       "    <tr>\n",
       "      <th>3</th>\n",
       "      <td>15603246</td>\n",
       "      <td>27</td>\n",
       "      <td>0</td>\n",
       "    </tr>\n",
       "    <tr>\n",
       "      <th>4</th>\n",
       "      <td>15804002</td>\n",
       "      <td>19</td>\n",
       "      <td>0</td>\n",
       "    </tr>\n",
       "  </tbody>\n",
       "</table>\n",
       "</div>"
      ],
      "text/plain": [
       "    User ID  Age  Purchased\n",
       "0  15624510   19          0\n",
       "1  15810944   35          0\n",
       "2  15668575   26          0\n",
       "3  15603246   27          0\n",
       "4  15804002   19          0"
      ]
     },
     "execution_count": 8,
     "metadata": {},
     "output_type": "execute_result"
    }
   ],
   "source": [
    "X = social_N_data.iloc[:,[0,1,3]] # Age, EstimatedSalary and Male\n",
    "X.head()"
   ]
  },
  {
   "cell_type": "code",
   "execution_count": 9,
   "metadata": {},
   "outputs": [
    {
     "data": {
      "text/plain": [
       "0    19000\n",
       "1    20000\n",
       "2    43000\n",
       "3    57000\n",
       "4    76000\n",
       "Name: EstimatedSalary, dtype: int64"
      ]
     },
     "execution_count": 9,
     "metadata": {},
     "output_type": "execute_result"
    }
   ],
   "source": [
    "y = social_N_data.iloc[:, 2] # Purchased\n",
    "y.head()"
   ]
  },
  {
   "cell_type": "code",
   "execution_count": 10,
   "metadata": {},
   "outputs": [
    {
     "data": {
      "text/plain": [
       "array([[-0.93657932, -1.78179743, -0.74593581],\n",
       "       [ 1.66838653, -0.25358736, -0.74593581],\n",
       "       [-0.32087714, -1.11320552, -0.74593581],\n",
       "       ...,\n",
       "       [-0.52039175,  1.17910958,  1.34059793],\n",
       "       [ 0.88695546, -0.15807423, -0.74593581],\n",
       "       [-1.36231017,  1.08359645,  1.34059793]])"
      ]
     },
     "execution_count": 10,
     "metadata": {},
     "output_type": "execute_result"
    }
   ],
   "source": [
    "from sklearn.preprocessing import StandardScaler\n",
    "sc = StandardScaler()\n",
    "X = sc.fit_transform(X)\n",
    "X"
   ]
  },
  {
   "cell_type": "code",
   "execution_count": 11,
   "metadata": {},
   "outputs": [
    {
     "name": "stdout",
     "output_type": "stream",
     "text": [
      "(360, 3)\n",
      "(40, 3)\n",
      "(360,)\n",
      "(40,)\n"
     ]
    }
   ],
   "source": [
    "from sklearn.model_selection import train_test_split \n",
    "X_train, X_test, y_train, y_test = train_test_split(X, y, test_size=0.1, random_state=10)\n",
    "\n",
    "print(X_train.shape)\n",
    "print(X_test.shape)\n",
    "print(y_train.shape)\n",
    "print(y_test.shape)"
   ]
  },
  {
   "cell_type": "code",
   "execution_count": 13,
   "metadata": {},
   "outputs": [
    {
     "data": {
      "text/html": [
       "<style>#sk-container-id-1 {color: black;}#sk-container-id-1 pre{padding: 0;}#sk-container-id-1 div.sk-toggleable {background-color: white;}#sk-container-id-1 label.sk-toggleable__label {cursor: pointer;display: block;width: 100%;margin-bottom: 0;padding: 0.3em;box-sizing: border-box;text-align: center;}#sk-container-id-1 label.sk-toggleable__label-arrow:before {content: \"▸\";float: left;margin-right: 0.25em;color: #696969;}#sk-container-id-1 label.sk-toggleable__label-arrow:hover:before {color: black;}#sk-container-id-1 div.sk-estimator:hover label.sk-toggleable__label-arrow:before {color: black;}#sk-container-id-1 div.sk-toggleable__content {max-height: 0;max-width: 0;overflow: hidden;text-align: left;background-color: #f0f8ff;}#sk-container-id-1 div.sk-toggleable__content pre {margin: 0.2em;color: black;border-radius: 0.25em;background-color: #f0f8ff;}#sk-container-id-1 input.sk-toggleable__control:checked~div.sk-toggleable__content {max-height: 200px;max-width: 100%;overflow: auto;}#sk-container-id-1 input.sk-toggleable__control:checked~label.sk-toggleable__label-arrow:before {content: \"▾\";}#sk-container-id-1 div.sk-estimator input.sk-toggleable__control:checked~label.sk-toggleable__label {background-color: #d4ebff;}#sk-container-id-1 div.sk-label input.sk-toggleable__control:checked~label.sk-toggleable__label {background-color: #d4ebff;}#sk-container-id-1 input.sk-hidden--visually {border: 0;clip: rect(1px 1px 1px 1px);clip: rect(1px, 1px, 1px, 1px);height: 1px;margin: -1px;overflow: hidden;padding: 0;position: absolute;width: 1px;}#sk-container-id-1 div.sk-estimator {font-family: monospace;background-color: #f0f8ff;border: 1px dotted black;border-radius: 0.25em;box-sizing: border-box;margin-bottom: 0.5em;}#sk-container-id-1 div.sk-estimator:hover {background-color: #d4ebff;}#sk-container-id-1 div.sk-parallel-item::after {content: \"\";width: 100%;border-bottom: 1px solid gray;flex-grow: 1;}#sk-container-id-1 div.sk-label:hover label.sk-toggleable__label {background-color: #d4ebff;}#sk-container-id-1 div.sk-serial::before {content: \"\";position: absolute;border-left: 1px solid gray;box-sizing: border-box;top: 0;bottom: 0;left: 50%;z-index: 0;}#sk-container-id-1 div.sk-serial {display: flex;flex-direction: column;align-items: center;background-color: white;padding-right: 0.2em;padding-left: 0.2em;position: relative;}#sk-container-id-1 div.sk-item {position: relative;z-index: 1;}#sk-container-id-1 div.sk-parallel {display: flex;align-items: stretch;justify-content: center;background-color: white;position: relative;}#sk-container-id-1 div.sk-item::before, #sk-container-id-1 div.sk-parallel-item::before {content: \"\";position: absolute;border-left: 1px solid gray;box-sizing: border-box;top: 0;bottom: 0;left: 50%;z-index: -1;}#sk-container-id-1 div.sk-parallel-item {display: flex;flex-direction: column;z-index: 1;position: relative;background-color: white;}#sk-container-id-1 div.sk-parallel-item:first-child::after {align-self: flex-end;width: 50%;}#sk-container-id-1 div.sk-parallel-item:last-child::after {align-self: flex-start;width: 50%;}#sk-container-id-1 div.sk-parallel-item:only-child::after {width: 0;}#sk-container-id-1 div.sk-dashed-wrapped {border: 1px dashed gray;margin: 0 0.4em 0.5em 0.4em;box-sizing: border-box;padding-bottom: 0.4em;background-color: white;}#sk-container-id-1 div.sk-label label {font-family: monospace;font-weight: bold;display: inline-block;line-height: 1.2em;}#sk-container-id-1 div.sk-label-container {text-align: center;}#sk-container-id-1 div.sk-container {/* jupyter's `normalize.less` sets `[hidden] { display: none; }` but bootstrap.min.css set `[hidden] { display: none !important; }` so we also need the `!important` here to be able to override the default hidden behavior on the sphinx rendered scikit-learn.org. See: https://github.com/scikit-learn/scikit-learn/issues/21755 */display: inline-block !important;position: relative;}#sk-container-id-1 div.sk-text-repr-fallback {display: none;}</style><div id=\"sk-container-id-1\" class=\"sk-top-container\"><div class=\"sk-text-repr-fallback\"><pre>LogisticRegression()</pre><b>In a Jupyter environment, please rerun this cell to show the HTML representation or trust the notebook. <br />On GitHub, the HTML representation is unable to render, please try loading this page with nbviewer.org.</b></div><div class=\"sk-container\" hidden><div class=\"sk-item\"><div class=\"sk-estimator sk-toggleable\"><input class=\"sk-toggleable__control sk-hidden--visually\" id=\"sk-estimator-id-1\" type=\"checkbox\" checked><label for=\"sk-estimator-id-1\" class=\"sk-toggleable__label sk-toggleable__label-arrow\">LogisticRegression</label><div class=\"sk-toggleable__content\"><pre>LogisticRegression()</pre></div></div></div></div></div>"
      ],
      "text/plain": [
       "LogisticRegression()"
      ]
     },
     "execution_count": 13,
     "metadata": {},
     "output_type": "execute_result"
    }
   ],
   "source": [
    "from sklearn.linear_model import LogisticRegression  \n",
    "classifier = LogisticRegression()\n",
    "classifier.fit(X_train, y_train)\n",
    "# flatten() đổi ra dạng số \n"
   ]
  },
  {
   "cell_type": "code",
   "execution_count": 15,
   "metadata": {},
   "outputs": [
    {
     "data": {
      "text/plain": [
       "array([[ 0.10309749, -0.69423279, -0.54833583],\n",
       "       [-0.61707871, -0.9865975 , -0.3726254 ],\n",
       "       [ 0.26393895, -0.69531068, -0.54814892],\n",
       "       [-0.45938444, -0.55566033, -0.66469919],\n",
       "       [-0.37951463, -1.18162852, -0.3348919 ],\n",
       "       [-0.07804734, -0.21707355,  0.2555619 ],\n",
       "       [-0.23339773, -0.25066451,  0.22955598],\n",
       "       [-0.53706705,  0.17477549, -0.07884968],\n",
       "       [-0.82362302, -0.270827  ,  0.13933757],\n",
       "       [ 0.13460376, -0.27722086, -0.13854911],\n",
       "       [-0.66841528, -0.0860728 ,  0.43977822],\n",
       "       [ 0.54799416, -0.77324869, -0.52638978],\n",
       "       [-0.09821696, -0.20405954,  0.09474124],\n",
       "       [ 0.19800874,  0.89058211,  0.55644928],\n",
       "       [-0.00284392,  0.18568777,  0.06638413],\n",
       "       [ 1.11806999, -0.3992798 , -0.51364626],\n",
       "       [ 0.22551914, -0.46473975,  0.21477305],\n",
       "       [-0.26905021,  0.32596703,  0.00469748],\n",
       "       [-0.1247044 ,  0.70697377,  0.23598955],\n",
       "       [-0.03771047, -0.13015807,  0.18116885],\n",
       "       [-0.15277912, -0.060466  ,  0.42000116],\n",
       "       [ 0.49143396, -0.42373423, -0.3454615 ],\n",
       "       [ 0.10681466,  0.78485329,  0.04281951],\n",
       "       [ 0.05874735,  0.76481295, -0.21228317],\n",
       "       [-0.37305616,  0.20000346,  0.31025222],\n",
       "       [ 0.17075182,  1.81079415, -0.67983154],\n",
       "       [ 0.29503068, -0.52639132, -0.67796388],\n",
       "       [ 0.66957893, -0.13925786, -0.80359223],\n",
       "       [-0.29152321,  0.35908104, -0.00877888],\n",
       "       [-0.61975282,  1.0575422 ,  0.35634731],\n",
       "       [-1.02391805, -0.22157683, -0.5572888 ],\n",
       "       [ 0.2384313 , -0.47466744,  0.09191224],\n",
       "       [-0.10753637,  0.36445658, -0.6347585 ],\n",
       "       [-0.52663004,  0.38948528, -0.42704267],\n",
       "       [-0.14913873, -0.07076067, -0.96022634],\n",
       "       [-0.27820902,  0.38104952, -0.88831371],\n",
       "       [ 0.10203809,  0.5843755 , -0.96928402],\n",
       "       [ 0.58052775, -0.70727933, -0.74121975],\n",
       "       [-0.16432016,  0.35893885, -1.12563037],\n",
       "       [-0.13768582, -0.46565014, -0.69566111],\n",
       "       [ 0.07029268,  0.48304219, -1.03303639],\n",
       "       [ 0.00695245,  0.79435262, -0.61991622],\n",
       "       [-0.11601972,  0.35946163, -1.12666332],\n",
       "       [ 0.23975915, -0.09477582, -0.60667265],\n",
       "       [-0.49958629, -0.40664753, -0.7105069 ],\n",
       "       [-0.05119757,  0.37362304, -0.53641104],\n",
       "       [-0.43795365,  0.83983198, -1.24407902],\n",
       "       [ 0.14120685, -0.66486865, -0.4518781 ],\n",
       "       [-0.65884801, -1.19116894, -0.41782893],\n",
       "       [ 0.04986628, -0.13498254, -0.40954285],\n",
       "       [ 0.45319823, -0.08894415,  0.19405562],\n",
       "       [ 0.07676841,  0.25994046, -0.58789878],\n",
       "       [-0.2186066 ,  0.61859337, -1.04965016],\n",
       "       [-0.7671934 ,  0.15872496, -0.16122657],\n",
       "       [-0.37623895,  0.60790329, -0.51396864],\n",
       "       [ 0.29111795,  0.31072172, -0.75583075],\n",
       "       [ 0.45699116, -0.07998121, -0.07355711],\n",
       "       [ 0.29898113,  0.28344377, -0.86061886],\n",
       "       [-0.43556872, -0.00546094,  0.13757625],\n",
       "       [ 0.24225128,  0.18738616, -0.51635273],\n",
       "       [ 0.33887267, -0.04908851, -0.7277635 ],\n",
       "       [ 0.36331108, -0.94651287, -0.38720184],\n",
       "       [-0.5255734 , -0.68478595, -0.15167702],\n",
       "       [ 0.45368541,  0.88537689, -0.68281442],\n",
       "       [ 0.65277418, -0.89027144, -0.49578953],\n",
       "       [ 0.29305817, -0.99373062, -0.37723474],\n",
       "       [-0.53730227, -0.82503731, -0.00824955],\n",
       "       [-0.36078268, -0.50745087,  0.10945068],\n",
       "       [ 0.40069497, -0.16089832,  0.07201356],\n",
       "       [ 0.57617887, -0.48688909, -0.24216494],\n",
       "       [-0.05715566, -0.08277309,  0.19332439],\n",
       "       [-0.20852622, -0.35934549,  0.71138298],\n",
       "       [ 0.32023266, -0.2536784 ,  0.68049796],\n",
       "       [-0.96289765,  0.94202629,  0.38593679],\n",
       "       [-0.00410108, -0.13827847,  0.62058319],\n",
       "       [ 0.46752474, -0.36298234,  0.71116235],\n",
       "       [ 0.06121831, -0.3060049 ,  0.69527571],\n",
       "       [ 0.39974004, -0.52572987,  0.75566488],\n",
       "       [-0.2436313 ,  0.93129371,  0.37816744],\n",
       "       [-0.76161845,  1.05902382,  0.35783937],\n",
       "       [-0.29789643,  0.86381375,  0.78242182],\n",
       "       [ 0.27988123,  0.28939753,  0.53098619],\n",
       "       [-0.77970297, -0.13541971,  0.65657221],\n",
       "       [ 0.25693139, -0.40674515,  1.1390924 ],\n",
       "       [ 1.26521271,  0.63067056,  0.24928319],\n",
       "       [-0.37210602, -0.18600744,  0.47712912],\n",
       "       [ 1.03642664, -0.11422251,  0.44540708],\n",
       "       [ 0.7888434 ,  0.92892196, -0.70644946],\n",
       "       [-0.9163265 , -0.07461488, -0.41469631],\n",
       "       [-0.39768632, -0.30692441, -0.36821202],\n",
       "       [ 0.62863332, -0.35479574,  0.5460504 ],\n",
       "       [ 0.40403768, -0.73738104,  1.09399993],\n",
       "       [-0.82373117, -0.52276878,  0.76292977],\n",
       "       [ 0.61793028,  0.84307753,  0.38531323],\n",
       "       [-0.83253694, -0.74781398,  0.82436132],\n",
       "       [-0.59389059,  0.23396584,  0.77578463],\n",
       "       [ 0.80987109, -0.31240863,  0.69942182],\n",
       "       [-0.88226203,  0.08712526,  0.59811868],\n",
       "       [-0.28936721,  0.75557583,  0.41928043],\n",
       "       [ 0.02718534,  0.30058458,  0.74517389],\n",
       "       [-0.09299941,  0.89674761, -0.22714417],\n",
       "       [-0.14367222,  0.31662173,  0.41481224],\n",
       "       [-0.28788546, -0.9492645 ,  1.16674059],\n",
       "       [ 0.34744254, -0.86023672,  1.13401503],\n",
       "       [ 0.80661389,  0.55315925,  0.65444146],\n",
       "       [ 0.17571577,  0.12722649,  0.57556757],\n",
       "       [ 0.0388814 ,  0.80925505, -0.19605724],\n",
       "       [ 0.58984861,  1.0953078 ,  0.48921932],\n",
       "       [ 0.05495577,  0.08629317,  1.06176275],\n",
       "       [ 0.21577303,  0.51350197,  0.47234961],\n",
       "       [ 0.80223511, -0.36601584,  0.71435158],\n",
       "       [ 0.76744659, -0.69285184,  0.8036993 ],\n",
       "       [-0.02725595, -0.41615871,  0.98684978],\n",
       "       [ 0.24059524, -0.06489542,  0.86673003]])"
      ]
     },
     "execution_count": 15,
     "metadata": {},
     "output_type": "execute_result"
    }
   ],
   "source": [
    "classifier.coef_"
   ]
  },
  {
   "cell_type": "code",
   "execution_count": null,
   "metadata": {},
   "outputs": [],
   "source": []
  }
 ],
 "metadata": {
  "kernelspec": {
   "display_name": "Python 3",
   "language": "python",
   "name": "python3"
  },
  "language_info": {
   "codemirror_mode": {
    "name": "ipython",
    "version": 3
   },
   "file_extension": ".py",
   "mimetype": "text/x-python",
   "name": "python",
   "nbconvert_exporter": "python",
   "pygments_lexer": "ipython3",
   "version": "3.11.5"
  }
 },
 "nbformat": 4,
 "nbformat_minor": 2
}
