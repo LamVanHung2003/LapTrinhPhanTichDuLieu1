{
 "cells": [
  {
   "cell_type": "code",
   "execution_count": 35,
   "metadata": {},
   "outputs": [],
   "source": [
    "import numpy as np\n",
    "import pandas as pd\n",
    "import matplotlib.pyplot as plt\n",
    "import seaborn as sns\n",
    "from sklearn.linear_model import LogisticRegression\n",
    "from sklearn.metrics import confusion_matrix, classification_report"
   ]
  },
  {
   "cell_type": "code",
   "execution_count": 36,
   "metadata": {},
   "outputs": [
    {
     "data": {
      "text/html": [
       "<div>\n",
       "<style scoped>\n",
       "    .dataframe tbody tr th:only-of-type {\n",
       "        vertical-align: middle;\n",
       "    }\n",
       "\n",
       "    .dataframe tbody tr th {\n",
       "        vertical-align: top;\n",
       "    }\n",
       "\n",
       "    .dataframe thead th {\n",
       "        text-align: right;\n",
       "    }\n",
       "</style>\n",
       "<table border=\"1\" class=\"dataframe\">\n",
       "  <thead>\n",
       "    <tr style=\"text-align: right;\">\n",
       "      <th></th>\n",
       "      <th>User ID</th>\n",
       "      <th>Gender</th>\n",
       "      <th>Age</th>\n",
       "      <th>EstimatedSalary</th>\n",
       "      <th>Purchased</th>\n",
       "    </tr>\n",
       "  </thead>\n",
       "  <tbody>\n",
       "    <tr>\n",
       "      <th>0</th>\n",
       "      <td>15624510</td>\n",
       "      <td>Male</td>\n",
       "      <td>19</td>\n",
       "      <td>19000</td>\n",
       "      <td>0</td>\n",
       "    </tr>\n",
       "    <tr>\n",
       "      <th>1</th>\n",
       "      <td>15810944</td>\n",
       "      <td>Male</td>\n",
       "      <td>35</td>\n",
       "      <td>20000</td>\n",
       "      <td>0</td>\n",
       "    </tr>\n",
       "    <tr>\n",
       "      <th>2</th>\n",
       "      <td>15668575</td>\n",
       "      <td>Female</td>\n",
       "      <td>26</td>\n",
       "      <td>43000</td>\n",
       "      <td>0</td>\n",
       "    </tr>\n",
       "    <tr>\n",
       "      <th>3</th>\n",
       "      <td>15603246</td>\n",
       "      <td>Female</td>\n",
       "      <td>27</td>\n",
       "      <td>57000</td>\n",
       "      <td>0</td>\n",
       "    </tr>\n",
       "    <tr>\n",
       "      <th>4</th>\n",
       "      <td>15804002</td>\n",
       "      <td>Male</td>\n",
       "      <td>19</td>\n",
       "      <td>76000</td>\n",
       "      <td>0</td>\n",
       "    </tr>\n",
       "    <tr>\n",
       "      <th>395</th>\n",
       "      <td>15691863</td>\n",
       "      <td>Female</td>\n",
       "      <td>46</td>\n",
       "      <td>41000</td>\n",
       "      <td>1</td>\n",
       "    </tr>\n",
       "    <tr>\n",
       "      <th>396</th>\n",
       "      <td>15706071</td>\n",
       "      <td>Male</td>\n",
       "      <td>51</td>\n",
       "      <td>23000</td>\n",
       "      <td>1</td>\n",
       "    </tr>\n",
       "    <tr>\n",
       "      <th>397</th>\n",
       "      <td>15654296</td>\n",
       "      <td>Female</td>\n",
       "      <td>50</td>\n",
       "      <td>20000</td>\n",
       "      <td>1</td>\n",
       "    </tr>\n",
       "    <tr>\n",
       "      <th>398</th>\n",
       "      <td>15755018</td>\n",
       "      <td>Male</td>\n",
       "      <td>36</td>\n",
       "      <td>33000</td>\n",
       "      <td>0</td>\n",
       "    </tr>\n",
       "    <tr>\n",
       "      <th>399</th>\n",
       "      <td>15594041</td>\n",
       "      <td>Female</td>\n",
       "      <td>49</td>\n",
       "      <td>36000</td>\n",
       "      <td>1</td>\n",
       "    </tr>\n",
       "  </tbody>\n",
       "</table>\n",
       "</div>"
      ],
      "text/plain": [
       "      User ID  Gender  Age  EstimatedSalary  Purchased\n",
       "0    15624510    Male   19            19000          0\n",
       "1    15810944    Male   35            20000          0\n",
       "2    15668575  Female   26            43000          0\n",
       "3    15603246  Female   27            57000          0\n",
       "4    15804002    Male   19            76000          0\n",
       "395  15691863  Female   46            41000          1\n",
       "396  15706071    Male   51            23000          1\n",
       "397  15654296  Female   50            20000          1\n",
       "398  15755018    Male   36            33000          0\n",
       "399  15594041  Female   49            36000          1"
      ]
     },
     "execution_count": 36,
     "metadata": {},
     "output_type": "execute_result"
    }
   ],
   "source": [
    "\n",
    "social_N_data = pd.read_csv('Social_Network_Ads.csv')\n",
    "pd.concat([social_N_data.head(), social_N_data.tail()])"
   ]
  },
  {
   "cell_type": "code",
   "execution_count": 37,
   "metadata": {},
   "outputs": [
    {
     "data": {
      "text/plain": [
       "User ID            False\n",
       "Gender             False\n",
       "Age                False\n",
       "EstimatedSalary    False\n",
       "Purchased          False\n",
       "dtype: bool"
      ]
     },
     "execution_count": 37,
     "metadata": {},
     "output_type": "execute_result"
    }
   ],
   "source": [
    "#kiểm tra các giá trị còn thiếu.\n",
    "social_N_data.isnull().any()\n",
    "#Không có giá trị null trong tập dữ liệu."
   ]
  },
  {
   "cell_type": "code",
   "execution_count": 38,
   "metadata": {},
   "outputs": [
    {
     "name": "stderr",
     "output_type": "stream",
     "text": [
      "c:\\Users\\hungl\\AppData\\Local\\Programs\\Python\\Python311\\Lib\\site-packages\\seaborn\\_oldcore.py:1498: FutureWarning: is_categorical_dtype is deprecated and will be removed in a future version. Use isinstance(dtype, CategoricalDtype) instead\n",
      "  if pd.api.types.is_categorical_dtype(vector):\n",
      "c:\\Users\\hungl\\AppData\\Local\\Programs\\Python\\Python311\\Lib\\site-packages\\seaborn\\_oldcore.py:1498: FutureWarning: is_categorical_dtype is deprecated and will be removed in a future version. Use isinstance(dtype, CategoricalDtype) instead\n",
      "  if pd.api.types.is_categorical_dtype(vector):\n",
      "c:\\Users\\hungl\\AppData\\Local\\Programs\\Python\\Python311\\Lib\\site-packages\\seaborn\\_oldcore.py:1498: FutureWarning: is_categorical_dtype is deprecated and will be removed in a future version. Use isinstance(dtype, CategoricalDtype) instead\n",
      "  if pd.api.types.is_categorical_dtype(vector):\n"
     ]
    },
    {
     "data": {
      "text/plain": [
       "<Axes: xlabel='Purchased', ylabel='count'>"
      ]
     },
     "execution_count": 38,
     "metadata": {},
     "output_type": "execute_result"
    },
    {
     "data": {
      "image/png": "[encoded data removed]",
      "text/plain": [
       "<Figure size 640x480 with 1 Axes>"
      ]
     },
     "metadata": {},
     "output_type": "display_data"
    }
   ],
   "source": [
    "#Kiểm tra tổng số người đã mua và những người không mua:\n",
    "sns.countplot(x='Purchased', data=social_N_data)\n",
    "#Số 0 biểu thị những người không mua và 1 cho những người đã mua."
   ]
  },
  {
   "cell_type": "code",
   "execution_count": 39,
   "metadata": {},
   "outputs": [
    {
     "name": "stderr",
     "output_type": "stream",
     "text": [
      "c:\\Users\\hungl\\AppData\\Local\\Programs\\Python\\Python311\\Lib\\site-packages\\seaborn\\_oldcore.py:1498: FutureWarning: is_categorical_dtype is deprecated and will be removed in a future version. Use isinstance(dtype, CategoricalDtype) instead\n",
      "  if pd.api.types.is_categorical_dtype(vector):\n",
      "c:\\Users\\hungl\\AppData\\Local\\Programs\\Python\\Python311\\Lib\\site-packages\\seaborn\\_oldcore.py:1498: FutureWarning: is_categorical_dtype is deprecated and will be removed in a future version. Use isinstance(dtype, CategoricalDtype) instead\n",
      "  if pd.api.types.is_categorical_dtype(vector):\n",
      "c:\\Users\\hungl\\AppData\\Local\\Programs\\Python\\Python311\\Lib\\site-packages\\seaborn\\_oldcore.py:1498: FutureWarning: is_categorical_dtype is deprecated and will be removed in a future version. Use isinstance(dtype, CategoricalDtype) instead\n",
      "  if pd.api.types.is_categorical_dtype(vector):\n",
      "c:\\Users\\hungl\\AppData\\Local\\Programs\\Python\\Python311\\Lib\\site-packages\\seaborn\\_oldcore.py:1498: FutureWarning: is_categorical_dtype is deprecated and will be removed in a future version. Use isinstance(dtype, CategoricalDtype) instead\n",
      "  if pd.api.types.is_categorical_dtype(vector):\n"
     ]
    },
    {
     "data": {
      "text/plain": [
       "<Axes: xlabel='Purchased', ylabel='count'>"
      ]
     },
     "execution_count": 39,
     "metadata": {},
     "output_type": "execute_result"
    },
    {
     "data": {
      "image/png": "[encoded data removed]",
      "text/plain": [
       "<Figure size 640x480 with 1 Axes>"
      ]
     },
     "metadata": {},
     "output_type": "display_data"
    }
   ],
   "source": [
    "#Kiểm tra xem có bao nhiêu nam và nữ đã mua sản phẩm:\n",
    "sns.countplot(x='Purchased', hue='Gender', data=social_N_data)"
   ]
  },
  {
   "cell_type": "code",
   "execution_count": 40,
   "metadata": {},
   "outputs": [
    {
     "name": "stderr",
     "output_type": "stream",
     "text": [
      "c:\\Users\\hungl\\AppData\\Local\\Programs\\Python\\Python311\\Lib\\site-packages\\seaborn\\_oldcore.py:1498: FutureWarning: is_categorical_dtype is deprecated and will be removed in a future version. Use isinstance(dtype, CategoricalDtype) instead\n",
      "  if pd.api.types.is_categorical_dtype(vector):\n",
      "c:\\Users\\hungl\\AppData\\Local\\Programs\\Python\\Python311\\Lib\\site-packages\\seaborn\\_oldcore.py:1119: FutureWarning: use_inf_as_na option is deprecated and will be removed in a future version. Convert inf values to NaN before operating instead.\n",
      "  with pd.option_context('mode.use_inf_as_na', True):\n"
     ]
    },
    {
     "data": {
      "text/plain": [
       "<seaborn.axisgrid.FacetGrid at 0x112c9430410>"
      ]
     },
     "execution_count": 40,
     "metadata": {},
     "output_type": "execute_result"
    },
    {
     "data": {
      "image/png": "[encoded data removed]",
      "text/plain": [
       "<Figure size 500x500 with 1 Axes>"
      ]
     },
     "metadata": {},
     "output_type": "display_data"
    }
   ],
   "source": [
    "#Chúng tôi cũng có thể kiểm tra phân bố độ tuổi trong tập dữ liệu:\n",
    "sns.displot(x='Age', data=social_N_data, color='red', kde=True)"
   ]
  },
  {
   "cell_type": "markdown",
   "metadata": {},
   "source": [
    "<h5>Làm sạch dữ liệu"
   ]
  },
  {
   "cell_type": "code",
   "execution_count": 41,
   "metadata": {},
   "outputs": [],
   "source": [
    "social_N_data.drop('User ID', axis=1, inplace=True)"
   ]
  },
  {
   "cell_type": "markdown",
   "metadata": {},
   "source": [
    "##### Thay đổi dữ liệu phân loại thành hình nộm"
   ]
  },
  {
   "cell_type": "code",
   "execution_count": 42,
   "metadata": {},
   "outputs": [
    {
     "name": "stdout",
     "output_type": "stream",
     "text": [
      "<class 'pandas.core.frame.DataFrame'>\n",
      "RangeIndex: 400 entries, 0 to 399\n",
      "Data columns (total 4 columns):\n",
      " #   Column           Non-Null Count  Dtype \n",
      "---  ------           --------------  ----- \n",
      " 0   Gender           400 non-null    object\n",
      " 1   Age              400 non-null    int64 \n",
      " 2   EstimatedSalary  400 non-null    int64 \n",
      " 3   Purchased        400 non-null    int64 \n",
      "dtypes: int64(3), object(1)\n",
      "memory usage: 12.6+ KB\n"
     ]
    }
   ],
   "source": [
    "social_N_data.info()"
   ]
  },
  {
   "cell_type": "markdown",
   "metadata": {},
   "source": [
    "##### Biến này Gendercó tính chất phân loại. Để mô hình hoạt động, chúng tôi sẽ chuyển đổi nó thành các biến giả bằng cách sử dụng Pandas get_dummieshoặc oneHotEncoderphương thức.\n",
    "##### Thay đổi Genderbiến giả và loại bỏ biến giả đầu tiên để tránh hiện tượng đa cộng tuyến:"
   ]
  },
  {
   "cell_type": "code",
   "execution_count": 43,
   "metadata": {},
   "outputs": [
    {
     "data": {
      "text/html": [
       "<div>\n",
       "<style scoped>\n",
       "    .dataframe tbody tr th:only-of-type {\n",
       "        vertical-align: middle;\n",
       "    }\n",
       "\n",
       "    .dataframe tbody tr th {\n",
       "        vertical-align: top;\n",
       "    }\n",
       "\n",
       "    .dataframe thead th {\n",
       "        text-align: right;\n",
       "    }\n",
       "</style>\n",
       "<table border=\"1\" class=\"dataframe\">\n",
       "  <thead>\n",
       "    <tr style=\"text-align: right;\">\n",
       "      <th></th>\n",
       "      <th>Male</th>\n",
       "    </tr>\n",
       "  </thead>\n",
       "  <tbody>\n",
       "    <tr>\n",
       "      <th>0</th>\n",
       "      <td>True</td>\n",
       "    </tr>\n",
       "    <tr>\n",
       "      <th>1</th>\n",
       "      <td>True</td>\n",
       "    </tr>\n",
       "    <tr>\n",
       "      <th>2</th>\n",
       "      <td>False</td>\n",
       "    </tr>\n",
       "    <tr>\n",
       "      <th>3</th>\n",
       "      <td>False</td>\n",
       "    </tr>\n",
       "    <tr>\n",
       "      <th>4</th>\n",
       "      <td>True</td>\n",
       "    </tr>\n",
       "    <tr>\n",
       "      <th>...</th>\n",
       "      <td>...</td>\n",
       "    </tr>\n",
       "    <tr>\n",
       "      <th>395</th>\n",
       "      <td>False</td>\n",
       "    </tr>\n",
       "    <tr>\n",
       "      <th>396</th>\n",
       "      <td>True</td>\n",
       "    </tr>\n",
       "    <tr>\n",
       "      <th>397</th>\n",
       "      <td>False</td>\n",
       "    </tr>\n",
       "    <tr>\n",
       "      <th>398</th>\n",
       "      <td>True</td>\n",
       "    </tr>\n",
       "    <tr>\n",
       "      <th>399</th>\n",
       "      <td>False</td>\n",
       "    </tr>\n",
       "  </tbody>\n",
       "</table>\n",
       "<p>400 rows × 1 columns</p>\n",
       "</div>"
      ],
      "text/plain": [
       "      Male\n",
       "0     True\n",
       "1     True\n",
       "2    False\n",
       "3    False\n",
       "4     True\n",
       "..     ...\n",
       "395  False\n",
       "396   True\n",
       "397  False\n",
       "398   True\n",
       "399  False\n",
       "\n",
       "[400 rows x 1 columns]"
      ]
     },
     "execution_count": 43,
     "metadata": {},
     "output_type": "execute_result"
    }
   ],
   "source": [
    "gender = pd.get_dummies(social_N_data['Gender'], drop_first=True)\n",
    "gender"
   ]
  },
  {
   "cell_type": "code",
   "execution_count": 44,
   "metadata": {},
   "outputs": [],
   "source": [
    "social_N_data.drop('Gender',axis=1,inplace=True)"
   ]
  },
  {
   "cell_type": "code",
   "execution_count": 45,
   "metadata": {},
   "outputs": [],
   "source": [
    "social_N_data = pd.concat([social_N_data,gender], axis=1)"
   ]
  },
  {
   "cell_type": "code",
   "execution_count": 46,
   "metadata": {},
   "outputs": [
    {
     "data": {
      "text/html": [
       "<div>\n",
       "<style scoped>\n",
       "    .dataframe tbody tr th:only-of-type {\n",
       "        vertical-align: middle;\n",
       "    }\n",
       "\n",
       "    .dataframe tbody tr th {\n",
       "        vertical-align: top;\n",
       "    }\n",
       "\n",
       "    .dataframe thead th {\n",
       "        text-align: right;\n",
       "    }\n",
       "</style>\n",
       "<table border=\"1\" class=\"dataframe\">\n",
       "  <thead>\n",
       "    <tr style=\"text-align: right;\">\n",
       "      <th></th>\n",
       "      <th>Age</th>\n",
       "      <th>EstimatedSalary</th>\n",
       "      <th>Purchased</th>\n",
       "      <th>Male</th>\n",
       "    </tr>\n",
       "  </thead>\n",
       "  <tbody>\n",
       "    <tr>\n",
       "      <th>0</th>\n",
       "      <td>19</td>\n",
       "      <td>19000</td>\n",
       "      <td>0</td>\n",
       "      <td>True</td>\n",
       "    </tr>\n",
       "    <tr>\n",
       "      <th>1</th>\n",
       "      <td>35</td>\n",
       "      <td>20000</td>\n",
       "      <td>0</td>\n",
       "      <td>True</td>\n",
       "    </tr>\n",
       "    <tr>\n",
       "      <th>2</th>\n",
       "      <td>26</td>\n",
       "      <td>43000</td>\n",
       "      <td>0</td>\n",
       "      <td>False</td>\n",
       "    </tr>\n",
       "    <tr>\n",
       "      <th>3</th>\n",
       "      <td>27</td>\n",
       "      <td>57000</td>\n",
       "      <td>0</td>\n",
       "      <td>False</td>\n",
       "    </tr>\n",
       "    <tr>\n",
       "      <th>4</th>\n",
       "      <td>19</td>\n",
       "      <td>76000</td>\n",
       "      <td>0</td>\n",
       "      <td>True</td>\n",
       "    </tr>\n",
       "  </tbody>\n",
       "</table>\n",
       "</div>"
      ],
      "text/plain": [
       "   Age  EstimatedSalary  Purchased   Male\n",
       "0   19            19000          0   True\n",
       "1   35            20000          0   True\n",
       "2   26            43000          0  False\n",
       "3   27            57000          0  False\n",
       "4   19            76000          0   True"
      ]
     },
     "execution_count": 46,
     "metadata": {},
     "output_type": "execute_result"
    }
   ],
   "source": [
    "social_N_data.head()\n",
    "# nam True 0\n",
    "# nữ flase 1"
   ]
  },
  {
   "cell_type": "markdown",
   "metadata": {},
   "source": [
    "##### Tách dữ liệu thành các biến độc lập (X) và phụ thuộc (y)\n",
    "##### Chia dữ liệu thành các biến độc lập và phụ thuộc."
   ]
  },
  {
   "cell_type": "code",
   "execution_count": 47,
   "metadata": {},
   "outputs": [
    {
     "data": {
      "text/html": [
       "<div>\n",
       "<style scoped>\n",
       "    .dataframe tbody tr th:only-of-type {\n",
       "        vertical-align: middle;\n",
       "    }\n",
       "\n",
       "    .dataframe tbody tr th {\n",
       "        vertical-align: top;\n",
       "    }\n",
       "\n",
       "    .dataframe thead th {\n",
       "        text-align: right;\n",
       "    }\n",
       "</style>\n",
       "<table border=\"1\" class=\"dataframe\">\n",
       "  <thead>\n",
       "    <tr style=\"text-align: right;\">\n",
       "      <th></th>\n",
       "      <th>Age</th>\n",
       "      <th>EstimatedSalary</th>\n",
       "      <th>Male</th>\n",
       "    </tr>\n",
       "  </thead>\n",
       "  <tbody>\n",
       "    <tr>\n",
       "      <th>0</th>\n",
       "      <td>19</td>\n",
       "      <td>19000</td>\n",
       "      <td>True</td>\n",
       "    </tr>\n",
       "    <tr>\n",
       "      <th>1</th>\n",
       "      <td>35</td>\n",
       "      <td>20000</td>\n",
       "      <td>True</td>\n",
       "    </tr>\n",
       "    <tr>\n",
       "      <th>2</th>\n",
       "      <td>26</td>\n",
       "      <td>43000</td>\n",
       "      <td>False</td>\n",
       "    </tr>\n",
       "    <tr>\n",
       "      <th>3</th>\n",
       "      <td>27</td>\n",
       "      <td>57000</td>\n",
       "      <td>False</td>\n",
       "    </tr>\n",
       "    <tr>\n",
       "      <th>4</th>\n",
       "      <td>19</td>\n",
       "      <td>76000</td>\n",
       "      <td>True</td>\n",
       "    </tr>\n",
       "  </tbody>\n",
       "</table>\n",
       "</div>"
      ],
      "text/plain": [
       "   Age  EstimatedSalary   Male\n",
       "0   19            19000   True\n",
       "1   35            20000   True\n",
       "2   26            43000  False\n",
       "3   27            57000  False\n",
       "4   19            76000   True"
      ]
     },
     "execution_count": 47,
     "metadata": {},
     "output_type": "execute_result"
    }
   ],
   "source": [
    "X = social_N_data.iloc[:,[0,1,3]] # Age, EstimatedSalary and Male\n",
    "X.head()"
   ]
  },
  {
   "cell_type": "code",
   "execution_count": 48,
   "metadata": {},
   "outputs": [
    {
     "data": {
      "text/plain": [
       "0    0\n",
       "1    0\n",
       "2    0\n",
       "3    0\n",
       "4    0\n",
       "Name: Purchased, dtype: int64"
      ]
     },
     "execution_count": 48,
     "metadata": {},
     "output_type": "execute_result"
    }
   ],
   "source": [
    "y = social_N_data.iloc[:, 2] # Purchased\n",
    "y.head()"
   ]
  },
  {
   "cell_type": "markdown",
   "metadata": {},
   "source": [
    "### Chia tỷ lệ tính năng\n",
    "### Chia tỷ lệ đặc trưng là một phương pháp được sử dụng để chuẩn hóa phạm vi của các biến độc lập. Phương pháp này cho phép các biến độc lập nằm trong cùng một phạm vi."
   ]
  },
  {
   "cell_type": "code",
   "execution_count": 49,
   "metadata": {},
   "outputs": [
    {
     "data": {
      "text/plain": [
       "array([[-1.78179743, -1.49004624,  1.02020406],\n",
       "       [-0.25358736, -1.46068138,  1.02020406],\n",
       "       [-1.11320552, -0.78528968, -0.98019606],\n",
       "       ...,\n",
       "       [ 1.17910958, -1.46068138, -0.98019606],\n",
       "       [-0.15807423, -1.07893824,  1.02020406],\n",
       "       [ 1.08359645, -0.99084367, -0.98019606]])"
      ]
     },
     "execution_count": 49,
     "metadata": {},
     "output_type": "execute_result"
    }
   ],
   "source": [
    "from sklearn.preprocessing import StandardScaler\n",
    "sc = StandardScaler()\n",
    "X = sc.fit_transform(X)\n",
    "X"
   ]
  },
  {
   "cell_type": "markdown",
   "metadata": {},
   "source": [
    "### Chia tập dữ liệu thành tập huấn luyện và tập kiểm tra"
   ]
  },
  {
   "cell_type": "code",
   "execution_count": 50,
   "metadata": {},
   "outputs": [
    {
     "name": "stdout",
     "output_type": "stream",
     "text": [
      "(360, 3)\n",
      "(40, 3)\n",
      "(360,)\n",
      "(40,)\n"
     ]
    }
   ],
   "source": [
    "from sklearn.model_selection import train_test_split \n",
    "X_train, X_test, y_train, y_test = train_test_split(X, y, test_size=0.1, random_state=10)\n",
    "\n",
    "print(X_train.shape)\n",
    "print(X_test.shape)\n",
    "print(y_train.shape)\n",
    "print(y_test.shape)"
   ]
  },
  {
   "cell_type": "code",
   "execution_count": null,
   "metadata": {},
   "outputs": [],
   "source": []
  },
  {
   "cell_type": "markdown",
   "metadata": {},
   "source": [
    "### \n",
    "Lắp mô hình hồi quy logistic và dự đoán kết quả kiểm tra"
   ]
  },
  {
   "cell_type": "code",
   "execution_count": 51,
   "metadata": {},
   "outputs": [
    {
     "data": {
      "text/html": [
       "<style>#sk-container-id-2 {color: black;}#sk-container-id-2 pre{padding: 0;}#sk-container-id-2 div.sk-toggleable {background-color: white;}#sk-container-id-2 label.sk-toggleable__label {cursor: pointer;display: block;width: 100%;margin-bottom: 0;padding: 0.3em;box-sizing: border-box;text-align: center;}#sk-container-id-2 label.sk-toggleable__label-arrow:before {content: \"▸\";float: left;margin-right: 0.25em;color: #696969;}#sk-container-id-2 label.sk-toggleable__label-arrow:hover:before {color: black;}#sk-container-id-2 div.sk-estimator:hover label.sk-toggleable__label-arrow:before {color: black;}#sk-container-id-2 div.sk-toggleable__content {max-height: 0;max-width: 0;overflow: hidden;text-align: left;background-color: #f0f8ff;}#sk-container-id-2 div.sk-toggleable__content pre {margin: 0.2em;color: black;border-radius: 0.25em;background-color: #f0f8ff;}#sk-container-id-2 input.sk-toggleable__control:checked~div.sk-toggleable__content {max-height: 200px;max-width: 100%;overflow: auto;}#sk-container-id-2 input.sk-toggleable__control:checked~label.sk-toggleable__label-arrow:before {content: \"▾\";}#sk-container-id-2 div.sk-estimator input.sk-toggleable__control:checked~label.sk-toggleable__label {background-color: #d4ebff;}#sk-container-id-2 div.sk-label input.sk-toggleable__control:checked~label.sk-toggleable__label {background-color: #d4ebff;}#sk-container-id-2 input.sk-hidden--visually {border: 0;clip: rect(1px 1px 1px 1px);clip: rect(1px, 1px, 1px, 1px);height: 1px;margin: -1px;overflow: hidden;padding: 0;position: absolute;width: 1px;}#sk-container-id-2 div.sk-estimator {font-family: monospace;background-color: #f0f8ff;border: 1px dotted black;border-radius: 0.25em;box-sizing: border-box;margin-bottom: 0.5em;}#sk-container-id-2 div.sk-estimator:hover {background-color: #d4ebff;}#sk-container-id-2 div.sk-parallel-item::after {content: \"\";width: 100%;border-bottom: 1px solid gray;flex-grow: 1;}#sk-container-id-2 div.sk-label:hover label.sk-toggleable__label {background-color: #d4ebff;}#sk-container-id-2 div.sk-serial::before {content: \"\";position: absolute;border-left: 1px solid gray;box-sizing: border-box;top: 0;bottom: 0;left: 50%;z-index: 0;}#sk-container-id-2 div.sk-serial {display: flex;flex-direction: column;align-items: center;background-color: white;padding-right: 0.2em;padding-left: 0.2em;position: relative;}#sk-container-id-2 div.sk-item {position: relative;z-index: 1;}#sk-container-id-2 div.sk-parallel {display: flex;align-items: stretch;justify-content: center;background-color: white;position: relative;}#sk-container-id-2 div.sk-item::before, #sk-container-id-2 div.sk-parallel-item::before {content: \"\";position: absolute;border-left: 1px solid gray;box-sizing: border-box;top: 0;bottom: 0;left: 50%;z-index: -1;}#sk-container-id-2 div.sk-parallel-item {display: flex;flex-direction: column;z-index: 1;position: relative;background-color: white;}#sk-container-id-2 div.sk-parallel-item:first-child::after {align-self: flex-end;width: 50%;}#sk-container-id-2 div.sk-parallel-item:last-child::after {align-self: flex-start;width: 50%;}#sk-container-id-2 div.sk-parallel-item:only-child::after {width: 0;}#sk-container-id-2 div.sk-dashed-wrapped {border: 1px dashed gray;margin: 0 0.4em 0.5em 0.4em;box-sizing: border-box;padding-bottom: 0.4em;background-color: white;}#sk-container-id-2 div.sk-label label {font-family: monospace;font-weight: bold;display: inline-block;line-height: 1.2em;}#sk-container-id-2 div.sk-label-container {text-align: center;}#sk-container-id-2 div.sk-container {/* jupyter's `normalize.less` sets `[hidden] { display: none; }` but bootstrap.min.css set `[hidden] { display: none !important; }` so we also need the `!important` here to be able to override the default hidden behavior on the sphinx rendered scikit-learn.org. See: https://github.com/scikit-learn/scikit-learn/issues/21755 */display: inline-block !important;position: relative;}#sk-container-id-2 div.sk-text-repr-fallback {display: none;}</style><div id=\"sk-container-id-2\" class=\"sk-top-container\"><div class=\"sk-text-repr-fallback\"><pre>LogisticRegression()</pre><b>In a Jupyter environment, please rerun this cell to show the HTML representation or trust the notebook. <br />On GitHub, the HTML representation is unable to render, please try loading this page with nbviewer.org.</b></div><div class=\"sk-container\" hidden><div class=\"sk-item\"><div class=\"sk-estimator sk-toggleable\"><input class=\"sk-toggleable__control sk-hidden--visually\" id=\"sk-estimator-id-2\" type=\"checkbox\" checked><label for=\"sk-estimator-id-2\" class=\"sk-toggleable__label sk-toggleable__label-arrow\">LogisticRegression</label><div class=\"sk-toggleable__content\"><pre>LogisticRegression()</pre></div></div></div></div></div>"
      ],
      "text/plain": [
       "LogisticRegression()"
      ]
     },
     "execution_count": 51,
     "metadata": {},
     "output_type": "execute_result"
    }
   ],
   "source": [
    "from sklearn.linear_model import LogisticRegression  \n",
    "classifier = LogisticRegression()\n",
    "classifier.fit(X_train, y_train)"
   ]
  },
  {
   "cell_type": "code",
   "execution_count": 69,
   "metadata": {},
   "outputs": [
    {
     "name": "stdout",
     "output_type": "stream",
     "text": [
      "Giá trị đầu ra của dòng cuối cùng trên tập huấn luyện: 1\n"
     ]
    }
   ],
   "source": [
    "last_row_output = y_train.iloc[-1]\n",
    "\n",
    "print(\"Giá trị đầu ra của dòng cuối cùng trên tập huấn luyện:\", last_row_output)"
   ]
  },
  {
   "cell_type": "code",
   "execution_count": 71,
   "metadata": {},
   "outputs": [
    {
     "name": "stdout",
     "output_type": "stream",
     "text": [
      "Giá trị dự đoán trước khi áp dụng hàm sigmoid cho dòng đầu tiên: [0 0 1 1 0 1 0 1 0 0 0 0 1 1 0 0 0 0 0 1 0 0 0 1 1 0 0 1 1 0 0 0 0 1 1 0 1\n",
      " 1 0 0]\n"
     ]
    }
   ],
   "source": [
    "first_row_prediction = classifier.predict(X_test)\n",
    "\n",
    "print(\"Giá trị dự đoán trước khi áp dụng hàm sigmoid cho dòng đầu tiên:\", first_row_prediction)"
   ]
  },
  {
   "cell_type": "code",
   "execution_count": null,
   "metadata": {},
   "outputs": [],
   "source": [
    "last_row_prediction = y_pred[-1]\n",
    "\n",
    "print(\"Kết quả dự báo cuối cùng cho giá trị mua hàng trong tập dữ liệu test:\", last_row_prediction)"
   ]
  },
  {
   "cell_type": "code",
   "execution_count": 53,
   "metadata": {},
   "outputs": [],
   "source": [
    "y_pred = classifier.predict(X_test)"
   ]
  },
  {
   "cell_type": "code",
   "execution_count": 54,
   "metadata": {},
   "outputs": [
    {
     "data": {
      "text/html": [
       "<div>\n",
       "<style scoped>\n",
       "    .dataframe tbody tr th:only-of-type {\n",
       "        vertical-align: middle;\n",
       "    }\n",
       "\n",
       "    .dataframe tbody tr th {\n",
       "        vertical-align: top;\n",
       "    }\n",
       "\n",
       "    .dataframe thead th {\n",
       "        text-align: right;\n",
       "    }\n",
       "</style>\n",
       "<table border=\"1\" class=\"dataframe\">\n",
       "  <thead>\n",
       "    <tr style=\"text-align: right;\">\n",
       "      <th></th>\n",
       "      <th>Actual</th>\n",
       "      <th>Predicted</th>\n",
       "    </tr>\n",
       "  </thead>\n",
       "  <tbody>\n",
       "    <tr>\n",
       "      <th>332</th>\n",
       "      <td>0</td>\n",
       "      <td>0</td>\n",
       "    </tr>\n",
       "    <tr>\n",
       "      <th>111</th>\n",
       "      <td>0</td>\n",
       "      <td>0</td>\n",
       "    </tr>\n",
       "    <tr>\n",
       "      <th>352</th>\n",
       "      <td>1</td>\n",
       "      <td>1</td>\n",
       "    </tr>\n",
       "    <tr>\n",
       "      <th>205</th>\n",
       "      <td>0</td>\n",
       "      <td>1</td>\n",
       "    </tr>\n",
       "    <tr>\n",
       "      <th>56</th>\n",
       "      <td>0</td>\n",
       "      <td>0</td>\n",
       "    </tr>\n",
       "    <tr>\n",
       "      <th>379</th>\n",
       "      <td>1</td>\n",
       "      <td>1</td>\n",
       "    </tr>\n",
       "    <tr>\n",
       "      <th>81</th>\n",
       "      <td>0</td>\n",
       "      <td>0</td>\n",
       "    </tr>\n",
       "    <tr>\n",
       "      <th>214</th>\n",
       "      <td>0</td>\n",
       "      <td>1</td>\n",
       "    </tr>\n",
       "    <tr>\n",
       "      <th>142</th>\n",
       "      <td>0</td>\n",
       "      <td>0</td>\n",
       "    </tr>\n",
       "    <tr>\n",
       "      <th>110</th>\n",
       "      <td>0</td>\n",
       "      <td>0</td>\n",
       "    </tr>\n",
       "    <tr>\n",
       "      <th>119</th>\n",
       "      <td>0</td>\n",
       "      <td>0</td>\n",
       "    </tr>\n",
       "    <tr>\n",
       "      <th>172</th>\n",
       "      <td>0</td>\n",
       "      <td>0</td>\n",
       "    </tr>\n",
       "    <tr>\n",
       "      <th>373</th>\n",
       "      <td>1</td>\n",
       "      <td>1</td>\n",
       "    </tr>\n",
       "    <tr>\n",
       "      <th>274</th>\n",
       "      <td>1</td>\n",
       "      <td>1</td>\n",
       "    </tr>\n",
       "    <tr>\n",
       "      <th>24</th>\n",
       "      <td>1</td>\n",
       "      <td>0</td>\n",
       "    </tr>\n",
       "    <tr>\n",
       "      <th>276</th>\n",
       "      <td>0</td>\n",
       "      <td>0</td>\n",
       "    </tr>\n",
       "    <tr>\n",
       "      <th>78</th>\n",
       "      <td>0</td>\n",
       "      <td>0</td>\n",
       "    </tr>\n",
       "    <tr>\n",
       "      <th>65</th>\n",
       "      <td>0</td>\n",
       "      <td>0</td>\n",
       "    </tr>\n",
       "    <tr>\n",
       "      <th>43</th>\n",
       "      <td>0</td>\n",
       "      <td>0</td>\n",
       "    </tr>\n",
       "    <tr>\n",
       "      <th>339</th>\n",
       "      <td>1</td>\n",
       "      <td>1</td>\n",
       "    </tr>\n",
       "    <tr>\n",
       "      <th>47</th>\n",
       "      <td>0</td>\n",
       "      <td>0</td>\n",
       "    </tr>\n",
       "    <tr>\n",
       "      <th>105</th>\n",
       "      <td>0</td>\n",
       "      <td>0</td>\n",
       "    </tr>\n",
       "    <tr>\n",
       "      <th>351</th>\n",
       "      <td>0</td>\n",
       "      <td>0</td>\n",
       "    </tr>\n",
       "    <tr>\n",
       "      <th>280</th>\n",
       "      <td>1</td>\n",
       "      <td>1</td>\n",
       "    </tr>\n",
       "    <tr>\n",
       "      <th>366</th>\n",
       "      <td>1</td>\n",
       "      <td>1</td>\n",
       "    </tr>\n",
       "    <tr>\n",
       "      <th>113</th>\n",
       "      <td>0</td>\n",
       "      <td>0</td>\n",
       "    </tr>\n",
       "    <tr>\n",
       "      <th>241</th>\n",
       "      <td>0</td>\n",
       "      <td>0</td>\n",
       "    </tr>\n",
       "    <tr>\n",
       "      <th>253</th>\n",
       "      <td>1</td>\n",
       "      <td>1</td>\n",
       "    </tr>\n",
       "    <tr>\n",
       "      <th>390</th>\n",
       "      <td>1</td>\n",
       "      <td>1</td>\n",
       "    </tr>\n",
       "    <tr>\n",
       "      <th>398</th>\n",
       "      <td>0</td>\n",
       "      <td>0</td>\n",
       "    </tr>\n",
       "    <tr>\n",
       "      <th>1</th>\n",
       "      <td>0</td>\n",
       "      <td>0</td>\n",
       "    </tr>\n",
       "    <tr>\n",
       "      <th>6</th>\n",
       "      <td>0</td>\n",
       "      <td>0</td>\n",
       "    </tr>\n",
       "    <tr>\n",
       "      <th>183</th>\n",
       "      <td>0</td>\n",
       "      <td>0</td>\n",
       "    </tr>\n",
       "    <tr>\n",
       "      <th>26</th>\n",
       "      <td>1</td>\n",
       "      <td>1</td>\n",
       "    </tr>\n",
       "    <tr>\n",
       "      <th>331</th>\n",
       "      <td>1</td>\n",
       "      <td>1</td>\n",
       "    </tr>\n",
       "    <tr>\n",
       "      <th>173</th>\n",
       "      <td>0</td>\n",
       "      <td>0</td>\n",
       "    </tr>\n",
       "    <tr>\n",
       "      <th>367</th>\n",
       "      <td>1</td>\n",
       "      <td>1</td>\n",
       "    </tr>\n",
       "    <tr>\n",
       "      <th>208</th>\n",
       "      <td>1</td>\n",
       "      <td>1</td>\n",
       "    </tr>\n",
       "    <tr>\n",
       "      <th>154</th>\n",
       "      <td>0</td>\n",
       "      <td>0</td>\n",
       "    </tr>\n",
       "    <tr>\n",
       "      <th>138</th>\n",
       "      <td>0</td>\n",
       "      <td>0</td>\n",
       "    </tr>\n",
       "  </tbody>\n",
       "</table>\n",
       "</div>"
      ],
      "text/plain": [
       "     Actual  Predicted\n",
       "332       0          0\n",
       "111       0          0\n",
       "352       1          1\n",
       "205       0          1\n",
       "56        0          0\n",
       "379       1          1\n",
       "81        0          0\n",
       "214       0          1\n",
       "142       0          0\n",
       "110       0          0\n",
       "119       0          0\n",
       "172       0          0\n",
       "373       1          1\n",
       "274       1          1\n",
       "24        1          0\n",
       "276       0          0\n",
       "78        0          0\n",
       "65        0          0\n",
       "43        0          0\n",
       "339       1          1\n",
       "47        0          0\n",
       "105       0          0\n",
       "351       0          0\n",
       "280       1          1\n",
       "366       1          1\n",
       "113       0          0\n",
       "241       0          0\n",
       "253       1          1\n",
       "390       1          1\n",
       "398       0          0\n",
       "1         0          0\n",
       "6         0          0\n",
       "183       0          0\n",
       "26        1          1\n",
       "331       1          1\n",
       "173       0          0\n",
       "367       1          1\n",
       "208       1          1\n",
       "154       0          0\n",
       "138       0          0"
      ]
     },
     "execution_count": 54,
     "metadata": {},
     "output_type": "execute_result"
    }
   ],
   "source": [
    "result = pd.DataFrame({'Actual' : y_test, 'Predicted' : y_pred})\n",
    "result"
   ]
  },
  {
   "cell_type": "code",
   "execution_count": 72,
   "metadata": {},
   "outputs": [
    {
     "name": "stdout",
     "output_type": "stream",
     "text": [
      "Kết quả dự báo cuối cùng cho giá trị mua hàng trong tập dữ liệu test: 0\n"
     ]
    }
   ],
   "source": [
    "last_row_prediction = y_pred[-1]\n",
    "\n",
    "print(\"Kết quả dự báo cuối cùng cho giá trị mua hàng trong tập dữ liệu test:\", last_row_prediction)"
   ]
  },
  {
   "cell_type": "code",
   "execution_count": 75,
   "metadata": {},
   "outputs": [
    {
     "data": {
      "text/plain": [
       "0"
      ]
     },
     "execution_count": 75,
     "metadata": {},
     "output_type": "execute_result"
    }
   ],
   "source": [
    "prediction = y_pred[0]\n",
    "prediction\n",
    "# Áp dụng hàm sigmoid\n",
    "\n",
    "# print(\"Giá trị sau khi đi qua hàm sigmoid cho dòng đầu tiên trên tập test:\", sigmoid_value)"
   ]
  },
  {
   "cell_type": "markdown",
   "metadata": {},
   "source": [
    "### Các thuộc tính coef_và intercept_cung cấp hệ số và điểm chặn của mô hình."
   ]
  },
  {
   "cell_type": "code",
   "execution_count": 55,
   "metadata": {},
   "outputs": [
    {
     "data": {
      "text/plain": [
       "array([[2.15200421, 1.08592164, 0.15798615]])"
      ]
     },
     "execution_count": 55,
     "metadata": {},
     "output_type": "execute_result"
    }
   ],
   "source": [
    "classifier.coef_\n",
    "# array([[2.36839196, 1.42929561, 0.20973787]])\n",
    "# 3 đặc trưng của mảng"
   ]
  },
  {
   "cell_type": "code",
   "execution_count": 56,
   "metadata": {},
   "outputs": [
    {
     "data": {
      "text/plain": [
       "array([-1.03526656])"
      ]
     },
     "execution_count": 56,
     "metadata": {},
     "output_type": "execute_result"
    }
   ],
   "source": [
    "classifier.intercept_   \n",
    "# Đây là hệ số góc của mô hình logistic regression"
   ]
  },
  {
   "cell_type": "code",
   "execution_count": 57,
   "metadata": {},
   "outputs": [
    {
     "name": "stdout",
     "output_type": "stream",
     "text": [
      "prediction with threshold 0.45:\n"
     ]
    },
    {
     "data": {
      "text/plain": [
       "array([1, 0, 1, 1, 0, 1, 0, 1, 0, 0, 0, 0, 1, 1, 0, 0, 0, 0, 0, 1, 0, 0,\n",
       "       0, 1, 1, 0, 0, 1, 1, 0, 0, 0, 0, 1, 1, 0, 1, 1, 0, 0])"
      ]
     },
     "execution_count": 57,
     "metadata": {},
     "output_type": "execute_result"
    }
   ],
   "source": [
    "print('prediction with threshold 0.45:')\n",
    "y_pred_test_new_threshold = (classifier.predict_proba(X_test)[:,1]>=0.45).astype(int)\n",
    "y_pred_test_new_threshold"
   ]
  },
  {
   "cell_type": "markdown",
   "metadata": {},
   "source": [
    "# Đánh giá mô hình"
   ]
  },
  {
   "cell_type": "markdown",
   "metadata": {},
   "source": [
    "#### sử dụngpredict_proba\n",
    "Nó trả về ma trận xác suất mà đầu ra được dự đoán bằng 0 hoặc một."
   ]
  },
  {
   "cell_type": "code",
   "execution_count": 58,
   "metadata": {},
   "outputs": [
    {
     "name": "stdout",
     "output_type": "stream",
     "text": [
      "[[0.99821508 0.00178492]\n",
      " [0.95284423 0.04715577]\n",
      " [0.9883244  0.0116756 ]\n",
      " [0.97782867 0.02217133]\n",
      " [0.98911027 0.01088973]\n",
      " [0.96888967 0.03111033]\n",
      " [0.94909559 0.05090441]\n",
      " [0.44849167 0.55150833]\n",
      " [0.99049982 0.00950018]\n",
      " [0.8684215  0.1315785 ]\n",
      " [0.96298293 0.03701707]\n",
      " [0.98450343 0.01549657]\n",
      " [0.98173906 0.01826094]\n",
      " [0.9755508  0.0244492 ]\n",
      " [0.98926234 0.01073766]\n",
      " [0.91100652 0.08899348]\n",
      " [0.5938778  0.4061222 ]\n",
      " [0.68118455 0.31881545]\n",
      " [0.62008296 0.37991704]\n",
      " [0.58975644 0.41024356]\n",
      " [0.7082237  0.2917763 ]\n",
      " [0.48269307 0.51730693]\n",
      " [0.41684657 0.58315343]\n",
      " [0.76902396 0.23097604]\n",
      " [0.65686172 0.34313828]\n",
      " [0.63168659 0.36831341]\n",
      " [0.46835893 0.53164107]\n",
      " [0.63102471 0.36897529]\n",
      " [0.97085349 0.02914651]\n",
      " [0.98000253 0.01999747]\n",
      " [0.89150677 0.10849323]\n",
      " [0.77477968 0.22522032]\n",
      " [0.99821617 0.00178383]\n",
      " [0.98193472 0.01806528]\n",
      " [0.91820443 0.08179557]\n",
      " [0.94173814 0.05826186]\n",
      " [0.97005575 0.02994425]\n",
      " [0.95726116 0.04273884]\n",
      " [0.97107676 0.02892324]\n",
      " [0.99020093 0.00979907]\n",
      " [0.99370729 0.00629271]\n",
      " [0.93960731 0.06039269]\n",
      " [0.54979858 0.45020142]\n",
      " [0.98512605 0.01487395]\n",
      " [0.93819743 0.06180257]\n",
      " [0.99581698 0.00418302]\n",
      " [0.96007672 0.03992328]\n",
      " [0.97981053 0.02018947]\n",
      " [0.59063861 0.40936139]\n",
      " [0.87478455 0.12521545]\n",
      " [0.9945157  0.0054843 ]\n",
      " [0.99764998 0.00235002]\n",
      " [0.92732851 0.07267149]\n",
      " [0.96181454 0.03818546]\n",
      " [0.97712671 0.02287329]\n",
      " [0.988648   0.011352  ]\n",
      " [0.99257687 0.00742313]\n",
      " [0.9284699  0.0715301 ]\n",
      " [0.99680144 0.00319856]\n",
      " [0.69962967 0.30037033]\n",
      " [0.99053226 0.00946774]\n",
      " [0.94906612 0.05093388]\n",
      " [0.98689696 0.01310304]\n",
      " [0.60678922 0.39321078]\n",
      " [0.02608456 0.97391544]\n",
      " [0.98296402 0.01703598]\n",
      " [0.99502763 0.00497237]\n",
      " [0.97836382 0.02163618]\n",
      " [0.9902716  0.0097284 ]\n",
      " [0.931731   0.068269  ]\n",
      " [0.95883638 0.04116362]\n",
      " [0.99532019 0.00467981]\n",
      " [0.99818443 0.00181557]\n",
      " [0.68298895 0.31701105]\n",
      " [0.9755508  0.0244492 ]\n",
      " [0.569019   0.430981  ]\n",
      " [0.99584732 0.00415268]\n",
      " [0.99689272 0.00310728]\n",
      " [0.93241246 0.06758754]\n",
      " [0.99487046 0.00512954]\n",
      " [0.89287424 0.10712576]\n",
      " [0.814917   0.185083  ]\n",
      " [0.99431608 0.00568392]\n",
      " [0.69796279 0.30203721]\n",
      " [0.95304447 0.04695553]\n",
      " [0.73481512 0.26518488]\n",
      " [0.98449412 0.01550588]\n",
      " [0.93632243 0.06367757]\n",
      " [0.94837446 0.05162554]\n",
      " [0.88588263 0.11411737]\n",
      " [0.97663586 0.02336414]\n",
      " [0.78389526 0.21610474]\n",
      " [0.99340834 0.00659166]\n",
      " [0.98661566 0.01338434]\n",
      " [0.92732851 0.07267149]\n",
      " [0.92802368 0.07197632]\n",
      " [0.95940198 0.04059802]\n",
      " [0.7613964  0.2386036 ]\n",
      " [0.78850453 0.21149547]\n",
      " [0.9854964  0.0145036 ]\n",
      " [0.92286834 0.07713166]\n",
      " [0.96087859 0.03912141]\n",
      " [0.86224479 0.13775521]\n",
      " [0.40602475 0.59397525]\n",
      " [0.99861249 0.00138751]\n",
      " [0.98559184 0.01440816]\n",
      " [0.99092948 0.00907052]\n",
      " [0.92056766 0.07943234]\n",
      " [0.93998635 0.06001365]\n",
      " [0.68828648 0.31171352]\n",
      " [0.70548744 0.29451256]\n",
      " [0.7832414  0.2167586 ]\n",
      " [0.74686392 0.25313608]\n",
      " [0.8143955  0.1856045 ]\n",
      " [0.41433004 0.58566996]\n",
      " [0.68963602 0.31036398]\n",
      " [0.77767332 0.22232668]\n",
      " [0.85570137 0.14429863]\n",
      " [0.67582318 0.32417682]\n",
      " [0.62927264 0.37072736]\n",
      " [0.79618998 0.20381002]\n",
      " [0.7184393  0.2815607 ]\n",
      " [0.63192196 0.36807804]\n",
      " [0.87584879 0.12415121]\n",
      " [0.75030445 0.24969555]\n",
      " [0.76717836 0.23282164]\n",
      " [0.53300828 0.46699172]\n",
      " [0.98871846 0.01128154]\n",
      " [0.98416206 0.01583794]\n",
      " [0.95815771 0.04184229]\n",
      " [0.93191167 0.06808833]\n",
      " [0.95548178 0.04451822]\n",
      " [0.86957733 0.13042267]\n",
      " [0.99070587 0.00929413]\n",
      " [0.97453773 0.02546227]\n",
      " [0.98371913 0.01628087]\n",
      " [0.98820423 0.01179577]\n",
      " [0.77893453 0.22106547]\n",
      " [0.9711736  0.0288264 ]\n",
      " [0.99783954 0.00216046]\n",
      " [0.98554271 0.01445729]\n",
      " [0.99496187 0.00503813]\n",
      " [0.85350569 0.14649431]\n",
      " [0.86217232 0.13782768]\n",
      " [0.96669371 0.03330629]\n",
      " [0.9671612  0.0328388 ]\n",
      " [0.92709541 0.07290459]\n",
      " [0.85444315 0.14555685]\n",
      " [0.94939899 0.05060101]\n",
      " [0.98747243 0.01252757]\n",
      " [0.99518586 0.00481414]\n",
      " [0.72622012 0.27377988]\n",
      " [0.88518245 0.11481755]\n",
      " [0.89658545 0.10341455]\n",
      " [0.7534871  0.2465129 ]\n",
      " [0.98666119 0.01333881]\n",
      " [0.37786372 0.62213628]\n",
      " [0.92311384 0.07688616]\n",
      " [0.9894081  0.0105919 ]\n",
      " [0.56747392 0.43252608]\n",
      " [0.7449     0.2551    ]\n",
      " [0.94423803 0.05576197]\n",
      " [0.92388893 0.07611107]\n",
      " [0.91923605 0.08076395]\n",
      " [0.89757916 0.10242084]\n",
      " [0.99109049 0.00890951]\n",
      " [0.99244554 0.00755446]\n",
      " [0.84497831 0.15502169]\n",
      " [0.53932052 0.46067948]\n",
      " [0.97573898 0.02426102]\n",
      " [0.97622923 0.02377077]\n",
      " [0.54542094 0.45457906]\n",
      " [0.88563552 0.11436448]\n",
      " [0.94235903 0.05764097]\n",
      " [0.86638915 0.13361085]\n",
      " [0.99606328 0.00393672]\n",
      " [0.92136623 0.07863377]\n",
      " [0.99329161 0.00670839]\n",
      " [0.99435499 0.00564501]\n",
      " [0.97582061 0.02417939]\n",
      " [0.99319621 0.00680379]\n",
      " [0.92538888 0.07461112]\n",
      " [0.69962967 0.30037033]\n",
      " [0.93605566 0.06394434]\n",
      " [0.92111563 0.07888437]\n",
      " [0.91383049 0.08616951]\n",
      " [0.98820423 0.01179577]\n",
      " [0.95536065 0.04463935]\n",
      " [0.79377341 0.20622659]\n",
      " [0.98307931 0.01692069]\n",
      " [0.96180689 0.03819311]\n",
      " [0.99837305 0.00162695]\n",
      " [0.97085349 0.02914651]\n",
      " [0.9909895  0.0090105 ]\n",
      " [0.90417854 0.09582146]\n",
      " [0.92259345 0.07740655]\n",
      " [0.92189417 0.07810583]\n",
      " [0.99725436 0.00274564]\n",
      " [0.94991357 0.05008643]\n",
      " [0.94989445 0.05010555]\n",
      " [0.91683678 0.08316322]\n",
      " [0.16888102 0.83111898]\n",
      " [0.24317099 0.75682901]\n",
      " [0.61360186 0.38639814]\n",
      " [0.01819191 0.98180809]\n",
      " [0.49863012 0.50136988]\n",
      " [0.01343276 0.98656724]\n",
      " [0.04032224 0.95967776]\n",
      " [0.16853853 0.83146147]\n",
      " [0.7305202  0.2694798 ]\n",
      " [0.14510353 0.85489647]\n",
      " [0.00962523 0.99037477]\n",
      " [0.09008679 0.90991321]\n",
      " [0.85744798 0.14255202]\n",
      " [0.45166063 0.54833937]\n",
      " [0.00973038 0.99026962]\n",
      " [0.2130585  0.7869415 ]\n",
      " [0.53214849 0.46785151]\n",
      " [0.20384344 0.79615656]\n",
      " [0.00287366 0.99712634]\n",
      " [0.54375941 0.45624059]\n",
      " [0.67742251 0.32257749]\n",
      " [0.20437068 0.79562932]\n",
      " [0.00859935 0.99140065]\n",
      " [0.88559482 0.11440518]\n",
      " [0.82384294 0.17615706]\n",
      " [0.43447035 0.56552965]\n",
      " [0.00729113 0.99270887]\n",
      " [0.65387919 0.34612081]\n",
      " [0.49248605 0.50751395]\n",
      " [0.32569153 0.67430847]\n",
      " [0.814917   0.185083  ]\n",
      " [0.31088642 0.68911358]\n",
      " [0.12172089 0.87827911]\n",
      " [0.44317327 0.55682673]\n",
      " [0.24298484 0.75701516]\n",
      " [0.68963602 0.31036398]\n",
      " [0.73059929 0.26940071]\n",
      " [0.28577106 0.71422894]\n",
      " [0.01338706 0.98661294]\n",
      " [0.07267134 0.92732866]\n",
      " [0.75873042 0.24126958]\n",
      " [0.12680386 0.87319614]\n",
      " [0.02477112 0.97522888]\n",
      " [0.60601456 0.39398544]\n",
      " [0.0182609  0.9817391 ]\n",
      " [0.91414996 0.08585004]\n",
      " [0.01151502 0.98848498]\n",
      " [0.67968253 0.32031747]\n",
      " [0.70405017 0.29594983]\n",
      " [0.70396645 0.29603355]\n",
      " [0.82842301 0.17157699]\n",
      " [0.04809558 0.95190442]\n",
      " [0.24844211 0.75155789]\n",
      " [0.37134532 0.62865468]\n",
      " [0.08283901 0.91716099]\n",
      " [0.60601456 0.39398544]\n",
      " [0.68963602 0.31036398]\n",
      " [0.02194361 0.97805639]\n",
      " [0.09338589 0.90661411]\n",
      " [0.81823253 0.18176747]\n",
      " [0.23982242 0.76017758]\n",
      " [0.01571816 0.98428184]\n",
      " [0.84075522 0.15924478]\n",
      " [0.13030771 0.86969229]\n",
      " [0.28436326 0.71563674]\n",
      " [0.55587451 0.44412549]\n",
      " [0.70536068 0.29463932]\n",
      " [0.04316467 0.95683533]\n",
      " [0.66169715 0.33830285]\n",
      " [0.12723138 0.87276862]\n",
      " [0.0323967  0.9676033 ]\n",
      " [0.05550612 0.94449388]\n",
      " [0.36388399 0.63611601]\n",
      " [0.19920357 0.80079643]\n",
      " [0.03776283 0.96223717]\n",
      " [0.68202129 0.31797871]\n",
      " [0.11506575 0.88493425]\n",
      " [0.32164738 0.67835262]\n",
      " [0.43257663 0.56742337]\n",
      " [0.02232608 0.97767392]\n",
      " [0.84535046 0.15464954]\n",
      " [0.73115865 0.26884135]\n",
      " [0.4491473  0.5508527 ]\n",
      " [0.02862241 0.97137759]\n",
      " [0.64178549 0.35821451]\n",
      " [0.82801842 0.17198158]\n",
      " [0.04258128 0.95741872]\n",
      " [0.47286145 0.52713855]\n",
      " [0.74296585 0.25703415]\n",
      " [0.18978497 0.81021503]\n",
      " [0.11185839 0.88814161]\n",
      " [0.15306402 0.84693598]\n",
      " [0.68509651 0.31490349]\n",
      " [0.89493548 0.10506452]\n",
      " [0.85135962 0.14864038]\n",
      " [0.46931909 0.53068091]\n",
      " [0.22166038 0.77833962]\n",
      " [0.28275441 0.71724559]\n",
      " [0.08721487 0.91278513]\n",
      " [0.12137435 0.87862565]\n",
      " [0.19972182 0.80027818]\n",
      " [0.30577492 0.69422508]\n",
      " [0.67117797 0.32882203]\n",
      " [0.73473683 0.26526317]\n",
      " [0.61845431 0.38154569]\n",
      " [0.02654763 0.97345237]\n",
      " [0.10812065 0.89187935]\n",
      " [0.36637901 0.63362099]\n",
      " [0.85179615 0.14820385]\n",
      " [0.57170754 0.42829246]\n",
      " [0.44036853 0.55963147]\n",
      " [0.85179615 0.14820385]\n",
      " [0.03185972 0.96814028]\n",
      " [0.6498691  0.3501309 ]\n",
      " [0.6783099  0.3216901 ]\n",
      " [0.03690147 0.96309853]\n",
      " [0.86874611 0.13125389]\n",
      " [0.63827692 0.36172308]\n",
      " [0.82126375 0.17873625]\n",
      " [0.0191709  0.9808291 ]\n",
      " [0.08668301 0.91331699]\n",
      " [0.67968253 0.32031747]\n",
      " [0.58201987 0.41798013]\n",
      " [0.05266955 0.94733045]\n",
      " [0.69280062 0.30719938]\n",
      " [0.52860736 0.47139264]\n",
      " [0.53230036 0.46769964]\n",
      " [0.41956312 0.58043688]\n",
      " [0.12800041 0.87199959]\n",
      " [0.80231638 0.19768362]\n",
      " [0.07537202 0.92462798]\n",
      " [0.53300828 0.46699172]\n",
      " [0.63258318 0.36741682]\n",
      " [0.05778497 0.94221503]\n",
      " [0.88414648 0.11585352]\n",
      " [0.00341677 0.99658323]\n",
      " [0.75484226 0.24515774]\n",
      " [0.83052026 0.16947974]\n",
      " [0.25564034 0.74435966]\n",
      " [0.0449437  0.9550563 ]\n",
      " [0.77767332 0.22232668]\n",
      " [0.78081799 0.21918201]\n",
      " [0.46679115 0.53320885]\n",
      " [0.1023837  0.8976163 ]\n",
      " [0.67207422 0.32792578]\n",
      " [0.08690842 0.91309158]\n",
      " [0.03262662 0.96737338]\n",
      " [0.59054146 0.40945854]\n",
      " [0.74686392 0.25313608]\n",
      " [0.43531916 0.56468084]\n",
      " [0.69869039 0.30130961]\n",
      " [0.41364013 0.58635987]\n",
      " [0.8495515  0.1504485 ]\n",
      " [0.5698658  0.4301342 ]\n",
      " [0.0704988  0.9295012 ]\n",
      " [0.07629748 0.92370252]\n",
      " [0.60601456 0.39398544]\n",
      " [0.58709937 0.41290063]\n",
      " [0.61845431 0.38154569]\n",
      " [0.1077294  0.8922706 ]\n",
      " [0.30487193 0.69512807]\n",
      " [0.4747357  0.5252643 ]\n",
      " [0.50045747 0.49954253]\n",
      " [0.24760924 0.75239076]\n",
      " [0.13033131 0.86966869]\n",
      " [0.09393817 0.90606183]\n",
      " [0.19413293 0.80586707]\n",
      " [0.68202129 0.31797871]\n",
      " [0.31547504 0.68452496]\n",
      " [0.06625626 0.93374374]\n",
      " [0.01564922 0.98435078]\n",
      " [0.69206506 0.30793494]\n",
      " [0.00434338 0.99565662]\n",
      " [0.73059929 0.26940071]\n",
      " [0.66337796 0.33662204]\n",
      " [0.34053543 0.65946457]\n",
      " [0.69654861 0.30345139]\n",
      " [0.41004861 0.58995139]\n",
      " [0.18225253 0.81774747]\n",
      " [0.54093651 0.45906349]\n",
      " [0.47985375 0.52014625]\n",
      " [0.0892737  0.9107263 ]\n",
      " [0.46835893 0.53164107]\n",
      " [0.16596547 0.83403453]\n",
      " [0.07004749 0.92995251]\n",
      " [0.45972113 0.54027887]\n",
      " [0.63588126 0.36411874]\n",
      " [0.52324026 0.47675974]\n",
      " [0.54280273 0.45719727]\n",
      " [0.47985375 0.52014625]\n",
      " [0.60916302 0.39083698]\n",
      " [0.61523834 0.38476166]\n",
      " [0.05550612 0.94449388]\n",
      " [0.77837515 0.22162485]\n",
      " [0.59661793 0.40338207]\n",
      " [0.40651689 0.59348311]\n",
      " [0.55943287 0.44056713]\n",
      " [0.91574633 0.08425367]\n",
      " [0.48355554 0.51644446]]\n"
     ]
    }
   ],
   "source": [
    "print (classifier.predict_proba(X))\n",
    "# cột một là không mua \n",
    "# cột 2 mua"
   ]
  },
  {
   "cell_type": "code",
   "execution_count": 59,
   "metadata": {},
   "outputs": [],
   "source": [
    "\n",
    "# Sử dụng ma trận nhầm lẫn\n",
    "# Từ mô-đun Scikit-learn , chúng tôi nhập các tệp . Ma trận nhầm lẫn là số lượng dự đoán đúng và sai theo cột, hiển thị các giá trị sau: metrics confusion_matrix\n",
    "# Âm tính thực sự (TN) ở vị trí phía trên bên trái.\n",
    "# Âm tính giả (FN) ở vị trí phía dưới bên trái.\n",
    "# Dương tính giả (FP) ở vị trí phía trên bên phải.\n",
    "# Kết quả dương tính thực sự (TP) ở vị trí phía dưới bên phải.\n"
   ]
  },
  {
   "cell_type": "code",
   "execution_count": 60,
   "metadata": {},
   "outputs": [
    {
     "data": {
      "text/plain": [
       "array([[24,  2],\n",
       "       [ 1, 13]], dtype=int64)"
      ]
     },
     "execution_count": 60,
     "metadata": {},
     "output_type": "execute_result"
    }
   ],
   "source": [
    "from sklearn.metrics import confusion_matrix\n",
    "cf_matrix = confusion_matrix(y_test, y_pred)\n",
    "cf_matrix\n",
    "\n",
    "# Đầu ra của ma trận nhầm lẫn là ma trận 2*2 vì mô hình là phân loại nhị phân. \n",
    "# Hãy hình dung nó rõ hơn bằng cách sử dụng bản đồ nhiệt và giải thích."
   ]
  },
  {
   "cell_type": "code",
   "execution_count": 61,
   "metadata": {},
   "outputs": [
    {
     "data": {
      "text/plain": [
       "Text(0.5, 23.52222222222222, 'Predicted label')"
      ]
     },
     "execution_count": 61,
     "metadata": {},
     "output_type": "execute_result"
    },
    {
     "data": {
      "image/png": "[encoded data removed]",
      "text/plain": [
       "<Figure size 640x480 with 2 Axes>"
      ]
     },
     "metadata": {},
     "output_type": "display_data"
    }
   ],
   "source": [
    "sns.heatmap(pd.DataFrame(cf_matrix), annot=True, cmap=\"YlGnBu\" ,fmt='g')\n",
    "plt.title('Confusion matrix', y=1.1)\n",
    "plt.ylabel('Actual label')\n",
    "plt.xlabel('Predicted label')"
   ]
  },
  {
   "cell_type": "markdown",
   "metadata": {},
   "source": [
    "### 63 dự đoán TN: số 0 được dự đoán chính xác.\n",
    "### 14 dự đoán FN: những dự đoán sai là số không.\n",
    "### 9 dự đoán FP: các số 0 được dự đoán sai là số 1.\n",
    "### 34 dự đoán TP: dự đoán đúng."
   ]
  },
  {
   "cell_type": "markdown",
   "metadata": {},
   "source": [
    "Để tính toán độ chính xác của mô hình từ ma trận nhầm lẫn, chúng tôi chia tổng TN và TP cho tổng của tất cả các dự đoán.\n"
   ]
  },
  {
   "cell_type": "code",
   "execution_count": 62,
   "metadata": {},
   "outputs": [
    {
     "data": {
      "text/plain": [
       "0.925"
      ]
     },
     "execution_count": 62,
     "metadata": {},
     "output_type": "execute_result"
    }
   ],
   "source": [
    "Accuracy = (63 + 34)/(63 + 34 + 9 + 14)\n",
    "Accuracy\n",
    "# 0.8083333333333333\n",
    "\n",
    "# Also same result from sklearn accuracy_score\n",
    "from sklearn.metrics import accuracy_score\n",
    "\n",
    "accuracy_score(y_test,y_pred)\n",
    "#0.8083333333333333"
   ]
  },
  {
   "cell_type": "code",
   "execution_count": 63,
   "metadata": {},
   "outputs": [],
   "source": [
    "# Độ chính xác của mô hình của chúng tôi là khoảng 80%, đây là mức lý tưởng."
   ]
  },
  {
   "cell_type": "markdown",
   "metadata": {},
   "source": [
    "# Số liệu ma trận nhầm lẫn"
   ]
  },
  {
   "cell_type": "code",
   "execution_count": 64,
   "metadata": {},
   "outputs": [
    {
     "name": "stdout",
     "output_type": "stream",
     "text": [
      "                   precision    recall  f1-score   support\n",
      "\n",
      "will NOT PURCHASE       0.96      0.92      0.94        26\n",
      "    will PURCHASE       0.87      0.93      0.90        14\n",
      "\n",
      "         accuracy                           0.93        40\n",
      "        macro avg       0.91      0.93      0.92        40\n",
      "     weighted avg       0.93      0.93      0.93        40\n",
      "\n"
     ]
    }
   ],
   "source": [
    "target_names = ['will NOT PURCHASE', 'will PURCHASE']\n",
    "print(classification_report(y_test, y_pred,target_names=target_names))"
   ]
  },
  {
   "cell_type": "code",
   "execution_count": 65,
   "metadata": {},
   "outputs": [
    {
     "name": "stdout",
     "output_type": "stream",
     "text": [
      "prediction with threshold 0.45:\n"
     ]
    },
    {
     "data": {
      "text/plain": [
       "array([1, 0, 1, 1, 0, 1, 0, 1, 0, 0, 0, 0, 1, 1, 0, 0, 0, 0, 0, 1, 0, 0,\n",
       "       0, 1, 1, 0, 0, 1, 1, 0, 0, 0, 0, 1, 1, 0, 1, 1, 0, 0])"
      ]
     },
     "execution_count": 65,
     "metadata": {},
     "output_type": "execute_result"
    }
   ],
   "source": [
    "print('prediction with threshold 0.45:')\n",
    "y_pred_test_new_threshold = (classifier.predict_proba(X_test)[:,1]>=0.45).astype(int)\n",
    "y_pred_test_new_threshold"
   ]
  },
  {
   "cell_type": "code",
   "execution_count": 66,
   "metadata": {},
   "outputs": [
    {
     "data": {
      "text/plain": [
       "array([0, 0, 1, 1, 0, 1, 0, 1, 0, 0, 0, 0, 1, 1, 0, 0, 0, 0, 0, 1, 0, 0,\n",
       "       0, 1, 1, 0, 0, 1, 1, 0, 0, 0, 0, 1, 1, 0, 1, 1, 0, 0], dtype=int64)"
      ]
     },
     "execution_count": 66,
     "metadata": {},
     "output_type": "execute_result"
    }
   ],
   "source": [
    "y_pred"
   ]
  },
  {
   "cell_type": "code",
   "execution_count": 67,
   "metadata": {},
   "outputs": [
    {
     "ename": "AttributeError",
     "evalue": "'numpy.ndarray' object has no attribute 'df'",
     "output_type": "error",
     "traceback": [
      "\u001b[1;31m---------------------------------------------------------------------------\u001b[0m",
      "\u001b[1;31mAttributeError\u001b[0m                            Traceback (most recent call last)",
      "\u001b[1;32mc:\\Users\\hungl\\LapTrinhPhanTichDuLieu\\ThucHanhLapTrinhPTDL\\Tuan5\\LamVanHung copy.ipynb Cell 47\u001b[0m line \u001b[0;36m1\n\u001b[1;32m----> <a href='vscode-notebook-cell:/c%3A/Users/hungl/LapTrinhPhanTichDuLieu/ThucHanhLapTrinhPTDL/Tuan5/LamVanHung%20copy.ipynb#X63sZmlsZQ%3D%3D?line=0'>1</a>\u001b[0m X_train\u001b[39m.\u001b[39;49mdf[\u001b[39m'\u001b[39m\u001b[39mSalary\u001b[39m\u001b[39m'\u001b[39m]\n",
      "\u001b[1;31mAttributeError\u001b[0m: 'numpy.ndarray' object has no attribute 'df'"
     ]
    }
   ],
   "source": [
    "X_train.df['Salary']"
   ]
  },
  {
   "cell_type": "code",
   "execution_count": null,
   "metadata": {},
   "outputs": [],
   "source": []
  }
 ],
 "metadata": {
  "kernelspec": {
   "display_name": "Python 3",
   "language": "python",
   "name": "python3"
  },
  "language_info": {
   "codemirror_mode": {
    "name": "ipython",
    "version": 3
   },
   "file_extension": ".py",
   "mimetype": "text/x-python",
   "name": "python",
   "nbconvert_exporter": "python",
   "pygments_lexer": "ipython3",
   "version": "3.11.5"
  }
 },
 "nbformat": 4,
 "nbformat_minor": 2
}
