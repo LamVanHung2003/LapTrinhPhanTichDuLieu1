{
 "cells": [
  {
   "cell_type": "code",
   "execution_count": 1,
   "metadata": {},
   "outputs": [
    {
     "data": {
      "text/html": [
       "<div>\n",
       "<style scoped>\n",
       "    .dataframe tbody tr th:only-of-type {\n",
       "        vertical-align: middle;\n",
       "    }\n",
       "\n",
       "    .dataframe tbody tr th {\n",
       "        vertical-align: top;\n",
       "    }\n",
       "\n",
       "    .dataframe thead th {\n",
       "        text-align: right;\n",
       "    }\n",
       "</style>\n",
       "<table border=\"1\" class=\"dataframe\">\n",
       "  <thead>\n",
       "    <tr style=\"text-align: right;\">\n",
       "      <th></th>\n",
       "      <th>Gender</th>\n",
       "      <th>Age</th>\n",
       "      <th>EstimatedSalary</th>\n",
       "      <th>Purchased</th>\n",
       "    </tr>\n",
       "  </thead>\n",
       "  <tbody>\n",
       "    <tr>\n",
       "      <th>0</th>\n",
       "      <td>Male</td>\n",
       "      <td>19</td>\n",
       "      <td>19000</td>\n",
       "      <td>0</td>\n",
       "    </tr>\n",
       "    <tr>\n",
       "      <th>1</th>\n",
       "      <td>Male</td>\n",
       "      <td>35</td>\n",
       "      <td>20000</td>\n",
       "      <td>0</td>\n",
       "    </tr>\n",
       "    <tr>\n",
       "      <th>2</th>\n",
       "      <td>Female</td>\n",
       "      <td>26</td>\n",
       "      <td>43000</td>\n",
       "      <td>0</td>\n",
       "    </tr>\n",
       "    <tr>\n",
       "      <th>3</th>\n",
       "      <td>Female</td>\n",
       "      <td>27</td>\n",
       "      <td>57000</td>\n",
       "      <td>0</td>\n",
       "    </tr>\n",
       "    <tr>\n",
       "      <th>4</th>\n",
       "      <td>Male</td>\n",
       "      <td>19</td>\n",
       "      <td>76000</td>\n",
       "      <td>0</td>\n",
       "    </tr>\n",
       "  </tbody>\n",
       "</table>\n",
       "</div>"
      ],
      "text/plain": [
       "   Gender  Age  EstimatedSalary  Purchased\n",
       "0    Male   19            19000          0\n",
       "1    Male   35            20000          0\n",
       "2  Female   26            43000          0\n",
       "3  Female   27            57000          0\n",
       "4    Male   19            76000          0"
      ]
     },
     "execution_count": 1,
     "metadata": {},
     "output_type": "execute_result"
    }
   ],
   "source": [
    "import numpy as np\n",
    "import pandas as pd\n",
    "import matplotlib.pyplot as plt\n",
    "import seaborn as sns\n",
    "from sklearn.preprocessing import StandardScaler\n",
    "from sklearn.model_selection import train_test_split \n",
    "from sklearn.linear_model import LogisticRegression\n",
    "from sklearn.metrics import confusion_matrix, classification_report, accuracy_score\n",
    "\n",
    "social_N_data = pd.read_csv('Social_Network_Ads.csv')\n",
    "pd.concat([social_N_data.head(), social_N_data.tail()])\n",
    "\n",
    "#CHECK FOR NULL VALUES\n",
    "social_N_data.isnull().any()\n",
    "\n",
    "# CLEAN THE DATA\n",
    "social_N_data.drop('User ID', axis=1, inplace=True)\n",
    "\n",
    "social_N_data.head(5)\n",
    "\n"
   ]
  },
  {
   "cell_type": "code",
   "execution_count": 2,
   "metadata": {},
   "outputs": [
    {
     "data": {
      "text/html": [
       "<div>\n",
       "<style scoped>\n",
       "    .dataframe tbody tr th:only-of-type {\n",
       "        vertical-align: middle;\n",
       "    }\n",
       "\n",
       "    .dataframe tbody tr th {\n",
       "        vertical-align: top;\n",
       "    }\n",
       "\n",
       "    .dataframe thead th {\n",
       "        text-align: right;\n",
       "    }\n",
       "</style>\n",
       "<table border=\"1\" class=\"dataframe\">\n",
       "  <thead>\n",
       "    <tr style=\"text-align: right;\">\n",
       "      <th></th>\n",
       "      <th>Age</th>\n",
       "      <th>EstimatedSalary</th>\n",
       "      <th>Purchased</th>\n",
       "      <th>Female</th>\n",
       "      <th>Male</th>\n",
       "    </tr>\n",
       "  </thead>\n",
       "  <tbody>\n",
       "    <tr>\n",
       "      <th>0</th>\n",
       "      <td>19</td>\n",
       "      <td>19000</td>\n",
       "      <td>0</td>\n",
       "      <td>0</td>\n",
       "      <td>1</td>\n",
       "    </tr>\n",
       "    <tr>\n",
       "      <th>1</th>\n",
       "      <td>35</td>\n",
       "      <td>20000</td>\n",
       "      <td>0</td>\n",
       "      <td>0</td>\n",
       "      <td>1</td>\n",
       "    </tr>\n",
       "    <tr>\n",
       "      <th>2</th>\n",
       "      <td>26</td>\n",
       "      <td>43000</td>\n",
       "      <td>0</td>\n",
       "      <td>1</td>\n",
       "      <td>0</td>\n",
       "    </tr>\n",
       "    <tr>\n",
       "      <th>3</th>\n",
       "      <td>27</td>\n",
       "      <td>57000</td>\n",
       "      <td>0</td>\n",
       "      <td>1</td>\n",
       "      <td>0</td>\n",
       "    </tr>\n",
       "    <tr>\n",
       "      <th>4</th>\n",
       "      <td>19</td>\n",
       "      <td>76000</td>\n",
       "      <td>0</td>\n",
       "      <td>0</td>\n",
       "      <td>1</td>\n",
       "    </tr>\n",
       "  </tbody>\n",
       "</table>\n",
       "</div>"
      ],
      "text/plain": [
       "   Age  EstimatedSalary  Purchased  Female  Male\n",
       "0   19            19000          0       0     1\n",
       "1   35            20000          0       0     1\n",
       "2   26            43000          0       1     0\n",
       "3   27            57000          0       1     0\n",
       "4   19            76000          0       0     1"
      ]
     },
     "execution_count": 2,
     "metadata": {},
     "output_type": "execute_result"
    }
   ],
   "source": [
    "GT= pd.get_dummies(social_N_data['Gender']).astype(int)\n",
    "social_N_data.drop('Gender',axis=1,inplace=True)\n",
    "social_N_data= pd.concat([social_N_data,GT],axis=1)\n",
    "social_N_data.head(5)"
   ]
  },
  {
   "cell_type": "code",
   "execution_count": 3,
   "metadata": {},
   "outputs": [
    {
     "data": {
      "text/html": [
       "<div>\n",
       "<style scoped>\n",
       "    .dataframe tbody tr th:only-of-type {\n",
       "        vertical-align: middle;\n",
       "    }\n",
       "\n",
       "    .dataframe tbody tr th {\n",
       "        vertical-align: top;\n",
       "    }\n",
       "\n",
       "    .dataframe thead th {\n",
       "        text-align: right;\n",
       "    }\n",
       "</style>\n",
       "<table border=\"1\" class=\"dataframe\">\n",
       "  <thead>\n",
       "    <tr style=\"text-align: right;\">\n",
       "      <th></th>\n",
       "      <th>Age</th>\n",
       "      <th>EstimatedSalary</th>\n",
       "      <th>Female</th>\n",
       "      <th>Male</th>\n",
       "    </tr>\n",
       "  </thead>\n",
       "  <tbody>\n",
       "    <tr>\n",
       "      <th>0</th>\n",
       "      <td>19</td>\n",
       "      <td>19000</td>\n",
       "      <td>0</td>\n",
       "      <td>1</td>\n",
       "    </tr>\n",
       "    <tr>\n",
       "      <th>1</th>\n",
       "      <td>35</td>\n",
       "      <td>20000</td>\n",
       "      <td>0</td>\n",
       "      <td>1</td>\n",
       "    </tr>\n",
       "    <tr>\n",
       "      <th>2</th>\n",
       "      <td>26</td>\n",
       "      <td>43000</td>\n",
       "      <td>1</td>\n",
       "      <td>0</td>\n",
       "    </tr>\n",
       "    <tr>\n",
       "      <th>3</th>\n",
       "      <td>27</td>\n",
       "      <td>57000</td>\n",
       "      <td>1</td>\n",
       "      <td>0</td>\n",
       "    </tr>\n",
       "    <tr>\n",
       "      <th>4</th>\n",
       "      <td>19</td>\n",
       "      <td>76000</td>\n",
       "      <td>0</td>\n",
       "      <td>1</td>\n",
       "    </tr>\n",
       "  </tbody>\n",
       "</table>\n",
       "</div>"
      ],
      "text/plain": [
       "   Age  EstimatedSalary  Female  Male\n",
       "0   19            19000       0     1\n",
       "1   35            20000       0     1\n",
       "2   26            43000       1     0\n",
       "3   27            57000       1     0\n",
       "4   19            76000       0     1"
      ]
     },
     "execution_count": 3,
     "metadata": {},
     "output_type": "execute_result"
    }
   ],
   "source": [
    "X = social_N_data.iloc[:,[0,1,3,4]] # Age, EstimatedSalary and Male\n",
    "X.head()"
   ]
  },
  {
   "cell_type": "code",
   "execution_count": 4,
   "metadata": {},
   "outputs": [
    {
     "data": {
      "text/plain": [
       "0    0\n",
       "1    0\n",
       "2    0\n",
       "3    0\n",
       "4    0\n",
       "Name: Purchased, dtype: int64"
      ]
     },
     "execution_count": 4,
     "metadata": {},
     "output_type": "execute_result"
    }
   ],
   "source": [
    "y = social_N_data.iloc[:, 2] # Purchased\n",
    "y.head(5)"
   ]
  },
  {
   "cell_type": "code",
   "execution_count": null,
   "metadata": {},
   "outputs": [],
   "source": []
  },
  {
   "cell_type": "code",
   "execution_count": 5,
   "metadata": {},
   "outputs": [],
   "source": [
    "\n",
    "\n",
    "# SPLIT DATA TO TRAIN AND TEST SET\n",
    "X_train, X_test, y_train, y_test = train_test_split(X, y, test_size=0.1, random_state=10)\n",
    "from sklearn.preprocessing import StandardScaler\n",
    "sc = StandardScaler()\n",
    "X_train = sc.fit_transform(X_train)\n",
    "X_test = sc.transform(X_test)\n"
   ]
  },
  {
   "cell_type": "code",
   "execution_count": 6,
   "metadata": {},
   "outputs": [
    {
     "data": {
      "text/html": [
       "<style>#sk-container-id-1 {color: black;}#sk-container-id-1 pre{padding: 0;}#sk-container-id-1 div.sk-toggleable {background-color: white;}#sk-container-id-1 label.sk-toggleable__label {cursor: pointer;display: block;width: 100%;margin-bottom: 0;padding: 0.3em;box-sizing: border-box;text-align: center;}#sk-container-id-1 label.sk-toggleable__label-arrow:before {content: \"▸\";float: left;margin-right: 0.25em;color: #696969;}#sk-container-id-1 label.sk-toggleable__label-arrow:hover:before {color: black;}#sk-container-id-1 div.sk-estimator:hover label.sk-toggleable__label-arrow:before {color: black;}#sk-container-id-1 div.sk-toggleable__content {max-height: 0;max-width: 0;overflow: hidden;text-align: left;background-color: #f0f8ff;}#sk-container-id-1 div.sk-toggleable__content pre {margin: 0.2em;color: black;border-radius: 0.25em;background-color: #f0f8ff;}#sk-container-id-1 input.sk-toggleable__control:checked~div.sk-toggleable__content {max-height: 200px;max-width: 100%;overflow: auto;}#sk-container-id-1 input.sk-toggleable__control:checked~label.sk-toggleable__label-arrow:before {content: \"▾\";}#sk-container-id-1 div.sk-estimator input.sk-toggleable__control:checked~label.sk-toggleable__label {background-color: #d4ebff;}#sk-container-id-1 div.sk-label input.sk-toggleable__control:checked~label.sk-toggleable__label {background-color: #d4ebff;}#sk-container-id-1 input.sk-hidden--visually {border: 0;clip: rect(1px 1px 1px 1px);clip: rect(1px, 1px, 1px, 1px);height: 1px;margin: -1px;overflow: hidden;padding: 0;position: absolute;width: 1px;}#sk-container-id-1 div.sk-estimator {font-family: monospace;background-color: #f0f8ff;border: 1px dotted black;border-radius: 0.25em;box-sizing: border-box;margin-bottom: 0.5em;}#sk-container-id-1 div.sk-estimator:hover {background-color: #d4ebff;}#sk-container-id-1 div.sk-parallel-item::after {content: \"\";width: 100%;border-bottom: 1px solid gray;flex-grow: 1;}#sk-container-id-1 div.sk-label:hover label.sk-toggleable__label {background-color: #d4ebff;}#sk-container-id-1 div.sk-serial::before {content: \"\";position: absolute;border-left: 1px solid gray;box-sizing: border-box;top: 0;bottom: 0;left: 50%;z-index: 0;}#sk-container-id-1 div.sk-serial {display: flex;flex-direction: column;align-items: center;background-color: white;padding-right: 0.2em;padding-left: 0.2em;position: relative;}#sk-container-id-1 div.sk-item {position: relative;z-index: 1;}#sk-container-id-1 div.sk-parallel {display: flex;align-items: stretch;justify-content: center;background-color: white;position: relative;}#sk-container-id-1 div.sk-item::before, #sk-container-id-1 div.sk-parallel-item::before {content: \"\";position: absolute;border-left: 1px solid gray;box-sizing: border-box;top: 0;bottom: 0;left: 50%;z-index: -1;}#sk-container-id-1 div.sk-parallel-item {display: flex;flex-direction: column;z-index: 1;position: relative;background-color: white;}#sk-container-id-1 div.sk-parallel-item:first-child::after {align-self: flex-end;width: 50%;}#sk-container-id-1 div.sk-parallel-item:last-child::after {align-self: flex-start;width: 50%;}#sk-container-id-1 div.sk-parallel-item:only-child::after {width: 0;}#sk-container-id-1 div.sk-dashed-wrapped {border: 1px dashed gray;margin: 0 0.4em 0.5em 0.4em;box-sizing: border-box;padding-bottom: 0.4em;background-color: white;}#sk-container-id-1 div.sk-label label {font-family: monospace;font-weight: bold;display: inline-block;line-height: 1.2em;}#sk-container-id-1 div.sk-label-container {text-align: center;}#sk-container-id-1 div.sk-container {/* jupyter's `normalize.less` sets `[hidden] { display: none; }` but bootstrap.min.css set `[hidden] { display: none !important; }` so we also need the `!important` here to be able to override the default hidden behavior on the sphinx rendered scikit-learn.org. See: https://github.com/scikit-learn/scikit-learn/issues/21755 */display: inline-block !important;position: relative;}#sk-container-id-1 div.sk-text-repr-fallback {display: none;}</style><div id=\"sk-container-id-1\" class=\"sk-top-container\"><div class=\"sk-text-repr-fallback\"><pre>LogisticRegression()</pre><b>In a Jupyter environment, please rerun this cell to show the HTML representation or trust the notebook. <br />On GitHub, the HTML representation is unable to render, please try loading this page with nbviewer.org.</b></div><div class=\"sk-container\" hidden><div class=\"sk-item\"><div class=\"sk-estimator sk-toggleable\"><input class=\"sk-toggleable__control sk-hidden--visually\" id=\"sk-estimator-id-1\" type=\"checkbox\" checked><label for=\"sk-estimator-id-1\" class=\"sk-toggleable__label sk-toggleable__label-arrow\">LogisticRegression</label><div class=\"sk-toggleable__content\"><pre>LogisticRegression()</pre></div></div></div></div></div>"
      ],
      "text/plain": [
       "LogisticRegression()"
      ]
     },
     "execution_count": 6,
     "metadata": {},
     "output_type": "execute_result"
    }
   ],
   "source": [
    "# FIT/TRAIN MODEL\n",
    "classifier = LogisticRegression()\n",
    "classifier.fit(X_train, y_train)"
   ]
  },
  {
   "cell_type": "code",
   "execution_count": 7,
   "metadata": {},
   "outputs": [
    {
     "name": "stdout",
     "output_type": "stream",
     "text": [
      "(360, 4)\n",
      "(40, 4)\n",
      "(360,)\n",
      "(40,)\n"
     ]
    }
   ],
   "source": [
    "print(X_train.shape)\n",
    "print(X_test.shape)\n",
    "print(y_train.shape)\n",
    "print(y_test.shape)"
   ]
  },
  {
   "cell_type": "markdown",
   "metadata": {},
   "source": [
    "Câu 1: Hãy cho biết số góc của biến độc lập tương ứng với lương trong mông hình huấn luyện"
   ]
  },
  {
   "cell_type": "code",
   "execution_count": 8,
   "metadata": {},
   "outputs": [
    {
     "data": {
      "text/plain": [
       "array([[ 2.15710207,  1.08622979, -0.07985882,  0.07985882]])"
      ]
     },
     "execution_count": 8,
     "metadata": {},
     "output_type": "execute_result"
    }
   ],
   "source": [
    "# Lấy hệ số của mô hình\n",
    "coefficients = classifier.coef_\n",
    "coefficients\n",
    " #d"
   ]
  },
  {
   "cell_type": "markdown",
   "metadata": {},
   "source": [
    "Câu 2: hãy cho biết giá trị tuổi của dòng dữ liệu cuối cùng của tập dữu liệu đầu vào của tập dữu liệu train"
   ]
  },
  {
   "cell_type": "code",
   "execution_count": 9,
   "metadata": {},
   "outputs": [
    {
     "data": {
      "text/html": [
       "<div>\n",
       "<style scoped>\n",
       "    .dataframe tbody tr th:only-of-type {\n",
       "        vertical-align: middle;\n",
       "    }\n",
       "\n",
       "    .dataframe tbody tr th {\n",
       "        vertical-align: top;\n",
       "    }\n",
       "\n",
       "    .dataframe thead th {\n",
       "        text-align: right;\n",
       "    }\n",
       "</style>\n",
       "<table border=\"1\" class=\"dataframe\">\n",
       "  <thead>\n",
       "    <tr style=\"text-align: right;\">\n",
       "      <th></th>\n",
       "      <th>Age</th>\n",
       "      <th>EstimatedSalary</th>\n",
       "      <th>Purchased</th>\n",
       "      <th>Female</th>\n",
       "      <th>Male</th>\n",
       "    </tr>\n",
       "  </thead>\n",
       "  <tbody>\n",
       "    <tr>\n",
       "      <th>0</th>\n",
       "      <td>19</td>\n",
       "      <td>19000</td>\n",
       "      <td>0</td>\n",
       "      <td>0</td>\n",
       "      <td>1</td>\n",
       "    </tr>\n",
       "    <tr>\n",
       "      <th>1</th>\n",
       "      <td>35</td>\n",
       "      <td>20000</td>\n",
       "      <td>0</td>\n",
       "      <td>0</td>\n",
       "      <td>1</td>\n",
       "    </tr>\n",
       "    <tr>\n",
       "      <th>2</th>\n",
       "      <td>26</td>\n",
       "      <td>43000</td>\n",
       "      <td>0</td>\n",
       "      <td>1</td>\n",
       "      <td>0</td>\n",
       "    </tr>\n",
       "    <tr>\n",
       "      <th>3</th>\n",
       "      <td>27</td>\n",
       "      <td>57000</td>\n",
       "      <td>0</td>\n",
       "      <td>1</td>\n",
       "      <td>0</td>\n",
       "    </tr>\n",
       "    <tr>\n",
       "      <th>4</th>\n",
       "      <td>19</td>\n",
       "      <td>76000</td>\n",
       "      <td>0</td>\n",
       "      <td>0</td>\n",
       "      <td>1</td>\n",
       "    </tr>\n",
       "  </tbody>\n",
       "</table>\n",
       "</div>"
      ],
      "text/plain": [
       "   Age  EstimatedSalary  Purchased  Female  Male\n",
       "0   19            19000          0       0     1\n",
       "1   35            20000          0       0     1\n",
       "2   26            43000          0       1     0\n",
       "3   27            57000          0       1     0\n",
       "4   19            76000          0       0     1"
      ]
     },
     "execution_count": 9,
     "metadata": {},
     "output_type": "execute_result"
    }
   ],
   "source": [
    "social_N_data.head(5)"
   ]
  },
  {
   "cell_type": "code",
   "execution_count": 10,
   "metadata": {},
   "outputs": [
    {
     "name": "stdout",
     "output_type": "stream",
     "text": [
      "Giá trị tuổi của dòng cuối cùng trong tập dữ liệu huấn luyện: [ 0.33691032 -0.74152357 -1.03390789  1.03390789]\n"
     ]
    }
   ],
   "source": [
    "# Lấy giá trị tuổi của dòng cuối cùng\n",
    "last_row_age = X_train[:-1][0]\n",
    "\n",
    "# In giá trị tuổi\n",
    "print(f\"Giá trị tuổi của dòng cuối cùng trong tập dữ liệu huấn luyện: {last_row_age}\")\n"
   ]
  },
  {
   "cell_type": "code",
   "execution_count": null,
   "metadata": {},
   "outputs": [],
   "source": []
  },
  {
   "cell_type": "code",
   "execution_count": 11,
   "metadata": {},
   "outputs": [
    {
     "data": {
      "text/plain": [
       "array([[ 0.33691032, -0.74152357, -1.03390789,  1.03390789],\n",
       "       [ 0.71801862, -0.74152357,  0.96720415, -0.96720415],\n",
       "       [-1.28279995, -1.50473675, -1.03390789,  1.03390789],\n",
       "       ...,\n",
       "       [-0.80641458,  0.28587878, -1.03390789,  1.03390789],\n",
       "       [ 0.14635617, -0.27185393,  0.96720415, -0.96720415],\n",
       "       [ 0.4321874 ,  1.10780067,  0.96720415, -0.96720415]])"
      ]
     },
     "execution_count": 11,
     "metadata": {},
     "output_type": "execute_result"
    }
   ],
   "source": [
    "X_train"
   ]
  },
  {
   "cell_type": "markdown",
   "metadata": {},
   "source": [
    "Câu 3: Hãy cho biết giá trị đầu ra của dòng cuối cùng trên tập dữ liệu train"
   ]
  },
  {
   "cell_type": "code",
   "execution_count": 12,
   "metadata": {},
   "outputs": [
    {
     "name": "stdout",
     "output_type": "stream",
     "text": [
      "Giá trị đầu ra của dòng cuối cùng trong tập dữ liệu huấn luyện: 1\n"
     ]
    }
   ],
   "source": [
    "# Sử dụng chỉ số âm để lấy giá trị đầu ra của dòng cuối cùng\n",
    "last_row_output = y_train.iloc[-1]\n",
    "\n",
    "# In giá trị đầu ra\n",
    "print(f\"Giá trị đầu ra của dòng cuối cùng trong tập dữ liệu huấn luyện: {last_row_output}\")"
   ]
  },
  {
   "cell_type": "markdown",
   "metadata": {},
   "source": [
    "Câu 4: Giá trị chính xác với threshod=0.45 là bao nhiêu"
   ]
  },
  {
   "cell_type": "code",
   "execution_count": 13,
   "metadata": {},
   "outputs": [
    {
     "data": {
      "text/plain": [
       "array([1, 0, 1, 1, 0, 1, 0, 1, 0, 0, 0, 0, 1, 1, 0, 0, 0, 0, 0, 1, 0, 0,\n",
       "       0, 1, 1, 0, 0, 1, 1, 0, 0, 0, 0, 1, 1, 0, 1, 1, 0, 0])"
      ]
     },
     "execution_count": 13,
     "metadata": {},
     "output_type": "execute_result"
    }
   ],
   "source": [
    "df_test_new_threshold= (classifier.predict_proba(X_test)[:, 1] >= 0.45).astype(int)\n",
    "df_test_new_threshold"
   ]
  },
  {
   "cell_type": "code",
   "execution_count": 14,
   "metadata": {},
   "outputs": [
    {
     "data": {
      "text/plain": [
       "0.9"
      ]
     },
     "execution_count": 14,
     "metadata": {},
     "output_type": "execute_result"
    }
   ],
   "source": [
    "from sklearn.metrics import accuracy_score\n",
    "accuracy_score(y_test, df_test_new_threshold)"
   ]
  },
  {
   "cell_type": "code",
   "execution_count": 15,
   "metadata": {},
   "outputs": [
    {
     "name": "stdout",
     "output_type": "stream",
     "text": [
      "Giá trị chính xác với threshold=0.45: 0.9\n"
     ]
    }
   ],
   "source": [
    "# Dự đoán xác suất\n",
    "y_prob = classifier.predict_proba(X_test)[:, 1]\n",
    "\n",
    "# Dự đoán nhãn dựa trên ngưỡng 0.45\n",
    "y_pred = (y_prob > 0.45).astype(int)\n",
    "\n",
    "# Tính giá trị chính xác\n",
    "accuracy = accuracy_score(y_test, y_pred)\n",
    "\n",
    "# In giá trị chính xác\n",
    "print(f\"Giá trị chính xác với threshold=0.45: {accuracy}\")"
   ]
  },
  {
   "cell_type": "markdown",
   "metadata": {},
   "source": [
    "Câu 5: StandardScaler trên tập dữu liệu input đầu vào"
   ]
  },
  {
   "cell_type": "code",
   "execution_count": 16,
   "metadata": {},
   "outputs": [
    {
     "data": {
      "text/plain": [
       "array([[ 0.33691032, -0.74152357, -1.03390789,  1.03390789],\n",
       "       [ 0.71801862, -0.74152357,  0.96720415, -0.96720415],\n",
       "       [-1.28279995, -1.50473675, -1.03390789,  1.03390789],\n",
       "       ...,\n",
       "       [-0.80641458,  0.28587878, -1.03390789,  1.03390789],\n",
       "       [ 0.14635617, -0.27185393,  0.96720415, -0.96720415],\n",
       "       [ 0.4321874 ,  1.10780067,  0.96720415, -0.96720415]])"
      ]
     },
     "execution_count": 16,
     "metadata": {},
     "output_type": "execute_result"
    }
   ],
   "source": [
    "X_train"
   ]
  },
  {
   "cell_type": "markdown",
   "metadata": {},
   "source": [
    "Câu 6: Hãy cho biết với giới tính nữ , tuổi 46, lương 49000 thì người dùng này có mua hàng hay không với ngưỡng là 0.45"
   ]
  },
  {
   "cell_type": "code",
   "execution_count": 17,
   "metadata": {},
   "outputs": [
    {
     "name": "stdout",
     "output_type": "stream",
     "text": [
      "Xác suất mua hàng: 0.46551401652598995\n",
      "Dự đoán mua hàng (với ngưỡng 0.45): 1\n"
     ]
    }
   ],
   "source": [
    "# Chuẩn bị dữ liệu cho dự đoán\n",
    "new_data = pd.DataFrame({'Age': [46], 'EstimatedSalary': [49000], 'Female': [1], 'Male': [0]})\n",
    "\n",
    "# Chuẩn hóa dữ liệu mới với cùng một StandardScaler đã sử dụng trước đó\n",
    "new_data_scaled = sc.transform(new_data)\n",
    "\n",
    "# Dự đoán xác suất\n",
    "prediction_proba = classifier.predict_proba(new_data_scaled)[:, 1]\n",
    "\n",
    "# Dự đoán nhãn dựa trên ngưỡng 0.45\n",
    "prediction_label = (prediction_proba > 0.45).astype(int)\n",
    "\n",
    "# In kết quả\n",
    "print(f\"Xác suất mua hàng: {prediction_proba[0]}\")\n",
    "print(f\"Dự đoán mua hàng (với ngưỡng 0.45): {prediction_label[0]}\")\n",
    "\n",
    "#Có "
   ]
  },
  {
   "cell_type": "markdown",
   "metadata": {},
   "source": [
    "Câu 7: Hãy cho biết giá trị output sau khi đi qua hàm sigmod của dòng đầu tiên trên tập test"
   ]
  },
  {
   "cell_type": "code",
   "execution_count": 18,
   "metadata": {},
   "outputs": [
    {
     "name": "stdout",
     "output_type": "stream",
     "text": [
      "Predicted output after sigmoid function for the first row:\n",
      "Predicted Output: 0\n"
     ]
    }
   ],
   "source": [
    "# Predict output on the test set\n",
    "y_pred = classifier.predict(X_test)\n",
    "\n",
    "# Extract predicted output for the first row\n",
    "first_row_pred = y_pred[0]\n",
    "\n",
    "print(\"Predicted output after sigmoid function for the first row:\")\n",
    "print(f\"Predicted Output: {first_row_pred}\")"
   ]
  },
  {
   "cell_type": "markdown",
   "metadata": {},
   "source": [
    "Câu 8: Giá trị(TP , TN) với threshold mặc định là bao nhiêu"
   ]
  },
  {
   "cell_type": "code",
   "execution_count": 19,
   "metadata": {},
   "outputs": [
    {
     "data": {
      "text/plain": [
       "array([0, 0, 1, 1, 0, 1, 0, 1, 0, 0, 0, 0, 1, 1, 0, 0, 0, 0, 0, 1, 0, 0,\n",
       "       0, 1, 1, 0, 0, 1, 1, 0, 0, 0, 0, 1, 1, 0, 1, 1, 0, 0], dtype=int64)"
      ]
     },
     "execution_count": 19,
     "metadata": {},
     "output_type": "execute_result"
    }
   ],
   "source": [
    "y_pred_test= classifier.predict(X_test)\n",
    "y_pred_test"
   ]
  },
  {
   "cell_type": "code",
   "execution_count": 20,
   "metadata": {},
   "outputs": [
    {
     "data": {
      "text/plain": [
       "array([[24,  2],\n",
       "       [ 1, 13]], dtype=int64)"
      ]
     },
     "execution_count": 20,
     "metadata": {},
     "output_type": "execute_result"
    }
   ],
   "source": [
    "from sklearn.metrics import confusion_matrix\n",
    "\n",
    "cf_amtrix= confusion_matrix(y_test, y_pred_test)\n",
    "cf_amtrix"
   ]
  },
  {
   "cell_type": "code",
   "execution_count": 21,
   "metadata": {},
   "outputs": [
    {
     "name": "stdout",
     "output_type": "stream",
     "text": [
      "True Positives (TP) với ngưỡng mặc định: 13\n",
      "True Negatives (TN) với ngưỡng mặc định: 24\n"
     ]
    }
   ],
   "source": [
    "# Dự đoán xác suất cho tập kiểm thử\n",
    "y_prob_test = classifier.predict_proba(X_test)[:, 1]\n",
    "\n",
    "# Áp dụng ngưỡng 0.5 để dự đoán nhãn\n",
    "y_pred_default_threshold = (y_prob_test > 0.5).astype(int)\n",
    "\n",
    "# Tính giá trị True Positives và True Negatives\n",
    "TP = np.sum((y_pred_default_threshold == 1) & (y_test == 1))\n",
    "TN = np.sum((y_pred_default_threshold == 0) & (y_test == 0))\n",
    "\n",
    "print(f\"True Positives (TP) với ngưỡng mặc định: {TP}\")\n",
    "print(f\"True Negatives (TN) với ngưỡng mặc định: {TN}\")"
   ]
  },
  {
   "cell_type": "code",
   "execution_count": 22,
   "metadata": {},
   "outputs": [
    {
     "data": {
      "image/png": "[encoded data removed]",
      "text/plain": [
       "<Figure size 640x480 with 2 Axes>"
      ]
     },
     "metadata": {},
     "output_type": "display_data"
    }
   ],
   "source": [
    "sns.heatmap(pd.DataFrame(cf_amtrix),\n",
    "            annot=True, cmap=\"YlGnBu\", fmt='g')\n",
    "plt.title('Confusion matrix', y=1.1)\n",
    "plt.ylabel(\"Actual\")\n",
    "plt.xlabel('Predicted')\n",
    "plt.show()\n",
    "#==>24, 13"
   ]
  },
  {
   "cell_type": "markdown",
   "metadata": {},
   "source": [
    "Câu 9: Viết thiết lập threshold trong mô hình phân lớp Logistic regression sẽ như thế nào nếu giá trị thresshold càng nhỏ khi so sánh với ngưỡng mặc định"
   ]
  },
  {
   "cell_type": "code",
   "execution_count": null,
   "metadata": {},
   "outputs": [],
   "source": []
  },
  {
   "cell_type": "markdown",
   "metadata": {},
   "source": [
    "Câu 10:  Hãy chi biết ngưỡng mặc định của giải thuật Logistic Regression trong python là bao nhiêu"
   ]
  },
  {
   "cell_type": "code",
   "execution_count": 35,
   "metadata": {},
   "outputs": [
    {
     "data": {
      "text/plain": [
       "array([[ 0.4321874 , -0.15443651, -1.03390789,  1.03390789]])"
      ]
     },
     "execution_count": 35,
     "metadata": {},
     "output_type": "execute_result"
    }
   ],
   "source": [
    "# 0.5\n",
    "X_test[0:1]"
   ]
  },
  {
   "cell_type": "markdown",
   "metadata": {},
   "source": [
    "Câu 11: Hãy cho biết giá trị đầu ra của dòng đầu tiên trước khi đi qua hàm sigmod trong mô hình trên tập test là bao nhiêu"
   ]
  },
  {
   "cell_type": "code",
   "execution_count": 24,
   "metadata": {},
   "outputs": [
    {
     "name": "stdout",
     "output_type": "stream",
     "text": [
      "Giá trị đầu ra trước khi đi qua hàm sigmoid: -0.13047076692733084\n"
     ]
    }
   ],
   "source": [
    "# Dự đoán giá trị trước khi áp dụng hàm sigmoid\n",
    "decision_function_output = classifier.decision_function(X_test[0:1])\n",
    "\n",
    "print(f'Giá trị đầu ra trước khi đi qua hàm sigmoid: {decision_function_output[0]}')"
   ]
  },
  {
   "cell_type": "markdown",
   "metadata": {},
   "source": [
    "Câu 12: Hãy cho biết giá trị tương ứng của tuổi 46, lương 49000 và là nữ thì đi qua hàm chuẩn hóa dữ liệu sẽ trở thành giá trị là bao nhiêu"
   ]
  },
  {
   "cell_type": "code",
   "execution_count": 25,
   "metadata": {},
   "outputs": [
    {
     "name": "stdout",
     "output_type": "stream",
     "text": [
      "Giá trị sau khi chuẩn hóa: [[ 0.8132957  -0.62410616  0.96720415 -0.96720415]]\n"
     ]
    }
   ],
   "source": [
    "# Tạo DataFrame mới với dữ liệu cần chuẩn hóa\n",
    "new_data_to_scale = pd.DataFrame({'Age': [46], 'EstimatedSalary': [49000],  'Female': [1], 'Male': [0],})\n",
    "\n",
    "# Chuẩn hóa dữ liệu mới\n",
    "scaled_data = sc.transform(new_data_to_scale)\n",
    "\n",
    "# In giá trị sau khi chuẩn hóa\n",
    "print(f'Giá trị sau khi chuẩn hóa: {scaled_data}')"
   ]
  },
  {
   "cell_type": "markdown",
   "metadata": {},
   "source": [
    "Câu 13: Nếu áp ngưỡng (theshold = 0.45) cho giá trị đầu sau khi đi qua hàm sigmod của dòng đầu tiên trong tập kiểm thử thì giá trị dự báo sẽ là bao nhiêu"
   ]
  },
  {
   "cell_type": "code",
   "execution_count": 26,
   "metadata": {},
   "outputs": [
    {
     "name": "stdout",
     "output_type": "stream",
     "text": [
      "Giá trị dự báo với ngưỡng 0.45: 1\n"
     ]
    }
   ],
   "source": [
    "# Dự đoán xác suất sử dụng mô hình cho dòng đầu tiên trong tập test\n",
    "y_pred = classifier.predict(X_test[0:1])\n",
    "\n",
    "# Áp dụng hàm sigmoid cho kết quả dự đoán\n",
    "y_pred_sigmoid = 1 / (1 + np.exp(-y_pred))\n",
    "\n",
    "# So sánh với ngưỡng 0.45\n",
    "if y_pred_sigmoid >= 0.45:\n",
    "    prediction = 1  # Mua hàng\n",
    "else:\n",
    "    prediction = 0  # Không mua hàng\n",
    "\n",
    "print(\"Giá trị dự báo với ngưỡng 0.45:\", prediction)"
   ]
  },
  {
   "cell_type": "markdown",
   "metadata": {},
   "source": [
    "Câu 14: Giá trị độ chính xác với threshold măc định là bao nhiêu"
   ]
  },
  {
   "cell_type": "code",
   "execution_count": 27,
   "metadata": {},
   "outputs": [
    {
     "name": "stdout",
     "output_type": "stream",
     "text": [
      "Độ chính xác với ngưỡng mặc định (0.5): 0.925\n"
     ]
    }
   ],
   "source": [
    "from sklearn.metrics import accuracy_score\n",
    "\n",
    "# Dự đoán các giá trị trên tập test\n",
    "y_pred = classifier.predict(X_test)\n",
    "\n",
    "# Tính độ chính xác với ngưỡng mặc định (0.5)\n",
    "accuracy = accuracy_score(y_test, y_pred)\n",
    "\n",
    "print(\"Độ chính xác với ngưỡng mặc định (0.5):\", accuracy)"
   ]
  },
  {
   "cell_type": "markdown",
   "metadata": {},
   "source": [
    "Câu 15: Giá trị(TP, TN) với threshold = 0.45 là bao nhiêu"
   ]
  },
  {
   "cell_type": "code",
   "execution_count": 28,
   "metadata": {},
   "outputs": [
    {
     "name": "stdout",
     "output_type": "stream",
     "text": [
      "True Positives (TP) với ngưỡng 0.45: 13\n",
      "True Negatives (TN) với ngưỡng 0.45: 23\n"
     ]
    }
   ],
   "source": [
    "from sklearn.metrics import confusion_matrix\n",
    "\n",
    "# Dự đoán các giá trị trên tập test với ngưỡng threshold = 0.45\n",
    "y_pred = (classifier.predict_proba(X_test)[:, 1] >= 0.45).astype(int)\n",
    "\n",
    "# Tính ma trận nhầm lẫn (confusion matrix)\n",
    "confusion = confusion_matrix(y_test, y_pred)\n",
    "\n",
    "# Trích xuất giá trị TP và TN từ ma trận nhầm lẫn\n",
    "TP = confusion[1, 1]  # True Positives\n",
    "TN = confusion[0, 0]  # True Negatives\n",
    "\n",
    "print(\"True Positives (TP) với ngưỡng 0.45:\", TP)\n",
    "print(\"True Negatives (TN) với ngưỡng 0.45:\", TN)"
   ]
  },
  {
   "cell_type": "markdown",
   "metadata": {},
   "source": [
    "Câu 16: Tương ứng với giá trị của tuổi, giới tính của giá trị sau khi chuẩn hóa(0.89257019, -0.66783025, -0.98019606) thì khi suy ngược lại ta sẽ có tương ứng tuổi , lướng , giới tính là "
   ]
  },
  {
   "cell_type": "code",
   "execution_count": 29,
   "metadata": {},
   "outputs": [
    {
     "name": "stdout",
     "output_type": "stream",
     "text": [
      "Giá trị sau khi chuẩn hóa dữ liệu: [[ 0.71801862 -0.63878334  0.96720415 -0.96720415]]\n"
     ]
    }
   ],
   "source": [
    "new_data1 = pd.DataFrame({'Age': [45], 'EstimatedSalary': [48500], 'Female': [1], 'Male': [0]})\n",
    "\n",
    "# Áp dụng chuẩn hóa dữ liệu\n",
    "new_data_scaled1 = sc.transform(new_data1)\n",
    "\n",
    "print(\"Giá trị sau khi chuẩn hóa dữ liệu:\", new_data_scaled1)\n",
    "\n",
    "#còn đáp án e không có nên không thử. Chắc e á"
   ]
  },
  {
   "cell_type": "markdown",
   "metadata": {},
   "source": [
    "Câu 17: Hãy cho biết với giới tính là nữ, tuổi là 46, lương là 49000 thì người này có mua hàng hay không với ngưỡng mặc định"
   ]
  },
  {
   "cell_type": "code",
   "execution_count": 30,
   "metadata": {},
   "outputs": [
    {
     "name": "stdout",
     "output_type": "stream",
     "text": [
      "Người dùng có thể mua hàng.\n"
     ]
    },
    {
     "name": "stderr",
     "output_type": "stream",
     "text": [
      "c:\\Users\\hungl\\AppData\\Local\\Programs\\Python\\Python311\\Lib\\site-packages\\sklearn\\base.py:458: UserWarning: X has feature names, but LogisticRegression was fitted without feature names\n",
      "  warnings.warn(\n"
     ]
    }
   ],
   "source": [
    "new_data = pd.DataFrame({'Age': [46], 'EstimatedSalary': [49000], 'Female': [1], 'Male': [0]})  # Giới tính 0 cho nữ\n",
    "\n",
    "# Dự đoán sử dụng mô hình với ngưỡng mặc định (0.5)\n",
    "prediction = classifier.predict(new_data)\n",
    "\n",
    "if prediction[0] == 1:\n",
    "    print(\"Người dùng có thể mua hàng.\")\n",
    "else:\n",
    "    print(\"Người dùng không mua hàng.\")"
   ]
  },
  {
   "cell_type": "code",
   "execution_count": 31,
   "metadata": {},
   "outputs": [
    {
     "name": "stdout",
     "output_type": "stream",
     "text": [
      "Xác suất mua hàng: 0.46551401652598995\n",
      "Dự đoán mua hàng (với ngưỡng 0.5): 0\n"
     ]
    }
   ],
   "source": [
    "# Tạo DataFrame mới với dữ liệu cần dự đoán\n",
    "new_data_to_predict = pd.DataFrame({'Age': [46], 'EstimatedSalary': [49000], 'Female': [1], 'Male': [0]})\n",
    "\n",
    "# Chuẩn hóa dữ liệu mới\n",
    "scaled_data_to_predict = sc.transform(new_data_to_predict)\n",
    "\n",
    "# Dự đoán xác suất mua hàng\n",
    "probability_of_purchase = classifier.predict_proba(scaled_data_to_predict)[:, 1]\n",
    "\n",
    "# Áp dụng ngưỡng mặc định (0.5) để dự đoán nhãn\n",
    "prediction_default_threshold = (probability_of_purchase > 0.5).astype(int)\n",
    "\n",
    "# In dự đoán\n",
    "print(f\"Xác suất mua hàng: {probability_of_purchase[0]}\")\n",
    "print(f\"Dự đoán mua hàng (với ngưỡng 0.5): {prediction_default_threshold[0]}\")"
   ]
  },
  {
   "cell_type": "markdown",
   "metadata": {},
   "source": [
    "Câu 18: Hãy cho biết kích thước của tập dữ liệu kiểm thử"
   ]
  },
  {
   "cell_type": "code",
   "execution_count": 32,
   "metadata": {},
   "outputs": [
    {
     "name": "stdout",
     "output_type": "stream",
     "text": [
      "(40, 4)\n"
     ]
    }
   ],
   "source": [
    "print(X_test.shape)\n"
   ]
  },
  {
   "cell_type": "markdown",
   "metadata": {},
   "source": [
    "Câu 19: hãy cho biết dòng kết quả dự báo cuối cùng cho giá trị mua hàng trong tập dữ liệu test"
   ]
  },
  {
   "cell_type": "code",
   "execution_count": 33,
   "metadata": {},
   "outputs": [
    {
     "name": "stdout",
     "output_type": "stream",
     "text": [
      "Dự báo cuối cùng cho giá trị mua hàng trong tập dữ liệu kiểm thử: 0\n"
     ]
    }
   ],
   "source": [
    "# Lấy giá trị dự báo cuối cùng cho giá trị mua hàng trong tập dữ liệu kiểm thử\n",
    "last_prediction = y_test.iloc[-1]\n",
    "print(\"Dự báo cuối cùng cho giá trị mua hàng trong tập dữ liệu kiểm thử:\", last_prediction)"
   ]
  },
  {
   "cell_type": "markdown",
   "metadata": {},
   "source": [
    "Câu 20: Hãy cho biết hệ số tự do trong mô hình huấn luyện"
   ]
  },
  {
   "cell_type": "code",
   "execution_count": 34,
   "metadata": {},
   "outputs": [
    {
     "data": {
      "text/plain": [
       "array([-1.06012288])"
      ]
     },
     "execution_count": 34,
     "metadata": {},
     "output_type": "execute_result"
    }
   ],
   "source": [
    "classifier.intercept_ "
   ]
  }
 ],
 "metadata": {
  "kernelspec": {
   "display_name": "Python 3",
   "language": "python",
   "name": "python3"
  },
  "language_info": {
   "codemirror_mode": {
    "name": "ipython",
    "version": 3
   },
   "file_extension": ".py",
   "mimetype": "text/x-python",
   "name": "python",
   "nbconvert_exporter": "python",
   "pygments_lexer": "ipython3",
   "version": "3.11.5"
  }
 },
 "nbformat": 4,
 "nbformat_minor": 2
}
