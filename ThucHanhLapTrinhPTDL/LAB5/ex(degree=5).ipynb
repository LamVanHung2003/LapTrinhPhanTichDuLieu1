{
 "cells": [
  {
   "cell_type": "code",
   "execution_count": 1,
   "metadata": {},
   "outputs": [
    {
     "name": "stdout",
     "output_type": "stream",
     "text": [
      "     0    1     2      3      4       5\n",
      "0  1.0  1.0   1.0    1.0    1.0     1.0\n",
      "1  1.0  2.0   4.0    8.0   16.0    32.0\n",
      "2  1.0  3.0   9.0   27.0   81.0   243.0\n",
      "3  1.0  4.0  16.0   64.0  256.0  1024.0\n",
      "4  1.0  5.0  25.0  125.0  625.0  3125.0\n"
     ]
    }
   ],
   "source": [
    "from sklearn.preprocessing import PolynomialFeatures\n",
    "import pandas as pd\n",
    "\n",
    "# Tạo một DataFrame pandas\n",
    "data = pd.DataFrame({'x': [1, 2, 3, 4, 5]})\n",
    "\n",
    "# Tạo đặc trưng đa thức bậc 5\n",
    "poly = PolynomialFeatures(degree=5)\n",
    "data_poly = poly.fit_transform(data)\n",
    "\n",
    "# data_poly là một mảng NumPy chứa các đặc trưng đa thức\n",
    "# Bây giờ bạn có thể chuyển nó thành một DataFrame pandas nếu bạn muốn\n",
    "data_poly_df = pd.DataFrame(data_poly)\n",
    "\n",
    "print(data_poly_df)\n",
    "# cột 0 1 2 3 4 5 \n",
    "# cột 0 là bậc 0 \n",
    "# cột 1 là bậc 1 \n",
    "# cột 2 là bậc 2 \n",
    "# cột 3 là bậc 3 \n",
    "# cột 4 là bậc 4 \n",
    "# cột 5 là bậc 5 "
   ]
  }
 ],
 "metadata": {
  "kernelspec": {
   "display_name": "Python 3",
   "language": "python",
   "name": "python3"
  },
  "language_info": {
   "codemirror_mode": {
    "name": "ipython",
    "version": 3
   },
   "file_extension": ".py",
   "mimetype": "text/x-python",
   "name": "python",
   "nbconvert_exporter": "python",
   "pygments_lexer": "ipython3",
   "version": "3.12.0"
  }
 },
 "nbformat": 4,
 "nbformat_minor": 2
}
