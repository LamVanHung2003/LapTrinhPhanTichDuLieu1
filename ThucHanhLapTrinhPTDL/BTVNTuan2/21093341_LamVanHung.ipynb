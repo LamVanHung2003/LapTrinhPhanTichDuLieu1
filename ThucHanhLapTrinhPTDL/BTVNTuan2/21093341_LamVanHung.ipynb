{
 "cells": [
  {
   "cell_type": "code",
   "execution_count": 1,
   "id": "1b412ce8",
   "metadata": {},
   "outputs": [],
   "source": [
    "import pyodbc\n",
    "import pandas as pd\n"
   ]
  },
  {
   "cell_type": "code",
   "execution_count": 2,
   "id": "9410228c",
   "metadata": {},
   "outputs": [
    {
     "name": "stdout",
     "output_type": "stream",
     "text": [
      "['SQL Server', 'ODBC Driver 17 for SQL Server', 'SQL Server Native Client 11.0', 'SQL Server Native Client RDA 11.0', 'Microsoft Access Driver (*.mdb, *.accdb)', 'Microsoft Excel Driver (*.xls, *.xlsx, *.xlsm, *.xlsb)', 'Microsoft Access Text Driver (*.txt, *.csv)']\n"
     ]
    }
   ],
   "source": [
    "print (pyodbc.drivers())\n"
   ]
  },
  {
   "cell_type": "code",
   "execution_count": 3,
   "id": "2fc8c18d",
   "metadata": {},
   "outputs": [],
   "source": [
    "\n",
    "conn = pyodbc.connect('DRIVER={ODBC Driver 17 for SQL Server};'\n",
    "                        'SERVER=HUNG0908\\SQLEXPRESS;'\n",
    "                        'DATABASE=dbPythonTestSQL;'\n",
    "                        'UID=sa'\n",
    "                        'PWD=123456;'\n",
    "                        'Trusted_Connection=yes;')"
   ]
  },
  {
   "cell_type": "code",
   "execution_count": 4,
   "id": "7b570eef",
   "metadata": {},
   "outputs": [],
   "source": [
    "cursor = conn.cursor()"
   ]
  },
  {
   "cell_type": "code",
   "execution_count": 5,
   "id": "d69a5914",
   "metadata": {},
   "outputs": [
    {
     "name": "stdout",
     "output_type": "stream",
     "text": [
      "('u0001', 'Henry', datetime.date(2001, 7, 31), 125.5, 1)\n",
      "('u0002', 'Peter', datetime.date(1990, 8, 25), 500.0, 1)\n",
      "('u0003', 'Owen', datetime.date(1995, 2, 28), 275.5, 2)\n",
      "('u0004', 'Jackson', datetime.date(2002, 4, 25), 400.0, 4)\n",
      "('u0005', 'Ellite', datetime.date(2000, 5, 20), 600.0, 3)\n"
     ]
    }
   ],
   "source": [
    "cursor.execute('SELECT * FROM tblUsers ')\n",
    "for i in cursor:\n",
    "    print(i)"
   ]
  },
  {
   "cell_type": "code",
   "execution_count": 7,
   "id": "52b78329",
   "metadata": {},
   "outputs": [
    {
     "name": "stdout",
     "output_type": "stream",
     "text": [
      "('u0001', 'Henry', datetime.date(2001, 7, 31), 125.5, 1)\n",
      "('u0002', 'Peter', datetime.date(1990, 8, 25), 500.0, 1)\n",
      "('u0003', 'Owen', datetime.date(1995, 2, 28), 275.5, 2)\n",
      "('u0004', 'Jackson', datetime.date(2002, 4, 25), 400.0, 4)\n",
      "('u0005', 'Ellite', datetime.date(2000, 5, 20), 600.0, 3)\n"
     ]
    }
   ],
   "source": [
    "# a. Lấy thông tin nhân viên có tuổi nhỏ hơn 35\n",
    "cursor.execute(\"SELECT * FROM  tblUsers WHERE (2023- year(ubirthdate))<35\")\n",
    "for i in cursor:\n",
    "    print(i)"
   ]
  },
  {
   "cell_type": "code",
   "execution_count": 11,
   "id": "874b2ee8",
   "metadata": {},
   "outputs": [
    {
     "name": "stdout",
     "output_type": "stream",
     "text": [
      "('Henry', 22)\n",
      "('Peter', 33)\n",
      "('Owen', 28)\n",
      "('Jackson', 21)\n",
      "('Ellite', 23)\n"
     ]
    }
   ],
   "source": [
    "# b. Lấy thông tin uname và tuổi (age) của tất cả các nhân viên\n",
    "cursor.execute(\"select uname,age=(2023-year(ubirthdate)) from tblUsers\")\n",
    "for i in cursor:\n",
    "    print(i)"
   ]
  },
  {
   "cell_type": "code",
   "execution_count": 13,
   "id": "97ff6f34",
   "metadata": {},
   "outputs": [
    {
     "data": {
      "text/plain": [
       "<function Connection.commit>"
      ]
     },
     "execution_count": 13,
     "metadata": {},
     "output_type": "execute_result"
    }
   ],
   "source": [
    "# c. Thêm nhân viên mới (u0006,”David”,”07-22-2000”,450,5)\n",
    "cursor.execute(\"INSERT INTO tblUsers(uid, uname, ubirthdate, usalary, urank) values ('u0006','David','07-22-2000',450,5)\")\n",
    "conn.commit\n"
   ]
  },
  {
   "cell_type": "code",
   "execution_count": 14,
   "id": "8ef11e67",
   "metadata": {},
   "outputs": [
    {
     "data": {
      "text/plain": [
       "<function Connection.commit>"
      ]
     },
     "execution_count": 14,
     "metadata": {},
     "output_type": "execute_result"
    }
   ],
   "source": [
    "# d. Cập nhật lương của nhân viên u0002 thành 650\n",
    "cursor.execute(\"UPDATE tblUsers SET usalary=650 WHERE uid='u0002'\").rowcount\n",
    "conn.commit"
   ]
  },
  {
   "cell_type": "code",
   "execution_count": 15,
   "id": "b02674e4",
   "metadata": {},
   "outputs": [],
   "source": [
    "# e. Xóa nhân viên u0006\n",
    "delete = cursor.execute(\"DELETE FROM tblUsers WHERE uid='u0006'\").rowcount\n",
    "conn.commit()"
   ]
  },
  {
   "cell_type": "code",
   "execution_count": null,
   "id": "f6e441d4",
   "metadata": {},
   "outputs": [],
   "source": []
  }
 ],
 "metadata": {
  "kernelspec": {
   "display_name": "Python 3 (ipykernel)",
   "language": "python",
   "name": "python3"
  },
  "language_info": {
   "codemirror_mode": {
    "name": "ipython",
    "version": 3
   },
   "file_extension": ".py",
   "mimetype": "text/x-python",
   "name": "python",
   "nbconvert_exporter": "python",
   "pygments_lexer": "ipython3",
   "version": "3.11.5"
  }
 },
 "nbformat": 4,
 "nbformat_minor": 5
}
