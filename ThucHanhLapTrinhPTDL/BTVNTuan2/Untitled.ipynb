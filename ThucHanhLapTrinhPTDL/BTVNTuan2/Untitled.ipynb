{
 "cells": [
  {
   "cell_type": "code",
   "execution_count": 2,
   "id": "60171dce",
   "metadata": {},
   "outputs": [],
   "source": [
    "import pyodbc\n"
   ]
  },
  {
   "cell_type": "code",
   "execution_count": 3,
   "id": "674db9c9",
   "metadata": {},
   "outputs": [
    {
     "ename": "InterfaceError",
     "evalue": "('28000', '[28000] [Microsoft][ODBC Driver 17 for SQL Server][SQL Server]Login failed for user \\'hung0908\\\\hungl\\'. (18456) (SQLDriverConnect); [28000] [Microsoft][ODBC Driver 17 for SQL Server][SQL Server]Cannot open database \"dbPythonTestSQLPWD=123456\" requested by the login. The login failed. (4060); [28000] [Microsoft][ODBC Driver 17 for SQL Server][SQL Server]Login failed for user \\'hung0908\\\\hungl\\'. (18456); [28000] [Microsoft][ODBC Driver 17 for SQL Server][SQL Server]Cannot open database \"dbPythonTestSQLPWD=123456\" requested by the login. The login failed. (4060)')",
     "output_type": "error",
     "traceback": [
      "\u001b[1;31m---------------------------------------------------------------------------\u001b[0m",
      "\u001b[1;31mInterfaceError\u001b[0m                            Traceback (most recent call last)",
      "\u001b[1;32mc:\\Users\\hungl\\LapTrinhPhanTichDuLieu\\ThucHanhLapTrinhPTDL\\BTVNTuan2\\Untitled.ipynb Cell 2\u001b[0m line \u001b[0;36m1\n\u001b[1;32m----> <a href='vscode-notebook-cell:/c%3A/Users/hungl/LapTrinhPhanTichDuLieu/ThucHanhLapTrinhPTDL/BTVNTuan2/Untitled.ipynb#W1sZmlsZQ%3D%3D?line=0'>1</a>\u001b[0m conn \u001b[39m=\u001b[39m pyodbc\u001b[39m.\u001b[39;49mconnect(\u001b[39m'\u001b[39;49m\u001b[39mDRIVER=\u001b[39;49m\u001b[39m{\u001b[39;49m\u001b[39mODBC Driver 17 for SQL Server};\u001b[39;49m\u001b[39m'\u001b[39;49m\n\u001b[0;32m      <a href='vscode-notebook-cell:/c%3A/Users/hungl/LapTrinhPhanTichDuLieu/ThucHanhLapTrinhPTDL/BTVNTuan2/Untitled.ipynb#W1sZmlsZQ%3D%3D?line=1'>2</a>\u001b[0m                         \u001b[39m'\u001b[39;49m\u001b[39mSERVER=HUNG0908\u001b[39;49m\u001b[39m\\\u001b[39;49m\u001b[39mSQLEXPRESS;\u001b[39;49m\u001b[39m'\u001b[39;49m\n\u001b[0;32m      <a href='vscode-notebook-cell:/c%3A/Users/hungl/LapTrinhPhanTichDuLieu/ThucHanhLapTrinhPTDL/BTVNTuan2/Untitled.ipynb#W1sZmlsZQ%3D%3D?line=2'>3</a>\u001b[0m                         \u001b[39m'\u001b[39;49m\u001b[39mDATABASE=dbPythonTestSQL\u001b[39;49m\u001b[39m'\u001b[39;49m\n\u001b[0;32m      <a href='vscode-notebook-cell:/c%3A/Users/hungl/LapTrinhPhanTichDuLieu/ThucHanhLapTrinhPTDL/BTVNTuan2/Untitled.ipynb#W1sZmlsZQ%3D%3D?line=3'>4</a>\u001b[0m                         \u001b[39m'\u001b[39;49m\u001b[39mPWD=123456;\u001b[39;49m\u001b[39m'\u001b[39;49m\n\u001b[0;32m      <a href='vscode-notebook-cell:/c%3A/Users/hungl/LapTrinhPhanTichDuLieu/ThucHanhLapTrinhPTDL/BTVNTuan2/Untitled.ipynb#W1sZmlsZQ%3D%3D?line=4'>5</a>\u001b[0m                         \u001b[39m'\u001b[39;49m\u001b[39mTrusted_Connection=yes;\u001b[39;49m\u001b[39m'\u001b[39;49m)\n",
      "\u001b[1;31mInterfaceError\u001b[0m: ('28000', '[28000] [Microsoft][ODBC Driver 17 for SQL Server][SQL Server]Login failed for user \\'hung0908\\\\hungl\\'. (18456) (SQLDriverConnect); [28000] [Microsoft][ODBC Driver 17 for SQL Server][SQL Server]Cannot open database \"dbPythonTestSQLPWD=123456\" requested by the login. The login failed. (4060); [28000] [Microsoft][ODBC Driver 17 for SQL Server][SQL Server]Login failed for user \\'hung0908\\\\hungl\\'. (18456); [28000] [Microsoft][ODBC Driver 17 for SQL Server][SQL Server]Cannot open database \"dbPythonTestSQLPWD=123456\" requested by the login. The login failed. (4060)')"
     ]
    }
   ],
   "source": [
    "\n",
    "conn = pyodbc.connect('DRIVER={ODBC Driver 17 for SQL Server};'\n",
    "                        'SERVER=HUNG0908\\SQLEXPRESS;'\n",
    "                        'DATABASE=dbPythonTestSQL'\n",
    "                        'PWD=123456;'\n",
    "                        'Trusted_Connection=yes;')"
   ]
  },
  {
   "cell_type": "code",
   "execution_count": null,
   "id": "1e26ca60",
   "metadata": {},
   "outputs": [],
   "source": []
  }
 ],
 "metadata": {
  "kernelspec": {
   "display_name": "Python 3 (ipykernel)",
   "language": "python",
   "name": "python3"
  },
  "language_info": {
   "codemirror_mode": {
    "name": "ipython",
    "version": 3
   },
   "file_extension": ".py",
   "mimetype": "text/x-python",
   "name": "python",
   "nbconvert_exporter": "python",
   "pygments_lexer": "ipython3",
   "version": "3.11.5"
  }
 },
 "nbformat": 4,
 "nbformat_minor": 5
}
