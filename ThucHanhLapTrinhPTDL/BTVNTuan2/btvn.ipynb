{
 "cells": [
  {
   "cell_type": "code",
   "execution_count": 2,
   "metadata": {},
   "outputs": [],
   "source": [
    "import pyodbc\n",
    "\n",
    "conn = pyodbc.connect('DRIVER={ODBC Driver 17 for SQL Server};'\n",
    "                        'SERVER=LAPTOP-I1KPT87T\\SQLEXPRESS;'\n",
    "                        'DATABASE=dbPythonTestSQL;'\n",
    "                        'PWD=12345;'\n",
    "                        'Trusted_Connection=yes;')"
   ]
  },
  {
   "cell_type": "code",
   "execution_count": 3,
   "metadata": {},
   "outputs": [
    {
     "name": "stdout",
     "output_type": "stream",
     "text": [
      "('u0001', 'Henry', datetime.date(2001, 7, 31), 125.5, 1)\n",
      "('u0002', 'Peter', datetime.date(1990, 8, 25), 500.0, 1)\n",
      "('u0003', 'Owen', datetime.date(1995, 2, 28), 275.5, 2)\n",
      "('u0004', 'Jackson', datetime.date(2002, 4, 25), 400.0, 4)\n",
      "('u2005', 'Ellite', datetime.date(2000, 5, 20), 60.0, 3)\n"
     ]
    }
   ],
   "source": [
    "cursor = conn.cursor()\n",
    "\n",
    "#a. Lấy thông tin nhân viên có tuổi nhỏ hơn 35\n",
    "cursor.execute('SELECT * FROM tblUsers WHERE 2023 - YEAR(ubirthday) < 35')\n",
    "for i in cursor:\n",
    "    print(i)"
   ]
  },
  {
   "cell_type": "code",
   "execution_count": 13,
   "metadata": {},
   "outputs": [
    {
     "name": "stdout",
     "output_type": "stream",
     "text": [
      "('Henry', 22)\n",
      "('Peter', 33)\n",
      "('Owen', 28)\n",
      "('Jackson', 21)\n",
      "('David', 23)\n",
      "('Ellite', 23)\n"
     ]
    }
   ],
   "source": [
    "#b. Lấy thông tin uname và tuổi (age) của tất cả các nhân viên\n",
    "cursor.execute('SELECT uname, age = (2023 - YEAR(ubirthday)) FROM tblUsers')\n",
    "for i in cursor:\n",
    "    print(i)"
   ]
  },
  {
   "cell_type": "code",
   "execution_count": 14,
   "metadata": {},
   "outputs": [
    {
     "data": {
      "text/plain": [
       "<function Connection.commit>"
      ]
     },
     "execution_count": 14,
     "metadata": {},
     "output_type": "execute_result"
    }
   ],
   "source": [
    "#c. Thêm nhân viên mới (u0006,”David”,”07-22-2000”,450,5)\n",
    "cursor.execute(\"INSERT INTO tblUsers(uid, uname, ubirthday, usalary, urank) values ('u0006','David','07-22-2000',450,5)\")\n",
    "conn.commit"
   ]
  },
  {
   "cell_type": "code",
   "execution_count": 15,
   "metadata": {},
   "outputs": [
    {
     "data": {
      "text/plain": [
       "<function Connection.commit>"
      ]
     },
     "execution_count": 15,
     "metadata": {},
     "output_type": "execute_result"
    }
   ],
   "source": [
    "#d. Cập nhật lương của nhân viên u0002 thành 650\n",
    "cursor.execute(\"UPDATE tblUsers SET usalary=650 WHERE uid='u0002'\").rowcount\n",
    "conn.commit"
   ]
  },
  {
   "cell_type": "code",
   "execution_count": 19,
   "metadata": {},
   "outputs": [],
   "source": [
    "#Xóa nhân viên u0006\n",
    "delete = cursor.execute(\"DELETE FROM tblUsers WHERE uid='u0006'\").rowcount\n",
    "conn.commit()"
   ]
  },
  {
   "cell_type": "code",
   "execution_count": null,
   "metadata": {},
   "outputs": [],
   "source": []
  },
  {
   "cell_type": "code",
   "execution_count": null,
   "metadata": {},
   "outputs": [],
   "source": []
  }
 ],
 "metadata": {
  "kernelspec": {
   "display_name": "Python 3",
   "language": "python",
   "name": "python3"
  },
  "language_info": {
   "codemirror_mode": {
    "name": "ipython",
    "version": 3
   },
   "file_extension": ".py",
   "mimetype": "text/x-python",
   "name": "python",
   "nbconvert_exporter": "python",
   "pygments_lexer": "ipython3",
   "version": "3.10.11"
  },
  "orig_nbformat": 4
 },
 "nbformat": 4,
 "nbformat_minor": 2
}
