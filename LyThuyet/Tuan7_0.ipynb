{
 "cells": [
  {
   "cell_type": "code",
   "execution_count": 1,
   "metadata": {},
   "outputs": [],
   "source": [
    "import pandas as pd\n",
    "import seaborn as sns\n",
    "import matplotlib.pyplot as plt"
   ]
  },
  {
   "cell_type": "code",
   "execution_count": 2,
   "metadata": {},
   "outputs": [],
   "source": [
    "df= pd.read_csv('dulieuxettuyendaihoc.csv', header=0,delimiter=',', encoding ='utf-8')\n",
    "df = df[['T5','T6','NGONNGU']]"
   ]
  },
  {
   "cell_type": "code",
   "execution_count": 3,
   "metadata": {},
   "outputs": [],
   "source": [
    "# tập dữ loeiej input (đặc trưng) và output (mục tiêu)\n",
    "x=df[['T5','T6']].values # input\n",
    "y=df[['NGONNGU']].values # output"
   ]
  },
  {
   "cell_type": "code",
   "execution_count": 4,
   "metadata": {},
   "outputs": [],
   "source": [
    "# đảm bảo dữ liệu là kiểu số thực\n",
    "x=x.astype(float)\n",
    "y=y.astype(float)\n"
   ]
  },
  {
   "cell_type": "code",
   "execution_count": 5,
   "metadata": {},
   "outputs": [],
   "source": [
    "# chia tách ra training và testing\n",
    "from sklearn.model_selection import train_test_split\n",
    "x_train,x_test,y_train,y_test= train_test_split(x,y,test_size= 0.2,random_state=16)"
   ]
  },
  {
   "cell_type": "code",
   "execution_count": 6,
   "metadata": {},
   "outputs": [],
   "source": [
    "from sklearn.preprocessing import MinMaxScaler\n",
    "# Scale cho input\n",
    "sc= MinMaxScaler()\n",
    "x_train = sc.fit_transform(x_train)"
   ]
  },
  {
   "cell_type": "code",
   "execution_count": 7,
   "metadata": {},
   "outputs": [
    {
     "name": "stdout",
     "output_type": "stream",
     "text": [
      "[3.73936498]\n",
      "[[ 1.268621   -1.34529033]]\n"
     ]
    }
   ],
   "source": [
    "# xây dựng mô hình hồi quy tuyến tính đa biến  T5,T6 là dl đã sử lý\n",
    "\n",
    "from sklearn import linear_model\n",
    "model = linear_model.LinearRegression()\n",
    "model.fit(x_train,y_train)\n",
    "print(model.intercept_)\n",
    "\n",
    "print(model.coef_)"
   ]
  },
  {
   "cell_type": "code",
   "execution_count": 8,
   "metadata": {},
   "outputs": [
    {
     "name": "stdout",
     "output_type": "stream",
     "text": [
      "Score or R-Squared -0.07691460875153733\n",
      "Mean Absolute Error: 1.1905472933346881\n",
      "Mean squared Error: 1.9874122568694386\n",
      "root mean squared Error: 1.409756098362209\n",
      "Mean Absolute percentage Error: 0.38123864099681043\n"
     ]
    }
   ],
   "source": [
    "import numpy as np\n",
    "from sklearn import metrics\n",
    "x_test = sc.transform(x_test)\n",
    "y_test_pred=model.predict(x_test)\n",
    "\n",
    "print('Score or R-Squared', model.score(x_test,y_test))\n",
    "\n",
    "print('Mean Absolute Error:',\n",
    "      metrics.mean_absolute_error(y_test,y_test_pred))\n",
    "\n",
    "print('Mean squared Error:',\n",
    "      metrics.mean_squared_error(y_test,y_test_pred))\n",
    "\n",
    "print('root mean squared Error:',\n",
    "      np.sqrt(metrics.mean_squared_error(y_test,y_test_pred)))\n",
    "\n",
    "print('Mean Absolute percentage Error:',\n",
    "      metrics.mean_absolute_percentage_error(y_test,y_test_pred))"
   ]
  },
  {
   "cell_type": "code",
   "execution_count": 9,
   "metadata": {},
   "outputs": [],
   "source": [
    "# R-squared ra âm là không có ý nghĩa gì khi đi dự báo"
   ]
  },
  {
   "cell_type": "code",
   "execution_count": 10,
   "metadata": {},
   "outputs": [
    {
     "name": "stdout",
     "output_type": "stream",
     "text": [
      "Giá trị T5 và T6 sau khi scale: [[1.07692308 0.65517241]]\n",
      "giá trị dự báo điểm ngôn ngữ: [[4.2241751]]\n"
     ]
    }
   ],
   "source": [
    "vT5=10.0\n",
    "vT6=7.5 \n",
    "\n",
    "scaled=sc.transform([[vT5,vT6]])\n",
    "\n",
    "print (f\"Giá trị T5 và T6 sau khi scale: {scaled}\")\n",
    "\n",
    "predicted_ngonngu = model.predict(scaled)\n",
    "print (f\"giá trị dự báo điểm ngôn ngữ: {predicted_ngonngu}\")"
   ]
  },
  {
   "cell_type": "code",
   "execution_count": 11,
   "metadata": {},
   "outputs": [],
   "source": [
    "# tại sao khi Vt5 bằng 10 thì dữ liệu sẽ bị đột biến nên lớn hơn 1 \n",
    "# Dữ liệu của mình không đủ lớn cần gia tăng dữ liệu không thể sửa vT5 được \n"
   ]
  },
  {
   "cell_type": "code",
   "execution_count": 12,
   "metadata": {},
   "outputs": [],
   "source": [
    "import pickle\n",
    "pickle.dump(model,open('Tuan7_0.sav','wb'))"
   ]
  },
  {
   "cell_type": "code",
   "execution_count": 13,
   "metadata": {},
   "outputs": [
    {
     "name": "stdout",
     "output_type": "stream",
     "text": [
      "Dự báo điểm T6 là : [[2.79715579]]\n"
     ]
    }
   ],
   "source": [
    "loaded_model= pickle.load(open('model_line_regression.sav','rb'))\n",
    "\n",
    "vT5=float(input('Nhập T5: '))\n",
    "vT6=float(input('Nhập T6: '))\n",
    "scaled=sc.transform([[vT5,vT6]])\n",
    "predicted_ngonngu = model.predict(scaled)\n",
    "print(f'Dự báo điểm T6 là : {predicted_ngonngu}')"
   ]
  },
  {
   "cell_type": "code",
   "execution_count": null,
   "metadata": {},
   "outputs": [],
   "source": []
  }
 ],
 "metadata": {
  "kernelspec": {
   "display_name": "Python 3",
   "language": "python",
   "name": "python3"
  },
  "language_info": {
   "codemirror_mode": {
    "name": "ipython",
    "version": 3
   },
   "file_extension": ".py",
   "mimetype": "text/x-python",
   "name": "python",
   "nbconvert_exporter": "python",
   "pygments_lexer": "ipython3",
   "version": "3.11.5"
  },
  "orig_nbformat": 4
 },
 "nbformat": 4,
 "nbformat_minor": 2
}
