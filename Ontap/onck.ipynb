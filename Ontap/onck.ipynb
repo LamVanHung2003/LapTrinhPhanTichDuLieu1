{
 "cells": [
  {
   "cell_type": "code",
   "execution_count": 1,
   "metadata": {},
   "outputs": [],
   "source": [
    "import pandas as pd\n",
    "import numpy as np\n",
    "import matplotlib.pyplot as plt\n",
    "from sklearn.model_selection import train_test_split\n",
    "from sklearn.linear_model import LinearRegression\n",
    "from sklearn.preprocessing import PolynomialFeatures, MinMaxScaler\n",
    "from sklearn.metrics import mean_absolute_error\n",
    "\n",
    "# Bước 1: Tải dữ liệu dulieuxettuyendaihoc.csv và hiển thị các dòng dữ liệu\n",
    "data = pd.read_csv('dulieuxettuyendaihoc.csv')\n",
    "\n",
    "data.rename(columns={'TOANLOGICPHANTICH':'LOGIC'},inplace=True)\n",
    "\n",
    "data=data[['T1', 'T2', 'T3', 'T4', 'T5', 'T6', 'GT','LOGIC']]\n",
    "# Tập dữ liệu Input(đặc trưng) và ouput (mục tiêu)\n",
    "X= data[['T1', 'T2', 'T3', 'T4', 'T5', 'T6', 'GT']].values \n",
    "y= data[['LOGIC']].values"
   ]
  },
  {
   "cell_type": "code",
   "execution_count": 2,
   "metadata": {},
   "outputs": [
    {
     "data": {
      "text/html": [
       "<div>\n",
       "<style scoped>\n",
       "    .dataframe tbody tr th:only-of-type {\n",
       "        vertical-align: middle;\n",
       "    }\n",
       "\n",
       "    .dataframe tbody tr th {\n",
       "        vertical-align: top;\n",
       "    }\n",
       "\n",
       "    .dataframe thead th {\n",
       "        text-align: right;\n",
       "    }\n",
       "</style>\n",
       "<table border=\"1\" class=\"dataframe\">\n",
       "  <thead>\n",
       "    <tr style=\"text-align: right;\">\n",
       "      <th></th>\n",
       "      <th>T1</th>\n",
       "      <th>T2</th>\n",
       "      <th>T3</th>\n",
       "      <th>T4</th>\n",
       "      <th>T5</th>\n",
       "      <th>T6</th>\n",
       "      <th>LOGIC</th>\n",
       "    </tr>\n",
       "  </thead>\n",
       "  <tbody>\n",
       "    <tr>\n",
       "      <th>count</th>\n",
       "      <td>100.000000</td>\n",
       "      <td>100.000000</td>\n",
       "      <td>100.000000</td>\n",
       "      <td>100.000000</td>\n",
       "      <td>100.000000</td>\n",
       "      <td>100.0000</td>\n",
       "      <td>100.000000</td>\n",
       "    </tr>\n",
       "    <tr>\n",
       "      <th>mean</th>\n",
       "      <td>5.946000</td>\n",
       "      <td>6.374000</td>\n",
       "      <td>6.383000</td>\n",
       "      <td>6.291000</td>\n",
       "      <td>6.717000</td>\n",
       "      <td>6.9370</td>\n",
       "      <td>4.255000</td>\n",
       "    </tr>\n",
       "    <tr>\n",
       "      <th>std</th>\n",
       "      <td>1.608338</td>\n",
       "      <td>1.561443</td>\n",
       "      <td>1.574484</td>\n",
       "      <td>1.469563</td>\n",
       "      <td>1.478059</td>\n",
       "      <td>1.3632</td>\n",
       "      <td>1.060053</td>\n",
       "    </tr>\n",
       "    <tr>\n",
       "      <th>min</th>\n",
       "      <td>2.400000</td>\n",
       "      <td>2.800000</td>\n",
       "      <td>2.300000</td>\n",
       "      <td>2.900000</td>\n",
       "      <td>3.000000</td>\n",
       "      <td>3.7000</td>\n",
       "      <td>1.500000</td>\n",
       "    </tr>\n",
       "    <tr>\n",
       "      <th>25%</th>\n",
       "      <td>5.000000</td>\n",
       "      <td>5.300000</td>\n",
       "      <td>5.175000</td>\n",
       "      <td>5.300000</td>\n",
       "      <td>5.800000</td>\n",
       "      <td>6.0000</td>\n",
       "      <td>3.500000</td>\n",
       "    </tr>\n",
       "    <tr>\n",
       "      <th>50%</th>\n",
       "      <td>5.850000</td>\n",
       "      <td>6.250000</td>\n",
       "      <td>6.650000</td>\n",
       "      <td>6.350000</td>\n",
       "      <td>6.800000</td>\n",
       "      <td>7.1000</td>\n",
       "      <td>4.125000</td>\n",
       "    </tr>\n",
       "    <tr>\n",
       "      <th>75%</th>\n",
       "      <td>7.200000</td>\n",
       "      <td>7.525000</td>\n",
       "      <td>7.500000</td>\n",
       "      <td>7.600000</td>\n",
       "      <td>7.800000</td>\n",
       "      <td>8.0000</td>\n",
       "      <td>4.750000</td>\n",
       "    </tr>\n",
       "    <tr>\n",
       "      <th>max</th>\n",
       "      <td>9.300000</td>\n",
       "      <td>9.600000</td>\n",
       "      <td>9.500000</td>\n",
       "      <td>9.400000</td>\n",
       "      <td>9.500000</td>\n",
       "      <td>9.5000</td>\n",
       "      <td>8.000000</td>\n",
       "    </tr>\n",
       "  </tbody>\n",
       "</table>\n",
       "</div>"
      ],
      "text/plain": [
       "               T1          T2          T3          T4          T5        T6  \\\n",
       "count  100.000000  100.000000  100.000000  100.000000  100.000000  100.0000   \n",
       "mean     5.946000    6.374000    6.383000    6.291000    6.717000    6.9370   \n",
       "std      1.608338    1.561443    1.574484    1.469563    1.478059    1.3632   \n",
       "min      2.400000    2.800000    2.300000    2.900000    3.000000    3.7000   \n",
       "25%      5.000000    5.300000    5.175000    5.300000    5.800000    6.0000   \n",
       "50%      5.850000    6.250000    6.650000    6.350000    6.800000    7.1000   \n",
       "75%      7.200000    7.525000    7.500000    7.600000    7.800000    8.0000   \n",
       "max      9.300000    9.600000    9.500000    9.400000    9.500000    9.5000   \n",
       "\n",
       "            LOGIC  \n",
       "count  100.000000  \n",
       "mean     4.255000  \n",
       "std      1.060053  \n",
       "min      1.500000  \n",
       "25%      3.500000  \n",
       "50%      4.125000  \n",
       "75%      4.750000  \n",
       "max      8.000000  "
      ]
     },
     "execution_count": 2,
     "metadata": {},
     "output_type": "execute_result"
    }
   ],
   "source": [
    "# Bước 2: EDA dữ liệu\n",
    "data.describe()"
   ]
  },
  {
   "cell_type": "code",
   "execution_count": 3,
   "metadata": {},
   "outputs": [],
   "source": [
    "data['GT'] = data['GT'].apply(lambda x: 1 if x == 'M' else 0)"
   ]
  },
  {
   "cell_type": "code",
   "execution_count": 4,
   "metadata": {},
   "outputs": [],
   "source": [
    "# Bước 3: Chia tập dữ liệu thành train và test\n",
    "X = data[['T1', 'T2', 'T3', 'T4', 'T5', 'T6', 'GT']]\n",
    "y = data['LOGIC']\n",
    "X_train, X_test, y_train, y_test = train_test_split(X, y, test_size=0.2, random_state=16)"
   ]
  },
  {
   "cell_type": "code",
   "execution_count": 5,
   "metadata": {},
   "outputs": [],
   "source": [
    "# Bước 4: Transform dữ liệu input trên tập train\n",
    "poly = PolynomialFeatures(degree=2)\n",
    "X_train_poly = poly.fit_transform(X_train)"
   ]
  },
  {
   "cell_type": "code",
   "execution_count": 6,
   "metadata": {},
   "outputs": [
    {
     "data": {
      "image/png": "[encoded data removed]",
      "text/plain": [
       "<Figure size 640x480 with 1 Axes>"
      ]
     },
     "metadata": {},
     "output_type": "display_data"
    }
   ],
   "source": [
    "# Bước 5: EDA dữ liệu điểm toán sau khi transform\n",
    "plt.hist(X_train_poly[:, 1])  # Vẽ biểu đồ phân phối điểm toán\n",
    "plt.xlabel('Điểm toán')\n",
    "plt.ylabel('Số lượng')\n",
    "plt.title('Phân phối điểm toán sau khi transform')\n",
    "plt.show()"
   ]
  },
  {
   "cell_type": "code",
   "execution_count": 7,
   "metadata": {},
   "outputs": [],
   "source": [
    "# Bước 6: Chuẩn hóa dữ liệu đầu vào trên tập train\n",
    "scaler = MinMaxScaler()\n",
    "X_train_scaled = scaler.fit_transform(X_train_poly)"
   ]
  },
  {
   "cell_type": "code",
   "execution_count": 8,
   "metadata": {},
   "outputs": [
    {
     "data": {
      "image/png": "[encoded data removed]",
      "text/plain": [
       "<Figure size 640x480 with 1 Axes>"
      ]
     },
     "metadata": {},
     "output_type": "display_data"
    }
   ],
   "source": [
    "\n",
    "# Bước 7: EDA dữ liệu điểm toán sau khi minmaxscale\n",
    "plt.boxplot(X_train_scaled[:, 1:7], labels=['T1', 'T2', 'T3', 'T4', 'T5', 'T6'])\n",
    "plt.xlabel('Học kì')\n",
    "plt.ylabel('Điểm toán sau khi minmaxscale')\n",
    "plt.title('Biểu đồ Boxplot điểm toán')\n",
    "plt.show()"
   ]
  },
  {
   "cell_type": "code",
   "execution_count": 9,
   "metadata": {},
   "outputs": [
    {
     "data": {
      "text/html": [
       "<style>#sk-container-id-1 {color: black;}#sk-container-id-1 pre{padding: 0;}#sk-container-id-1 div.sk-toggleable {background-color: white;}#sk-container-id-1 label.sk-toggleable__label {cursor: pointer;display: block;width: 100%;margin-bottom: 0;padding: 0.3em;box-sizing: border-box;text-align: center;}#sk-container-id-1 label.sk-toggleable__label-arrow:before {content: \"▸\";float: left;margin-right: 0.25em;color: #696969;}#sk-container-id-1 label.sk-toggleable__label-arrow:hover:before {color: black;}#sk-container-id-1 div.sk-estimator:hover label.sk-toggleable__label-arrow:before {color: black;}#sk-container-id-1 div.sk-toggleable__content {max-height: 0;max-width: 0;overflow: hidden;text-align: left;background-color: #f0f8ff;}#sk-container-id-1 div.sk-toggleable__content pre {margin: 0.2em;color: black;border-radius: 0.25em;background-color: #f0f8ff;}#sk-container-id-1 input.sk-toggleable__control:checked~div.sk-toggleable__content {max-height: 200px;max-width: 100%;overflow: auto;}#sk-container-id-1 input.sk-toggleable__control:checked~label.sk-toggleable__label-arrow:before {content: \"▾\";}#sk-container-id-1 div.sk-estimator input.sk-toggleable__control:checked~label.sk-toggleable__label {background-color: #d4ebff;}#sk-container-id-1 div.sk-label input.sk-toggleable__control:checked~label.sk-toggleable__label {background-color: #d4ebff;}#sk-container-id-1 input.sk-hidden--visually {border: 0;clip: rect(1px 1px 1px 1px);clip: rect(1px, 1px, 1px, 1px);height: 1px;margin: -1px;overflow: hidden;padding: 0;position: absolute;width: 1px;}#sk-container-id-1 div.sk-estimator {font-family: monospace;background-color: #f0f8ff;border: 1px dotted black;border-radius: 0.25em;box-sizing: border-box;margin-bottom: 0.5em;}#sk-container-id-1 div.sk-estimator:hover {background-color: #d4ebff;}#sk-container-id-1 div.sk-parallel-item::after {content: \"\";width: 100%;border-bottom: 1px solid gray;flex-grow: 1;}#sk-container-id-1 div.sk-label:hover label.sk-toggleable__label {background-color: #d4ebff;}#sk-container-id-1 div.sk-serial::before {content: \"\";position: absolute;border-left: 1px solid gray;box-sizing: border-box;top: 0;bottom: 0;left: 50%;z-index: 0;}#sk-container-id-1 div.sk-serial {display: flex;flex-direction: column;align-items: center;background-color: white;padding-right: 0.2em;padding-left: 0.2em;position: relative;}#sk-container-id-1 div.sk-item {position: relative;z-index: 1;}#sk-container-id-1 div.sk-parallel {display: flex;align-items: stretch;justify-content: center;background-color: white;position: relative;}#sk-container-id-1 div.sk-item::before, #sk-container-id-1 div.sk-parallel-item::before {content: \"\";position: absolute;border-left: 1px solid gray;box-sizing: border-box;top: 0;bottom: 0;left: 50%;z-index: -1;}#sk-container-id-1 div.sk-parallel-item {display: flex;flex-direction: column;z-index: 1;position: relative;background-color: white;}#sk-container-id-1 div.sk-parallel-item:first-child::after {align-self: flex-end;width: 50%;}#sk-container-id-1 div.sk-parallel-item:last-child::after {align-self: flex-start;width: 50%;}#sk-container-id-1 div.sk-parallel-item:only-child::after {width: 0;}#sk-container-id-1 div.sk-dashed-wrapped {border: 1px dashed gray;margin: 0 0.4em 0.5em 0.4em;box-sizing: border-box;padding-bottom: 0.4em;background-color: white;}#sk-container-id-1 div.sk-label label {font-family: monospace;font-weight: bold;display: inline-block;line-height: 1.2em;}#sk-container-id-1 div.sk-label-container {text-align: center;}#sk-container-id-1 div.sk-container {/* jupyter's `normalize.less` sets `[hidden] { display: none; }` but bootstrap.min.css set `[hidden] { display: none !important; }` so we also need the `!important` here to be able to override the default hidden behavior on the sphinx rendered scikit-learn.org. See: https://github.com/scikit-learn/scikit-learn/issues/21755 */display: inline-block !important;position: relative;}#sk-container-id-1 div.sk-text-repr-fallback {display: none;}</style><div id=\"sk-container-id-1\" class=\"sk-top-container\"><div class=\"sk-text-repr-fallback\"><pre>LinearRegression()</pre><b>In a Jupyter environment, please rerun this cell to show the HTML representation or trust the notebook. <br />On GitHub, the HTML representation is unable to render, please try loading this page with nbviewer.org.</b></div><div class=\"sk-container\" hidden><div class=\"sk-item\"><div class=\"sk-estimator sk-toggleable\"><input class=\"sk-toggleable__control sk-hidden--visually\" id=\"sk-estimator-id-1\" type=\"checkbox\" checked><label for=\"sk-estimator-id-1\" class=\"sk-toggleable__label sk-toggleable__label-arrow\">LinearRegression</label><div class=\"sk-toggleable__content\"><pre>LinearRegression()</pre></div></div></div></div></div>"
      ],
      "text/plain": [
       "LinearRegression()"
      ]
     },
     "execution_count": 9,
     "metadata": {},
     "output_type": "execute_result"
    }
   ],
   "source": [
    "# Bước 8: Xây dựng mô hình hồi quy tuyến tính\n",
    "model = LinearRegression()\n",
    "model.fit(X_train_scaled, y_train)"
   ]
  },
  {
   "cell_type": "code",
   "execution_count": 10,
   "metadata": {},
   "outputs": [
    {
     "name": "stdout",
     "output_type": "stream",
     "text": [
      "MAE trên tập train: 0.6185152318219463\n",
      "MAE trên tập test: 1.0522702760902314\n"
     ]
    }
   ],
   "source": [
    "# Bước 9: Đánh giá mô hình trên tập train và test\n",
    "X_test_poly = poly.transform(X_test)\n",
    "X_test_scaled = scaler.transform(X_test_poly)\n",
    "y_train_pred = model.predict(X_train_scaled)\n",
    "y_test_pred = model.predict(X_test_scaled)\n",
    "\n",
    "mae_train = mean_absolute_error(y_train, y_train_pred)\n",
    "mae_test = mean_absolute_error(y_test, y_test_pred)\n",
    "print('MAE trên tập train:', mae_train)\n",
    "print('MAE trên tập test:', mae_test)"
   ]
  },
  {
   "cell_type": "code",
   "execution_count": 11,
   "metadata": {},
   "outputs": [
    {
     "name": "stdout",
     "output_type": "stream",
     "text": [
      "Điểm thi LOGIC dự báo: [3.32615445]\n"
     ]
    }
   ],
   "source": [
    "# Bước 10: Dự báo điểm LOGIC\n",
    "new_data = pd.DataFrame({\n",
    "    'T1': [5.0],\n",
    "    'T2': [6.5],\n",
    "    'T3': [7.0],\n",
    "    'T4': [7.0],\n",
    "    'T5': [6.5],\n",
    "    'T6': [6.0],\n",
    "    'GT': ['1']\n",
    "})\n",
    "\n",
    "new_data_poly = poly.transform(new_data)\n",
    "new_data_scaled = scaler.transform(new_data_poly)\n",
    "logic_score = model.predict(new_data_scaled)\n",
    "print('Điểm thi LOGIC dự báo:', logic_score)"
   ]
  }
 ],
 "metadata": {
  "kernelspec": {
   "display_name": "base",
   "language": "python",
   "name": "python3"
  },
  "language_info": {
   "codemirror_mode": {
    "name": "ipython",
    "version": 3
   },
   "file_extension": ".py",
   "mimetype": "text/x-python",
   "name": "python",
   "nbconvert_exporter": "python",
   "pygments_lexer": "ipython3",
   "version": "3.11.5"
  }
 },
 "nbformat": 4,
 "nbformat_minor": 2
}
