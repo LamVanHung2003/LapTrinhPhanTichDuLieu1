{
 "cells": [
  {
   "cell_type": "code",
   "execution_count": 12,
   "metadata": {},
   "outputs": [],
   "source": [
    "# Import thư viện \n",
    "import pandas as pd\n",
    "import seaborn as sb\n",
    "import matplotlib as mp\n",
    "import matplotlib.pyplot as plt\n",
    "import numpy as np"
   ]
  },
  {
   "cell_type": "code",
   "execution_count": 3,
   "metadata": {},
   "outputs": [
    {
     "data": {
      "text/html": [
       "<div>\n",
       "<style scoped>\n",
       "    .dataframe tbody tr th:only-of-type {\n",
       "        vertical-align: middle;\n",
       "    }\n",
       "\n",
       "    .dataframe tbody tr th {\n",
       "        vertical-align: top;\n",
       "    }\n",
       "\n",
       "    .dataframe thead th {\n",
       "        text-align: right;\n",
       "    }\n",
       "</style>\n",
       "<table border=\"1\" class=\"dataframe\">\n",
       "  <thead>\n",
       "    <tr style=\"text-align: right;\">\n",
       "      <th></th>\n",
       "      <th>ORDERNUMBER</th>\n",
       "      <th>QUANTITYORDERED</th>\n",
       "      <th>ORDERLINENUMBER</th>\n",
       "      <th>SALES</th>\n",
       "      <th>ORDERDATE</th>\n",
       "      <th>STATUS</th>\n",
       "      <th>COUNTRY</th>\n",
       "      <th>DEALSIZE</th>\n",
       "    </tr>\n",
       "  </thead>\n",
       "  <tbody>\n",
       "    <tr>\n",
       "      <th>0</th>\n",
       "      <td>10107</td>\n",
       "      <td>30</td>\n",
       "      <td>2</td>\n",
       "      <td>2871.00</td>\n",
       "      <td>2/24/2003 0:00</td>\n",
       "      <td>Shipped</td>\n",
       "      <td>USA</td>\n",
       "      <td>Small</td>\n",
       "    </tr>\n",
       "    <tr>\n",
       "      <th>1</th>\n",
       "      <td>10121</td>\n",
       "      <td>34</td>\n",
       "      <td>5</td>\n",
       "      <td>2765.90</td>\n",
       "      <td>5/7/2003 0:00</td>\n",
       "      <td>Shipped</td>\n",
       "      <td>France</td>\n",
       "      <td>Small</td>\n",
       "    </tr>\n",
       "    <tr>\n",
       "      <th>2</th>\n",
       "      <td>10134</td>\n",
       "      <td>41</td>\n",
       "      <td>2</td>\n",
       "      <td>3884.34</td>\n",
       "      <td>7/1/2003 0:00</td>\n",
       "      <td>Shipped</td>\n",
       "      <td>France</td>\n",
       "      <td>Medium</td>\n",
       "    </tr>\n",
       "    <tr>\n",
       "      <th>3</th>\n",
       "      <td>10145</td>\n",
       "      <td>45</td>\n",
       "      <td>6</td>\n",
       "      <td>3746.70</td>\n",
       "      <td>8/25/2003 0:00</td>\n",
       "      <td>Shipped</td>\n",
       "      <td>USA</td>\n",
       "      <td>Medium</td>\n",
       "    </tr>\n",
       "    <tr>\n",
       "      <th>4</th>\n",
       "      <td>10159</td>\n",
       "      <td>49</td>\n",
       "      <td>14</td>\n",
       "      <td>5205.27</td>\n",
       "      <td>10/10/2003 0:00</td>\n",
       "      <td>Shipped</td>\n",
       "      <td>USA</td>\n",
       "      <td>Medium</td>\n",
       "    </tr>\n",
       "  </tbody>\n",
       "</table>\n",
       "</div>"
      ],
      "text/plain": [
       "   ORDERNUMBER  QUANTITYORDERED  ORDERLINENUMBER    SALES        ORDERDATE  \\\n",
       "0        10107               30                2  2871.00   2/24/2003 0:00   \n",
       "1        10121               34                5  2765.90    5/7/2003 0:00   \n",
       "2        10134               41                2  3884.34    7/1/2003 0:00   \n",
       "3        10145               45                6  3746.70   8/25/2003 0:00   \n",
       "4        10159               49               14  5205.27  10/10/2003 0:00   \n",
       "\n",
       "    STATUS COUNTRY DEALSIZE  \n",
       "0  Shipped     USA    Small  \n",
       "1  Shipped  France    Small  \n",
       "2  Shipped  France   Medium  \n",
       "3  Shipped     USA   Medium  \n",
       "4  Shipped     USA   Medium  "
      ]
     },
     "execution_count": 3,
     "metadata": {},
     "output_type": "execute_result"
    }
   ],
   "source": [
    "\n",
    "df = pd.read_csv('sales_data_sample.csv')\n",
    "df.head()"
   ]
  },
  {
   "cell_type": "code",
   "execution_count": 4,
   "metadata": {},
   "outputs": [
    {
     "data": {
      "text/plain": [
       "0.21232496378561083"
      ]
     },
     "execution_count": 4,
     "metadata": {},
     "output_type": "execute_result"
    }
   ],
   "source": [
    "# Câu 1: Nếu sử dụng Max Absolute Scaler cho SALES thì giá trị có index = 100 được scale thành bao nhiêu\n",
    "maxsales = df['SALES'].max()\n",
    "max100 = df.loc[100 , 'SALES']\n",
    "\n",
    "MaxAbsolute = max100 / maxsales \n",
    "\n",
    "MaxAbsolute"
   ]
  },
  {
   "cell_type": "code",
   "execution_count": 6,
   "metadata": {},
   "outputs": [
    {
     "name": "stdout",
     "output_type": "stream",
     "text": [
      "p value is 8.302151811554312e-187\n"
     ]
    }
   ],
   "source": [
    "#3.  Có mối liên hệ nào giữa trạng thái giao hàng và giá trị đặt hàng hay không\n",
    "from scipy.stats import chi2_contingency\n",
    "\n",
    "\n",
    "crosdata = pd.crosstab(df['STATUS'], [df['QUANTITYORDERED']], rownames=['STATUS'], colnames=['QUANTITYORDERED'])\n",
    "\n",
    "stat, p, dof, expected = chi2_contingency(crosdata)\n",
    " \n",
    "# interpret p-value\n",
    "alpha = 0.05\n",
    "print(\"p value is \" + str(p))\n",
    "\n",
    "\n",
    "# => có phụ thuộc"
   ]
  },
  {
   "cell_type": "code",
   "execution_count": 7,
   "metadata": {},
   "outputs": [
    {
     "data": {
      "text/plain": [
       "array([0, 1, 0])"
      ]
     },
     "execution_count": 7,
     "metadata": {},
     "output_type": "execute_result"
    }
   ],
   "source": [
    "# 4. Nếu sử dụng One Hot Encoding để số hóa dữ liệu DEALSIZE thì kết quả của dòng cuối cùng là bao nhiêu\n",
    "from sklearn.preprocessing import LabelBinarizer\n",
    "\n",
    "y = LabelBinarizer().fit_transform(df.DEALSIZE) # giúp tạo ra matrix vector\n",
    "y[-1]\n"
   ]
  },
  {
   "cell_type": "code",
   "execution_count": 8,
   "metadata": {},
   "outputs": [
    {
     "data": {
      "image/png": "[encoded data removed]",
      "text/plain": [
       "<Figure size 640x480 with 1 Axes>"
      ]
     },
     "metadata": {},
     "output_type": "display_data"
    }
   ],
   "source": [
    "# 5.Hãy cho biết phần trăm số lượng sản phẩm theo kích thước đặt hàng\n",
    "# Import thư viện \n",
    "import pandas as pd\n",
    "import seaborn as sb\n",
    "import matplotlib as mp\n",
    "import matplotlib.pyplot as plt\n",
    "\n",
    "gb = df.groupby(['DEALSIZE']) ['QUANTITYORDERED'].agg(['sum'])\n",
    "labels = gb.index\n",
    "data =  list(gb['sum'])\n",
    "color = sb.color_palette('pastel')\n",
    "plt.pie(data, labels = labels , colors=color, autopct= '%1.1f%%', shadow= False)\n",
    "\n",
    "plt.show()"
   ]
  },
  {
   "cell_type": "code",
   "execution_count": 9,
   "metadata": {},
   "outputs": [
    {
     "name": "stdout",
     "output_type": "stream",
     "text": [
      "DEALSIZE\n",
      "Small     2061.682800\n",
      "Medium    4398.433699\n",
      "Large     8293.753248\n",
      "Name: SALES, dtype: float64\n"
     ]
    }
   ],
   "source": [
    "# 6.Hãy cho biết thứ tự mức độ ổn định tăng dần của giá trị bán hàng trên từng nhóm kích thước đặt hàng\n",
    "# Nhóm dữ liệu theo kích thước đặt hàng và tính trung bình giá trị bán hàng trong mỗi nhóm\n",
    "average_sales_by_dealsize = df.groupby('DEALSIZE')['SALES'].mean()\n",
    "\n",
    "# Sắp xếp dữ liệu theo giá trị trung bình tăng dần\n",
    "sorted_sales_by_dealsize = average_sales_by_dealsize.sort_values()\n",
    "\n",
    "# Hiển thị thứ tự ổn định tăng dần của giá trị bán hàng trên từng nhóm kích thước đặt hàng\n",
    "print(sorted_sales_by_dealsize)"
   ]
  },
  {
   "cell_type": "code",
   "execution_count": 10,
   "metadata": {},
   "outputs": [
    {
     "data": {
      "text/plain": [
       "1.160458972499323"
      ]
     },
     "execution_count": 10,
     "metadata": {},
     "output_type": "execute_result"
    }
   ],
   "source": [
    "# 7.Hãy cho biết độ lệch của giá trị đặt hàng của các sản phẩm\n",
    "from scipy.stats import skew\n",
    "\n",
    "h = df['SALES']\n",
    "skew(h)"
   ]
  },
  {
   "cell_type": "code",
   "execution_count": 20,
   "metadata": {},
   "outputs": [
    {
     "name": "stdout",
     "output_type": "stream",
     "text": [
      "độ lệch câu 7  0.7675895261439601\n",
      "độ lệch câu 6  0.5659624607534838\n"
     ]
    }
   ],
   "source": [
    "df['sales_transform1'] = 1 / (np.log(df['SALES'])*np.log(df['SALES']) + 1)\n",
    "h=df['sales_transform1']\n",
    "n=skew(h)\n",
    "print('độ lệch câu 7 ',n)\n",
    "df['sales_transform2'] = np.sqrt(df['sales_transform1'])\n",
    "p=df['sales_transform2']\n",
    "t = skew(p)\n",
    "\n",
    "print('độ lệch câu 6 ',t)\n",
    "\n"
   ]
  },
  {
   "cell_type": "code",
   "execution_count": 19,
   "metadata": {},
   "outputs": [
    {
     "name": "stdout",
     "output_type": "stream",
     "text": [
      "sales_log :  -0.2021742362869817\n",
      "sales_sqrt :  0.47281500087876144\n",
      "sales_square :  2.915766495908139\n",
      "sales_cube :  0.25086487312083416\n"
     ]
    }
   ],
   "source": [
    "sales_log = np.log(df['SALES']).skew()\n",
    "\n",
    "sales_sqrt = np.sqrt(df['SALES']).skew()\n",
    "\n",
    "sales_square = np.square(df['SALES']).skew()\n",
    "\n",
    "sales_cube = np.cbrt(df['SALES']).skew()\n",
    "\n",
    "print('sales_log : ', sales_log)\n",
    "print('sales_sqrt : ', sales_sqrt)\n",
    "print('sales_square : ', sales_square)\n",
    "print('sales_cube : ', sales_cube)"
   ]
  },
  {
   "cell_type": "code",
   "execution_count": 22,
   "metadata": {},
   "outputs": [
    {
     "name": "stdout",
     "output_type": "stream",
     "text": [
      "sales_cube :  1.160458972499323\n"
     ]
    }
   ],
   "source": [
    "sales= skew((df['SALES']))\n",
    "print('sales_cube : ', sales)\n"
   ]
  },
  {
   "cell_type": "code",
   "execution_count": 28,
   "metadata": {},
   "outputs": [
    {
     "data": {
      "text/plain": [
       "(array([462., 965., 713., 370., 190.,  79.,  28.,   9.,   6.,   1.]),\n",
       " array([  482.13 ,  1842.197,  3202.264,  4562.331,  5922.398,  7282.465,\n",
       "         8642.532, 10002.599, 11362.666, 12722.733, 14082.8  ]),\n",
       " <BarContainer object of 10 artists>)"
      ]
     },
     "execution_count": 28,
     "metadata": {},
     "output_type": "execute_result"
    },
    {
     "data": {
      "image/png": "[encoded data removed]",
      "text/plain": [
       "<Figure size 640x480 with 1 Axes>"
      ]
     },
     "metadata": {},
     "output_type": "display_data"
    }
   ],
   "source": [
    "plt.hist(df['SALES'], bins=10, color='blue', edgecolor='black')\n"
   ]
  },
  {
   "cell_type": "code",
   "execution_count": null,
   "metadata": {},
   "outputs": [],
   "source": []
  }
 ],
 "metadata": {
  "kernelspec": {
   "display_name": "Python 3",
   "language": "python",
   "name": "python3"
  },
  "language_info": {
   "codemirror_mode": {
    "name": "ipython",
    "version": 3
   },
   "file_extension": ".py",
   "mimetype": "text/x-python",
   "name": "python",
   "nbconvert_exporter": "python",
   "pygments_lexer": "ipython3",
   "version": "3.11.5"
  },
  "orig_nbformat": 4
 },
 "nbformat": 4,
 "nbformat_minor": 2
}
