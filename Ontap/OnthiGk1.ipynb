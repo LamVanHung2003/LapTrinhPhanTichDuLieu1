{
 "cells": [
  {
   "cell_type": "code",
   "execution_count": 28,
   "metadata": {},
   "outputs": [],
   "source": [
    "# Import thư viện \n",
    "import pandas as pd\n",
    "import seaborn as sb\n",
    "import matplotlib as mp\n",
    "import matplotlib.pyplot as plt\n",
    "import numpy as np\n",
    "from scipy.stats import skew\n",
    "from sklearn.linear_model import LinearRegression\n"
   ]
  },
  {
   "cell_type": "code",
   "execution_count": 2,
   "metadata": {},
   "outputs": [
    {
     "data": {
      "text/html": [
       "<div>\n",
       "<style scoped>\n",
       "    .dataframe tbody tr th:only-of-type {\n",
       "        vertical-align: middle;\n",
       "    }\n",
       "\n",
       "    .dataframe tbody tr th {\n",
       "        vertical-align: top;\n",
       "    }\n",
       "\n",
       "    .dataframe thead th {\n",
       "        text-align: right;\n",
       "    }\n",
       "</style>\n",
       "<table border=\"1\" class=\"dataframe\">\n",
       "  <thead>\n",
       "    <tr style=\"text-align: right;\">\n",
       "      <th></th>\n",
       "      <th>FreeTime</th>\n",
       "      <th>StudyTime</th>\n",
       "      <th>Score</th>\n",
       "      <th>Sex</th>\n",
       "      <th>Result</th>\n",
       "    </tr>\n",
       "  </thead>\n",
       "  <tbody>\n",
       "    <tr>\n",
       "      <th>0</th>\n",
       "      <td>0.50</td>\n",
       "      <td>1.50</td>\n",
       "      <td>2.50</td>\n",
       "      <td>M</td>\n",
       "      <td>0</td>\n",
       "    </tr>\n",
       "    <tr>\n",
       "      <th>1</th>\n",
       "      <td>0.75</td>\n",
       "      <td>0.75</td>\n",
       "      <td>2.00</td>\n",
       "      <td>F</td>\n",
       "      <td>0</td>\n",
       "    </tr>\n",
       "    <tr>\n",
       "      <th>2</th>\n",
       "      <td>1.00</td>\n",
       "      <td>1.00</td>\n",
       "      <td>2.50</td>\n",
       "      <td>L</td>\n",
       "      <td>0</td>\n",
       "    </tr>\n",
       "    <tr>\n",
       "      <th>3</th>\n",
       "      <td>1.25</td>\n",
       "      <td>1.25</td>\n",
       "      <td>2.75</td>\n",
       "      <td>G</td>\n",
       "      <td>0</td>\n",
       "    </tr>\n",
       "    <tr>\n",
       "      <th>4</th>\n",
       "      <td>1.50</td>\n",
       "      <td>4.00</td>\n",
       "      <td>3.50</td>\n",
       "      <td>B</td>\n",
       "      <td>0</td>\n",
       "    </tr>\n",
       "    <tr>\n",
       "      <th>...</th>\n",
       "      <td>...</td>\n",
       "      <td>...</td>\n",
       "      <td>...</td>\n",
       "      <td>...</td>\n",
       "      <td>...</td>\n",
       "    </tr>\n",
       "    <tr>\n",
       "      <th>495</th>\n",
       "      <td>1.80</td>\n",
       "      <td>9.00</td>\n",
       "      <td>2.50</td>\n",
       "      <td>T</td>\n",
       "      <td>1</td>\n",
       "    </tr>\n",
       "    <tr>\n",
       "      <th>496</th>\n",
       "      <td>4.30</td>\n",
       "      <td>5.50</td>\n",
       "      <td>0.00</td>\n",
       "      <td>M</td>\n",
       "      <td>1</td>\n",
       "    </tr>\n",
       "    <tr>\n",
       "      <th>497</th>\n",
       "      <td>0.80</td>\n",
       "      <td>4.50</td>\n",
       "      <td>1.80</td>\n",
       "      <td>F</td>\n",
       "      <td>0</td>\n",
       "    </tr>\n",
       "    <tr>\n",
       "      <th>498</th>\n",
       "      <td>0.00</td>\n",
       "      <td>0.80</td>\n",
       "      <td>3.30</td>\n",
       "      <td>L</td>\n",
       "      <td>1</td>\n",
       "    </tr>\n",
       "    <tr>\n",
       "      <th>499</th>\n",
       "      <td>1.50</td>\n",
       "      <td>7.80</td>\n",
       "      <td>1.80</td>\n",
       "      <td>G</td>\n",
       "      <td>0</td>\n",
       "    </tr>\n",
       "  </tbody>\n",
       "</table>\n",
       "<p>500 rows × 5 columns</p>\n",
       "</div>"
      ],
      "text/plain": [
       "     FreeTime  StudyTime  Score Sex  Result\n",
       "0        0.50       1.50   2.50   M       0\n",
       "1        0.75       0.75   2.00   F       0\n",
       "2        1.00       1.00   2.50   L       0\n",
       "3        1.25       1.25   2.75   G       0\n",
       "4        1.50       4.00   3.50   B       0\n",
       "..        ...        ...    ...  ..     ...\n",
       "495      1.80       9.00   2.50   T       1\n",
       "496      4.30       5.50   0.00   M       1\n",
       "497      0.80       4.50   1.80   F       0\n",
       "498      0.00       0.80   3.30   L       1\n",
       "499      1.50       7.80   1.80   G       0\n",
       "\n",
       "[500 rows x 5 columns]"
      ]
     },
     "execution_count": 2,
     "metadata": {},
     "output_type": "execute_result"
    }
   ],
   "source": [
    "df=pd.read_csv('data-mid-term.csv')\n",
    "df"
   ]
  },
  {
   "cell_type": "code",
   "execution_count": 3,
   "metadata": {},
   "outputs": [
    {
     "name": "stdout",
     "output_type": "stream",
     "text": [
      "Khoảng thời gian có xác suất cao nhất là từ 8.8 đến 9.200000000000001 giờ\n"
     ]
    },
    {
     "data": {
      "image/png": "[encoded data removed]",
      "text/plain": [
       "<Figure size 640x480 with 1 Axes>"
      ]
     },
     "metadata": {},
     "output_type": "display_data"
    }
   ],
   "source": [
    "plt.hist(df['StudyTime'], bins=25, edgecolor='k')\n",
    "plt.xlabel('Thời gian học (giờ)')\n",
    "plt.ylabel('Số lượng mẫu')\n",
    "plt.title('Phân phối thời gian học')\n",
    "plt.grid(True)\n",
    "\n",
    "# Xác định bin có tần suất cao nhất\n",
    "bin_counts, bin_edges, _ = plt.hist(df['StudyTime'], bins=25)\n",
    "max_bin_index = bin_counts.argmax()\n",
    "\n",
    "# Xác định khoảng thời gian tương ứng với bin có tần suất cao nhất\n",
    "start_time = bin_edges[max_bin_index]\n",
    "end_time = bin_edges[max_bin_index + 1]\n",
    "\n",
    "print(f\"Khoảng thời gian có xác suất cao nhất là từ {start_time} đến {end_time} giờ\")\n",
    "\n",
    "plt.show()\n",
    "\n"
   ]
  },
  {
   "cell_type": "code",
   "execution_count": 4,
   "metadata": {},
   "outputs": [
    {
     "data": {
      "text/html": [
       "<div>\n",
       "<style scoped>\n",
       "    .dataframe tbody tr th:only-of-type {\n",
       "        vertical-align: middle;\n",
       "    }\n",
       "\n",
       "    .dataframe tbody tr th {\n",
       "        vertical-align: top;\n",
       "    }\n",
       "\n",
       "    .dataframe thead th {\n",
       "        text-align: right;\n",
       "    }\n",
       "</style>\n",
       "<table border=\"1\" class=\"dataframe\">\n",
       "  <thead>\n",
       "    <tr style=\"text-align: right;\">\n",
       "      <th></th>\n",
       "      <th>df</th>\n",
       "      <th>sum_sq</th>\n",
       "      <th>mean_sq</th>\n",
       "      <th>F</th>\n",
       "      <th>PR(&gt;F)</th>\n",
       "    </tr>\n",
       "  </thead>\n",
       "  <tbody>\n",
       "    <tr>\n",
       "      <th>Sex</th>\n",
       "      <td>5.0</td>\n",
       "      <td>1.194853</td>\n",
       "      <td>0.238971</td>\n",
       "      <td>0.963252</td>\n",
       "      <td>0.439828</td>\n",
       "    </tr>\n",
       "    <tr>\n",
       "      <th>Residual</th>\n",
       "      <td>494.0</td>\n",
       "      <td>122.555147</td>\n",
       "      <td>0.248087</td>\n",
       "      <td>NaN</td>\n",
       "      <td>NaN</td>\n",
       "    </tr>\n",
       "  </tbody>\n",
       "</table>\n",
       "</div>"
      ],
      "text/plain": [
       "             df      sum_sq   mean_sq         F    PR(>F)\n",
       "Sex         5.0    1.194853  0.238971  0.963252  0.439828\n",
       "Residual  494.0  122.555147  0.248087       NaN       NaN"
      ]
     },
     "execution_count": 4,
     "metadata": {},
     "output_type": "execute_result"
    }
   ],
   "source": [
    "import statsmodels.api as sm\n",
    "from statsmodels.formula.api import ols\n",
    "\n",
    "model = ols('Result ~ Sex', data=df).fit()\n",
    "aov_table = sm.stats.anova_lm(model, typ=1)\n",
    "aov_table\n",
    "\n",
    "# ==> không phụ thuộc"
   ]
  },
  {
   "cell_type": "markdown",
   "metadata": {},
   "source": [
    "Câu 13\n",
    "dựa vào bảng thống kê mô tả hãy cho biết độ lớn của khoảng 50% số lượng sinh viên có giá trị điểm trung bình khóa học thông thường là bao nhiêu"
   ]
  },
  {
   "cell_type": "code",
   "execution_count": 5,
   "metadata": {},
   "outputs": [
    {
     "name": "stdout",
     "output_type": "stream",
     "text": [
      "1.5067051838438876\n",
      "2.5559000000000003\n",
      "Độ lớn của khoảng 50% số lượng sinh viên: 3.850987779386593 điểm\n"
     ]
    }
   ],
   "source": [
    "mean = df['Score'].mean() # Giá trị trung bình (Mean) của SALES trước khi chuẩn hóa\n",
    "std_dev = std_dev = df['Score'].std() # Độ lệch chuẩn (Standard Deviation) của SALES trước khi chuẩn hóa\n",
    "z_score = mean/2 # Giá trị sau khi sử dụng Z-score scaler\n",
    "print(std_dev)\n",
    "print(mean)\n",
    "range_size = 2 * z_score *std_dev  # Độ lớn của khoảng\n",
    "\n",
    "print(f\"Độ lớn của khoảng 50% số lượng sinh viên: {range_size} điểm\")"
   ]
  },
  {
   "cell_type": "markdown",
   "metadata": {},
   "source": [
    "Câu 14"
   ]
  },
  {
   "cell_type": "code",
   "execution_count": null,
   "metadata": {},
   "outputs": [],
   "source": []
  },
  {
   "cell_type": "code",
   "execution_count": 6,
   "metadata": {},
   "outputs": [
    {
     "data": {
      "image/png": "[encoded data removed]",
      "text/plain": [
       "<Figure size 640x480 with 1 Axes>"
      ]
     },
     "metadata": {},
     "output_type": "display_data"
    }
   ],
   "source": [
    "import seaborn as sns\n",
    "gb = df.groupby(['Sex'])['Sex'].agg(['count'])\n",
    "\n",
    "labels = gb.index\n",
    "data = list(gb['count'])\n",
    "\n",
    "colors = sns.color_palette('pastel')\n",
    "\n",
    "plt.pie(data, labels=labels, colors=colors,\n",
    "        autopct='%1.1f%%', shadow=True)\n",
    "\n",
    "plt.show()"
   ]
  },
  {
   "cell_type": "markdown",
   "metadata": {},
   "source": [
    "\n",
    "Dựa vào bảng thống kê mô tả hãy cho biết 75% số lượng sinh viên có giá trị điểm trung bình khóa học cao nhất là bao nhiêu"
   ]
  },
  {
   "cell_type": "code",
   "execution_count": 7,
   "metadata": {},
   "outputs": [
    {
     "name": "stdout",
     "output_type": "stream",
     "text": [
      "Giá trị điểm trung bình cao nhất cho 75% số lượng sinh viên: 3.5721572030700055\n"
     ]
    }
   ],
   "source": [
    "import scipy.stats as stats\n",
    "\n",
    "# Giá trị phân vị (percentile) 75%\n",
    "percentile = 0.75\n",
    "\n",
    "# Tính giá trị Z-score tương ứng với phân vị 75%\n",
    "z_score = stats.norm.ppf(percentile)\n",
    "\n",
    "# Giá trị trung bình và độ lệch chuẩn từ bảng thống kê mô tả\n",
    "mean = df['Score'].mean() # Giá trị trung bình (Mean) của SALES trước khi chuẩn hóa\n",
    "std_dev = std_dev = df['Score'].std() # Độ lệch chuẩn (Standard Deviation) của SALES trước khi chuẩn hóa\n",
    "\n",
    "# Tính giá trị điểm trung bình tương ứng với phân vị 75%\n",
    "value = z_score * std_dev + mean\n",
    "\n",
    "print(f\"Giá trị điểm trung bình cao nhất cho 75% số lượng sinh viên: {value}\")\n"
   ]
  },
  {
   "cell_type": "code",
   "execution_count": 8,
   "metadata": {},
   "outputs": [
    {
     "name": "stdout",
     "output_type": "stream",
     "text": [
      "R-squared: 0.21%\n"
     ]
    }
   ],
   "source": [
    "import statsmodels.api as sm\n",
    "import numpy as np\n",
    "\n",
    "# Dữ liệu về thời gian dành cho việc riêng và thời gian dành cho việc học\n",
    "freetime=df['FreeTime']\n",
    "StudyTime=df['StudyTime']\n",
    "Score=df['Score']\n",
    "# Thêm cột hằng số cho mô hình\n",
    "X = sm.add_constant(np.column_stack((freetime, StudyTime)))\n",
    "\n",
    "# Tạo mô hình hồi quy tuyến tính OLS\n",
    "model = sm.OLS(Score, X).fit()\n",
    "\n",
    "# Lấy thông tin về R-squared\n",
    "rsquared = model.rsquared\n",
    "\n",
    "# In kết quả\n",
    "print(f\"R-squared: {rsquared * 100:.2f}%\")"
   ]
  },
  {
   "cell_type": "code",
   "execution_count": 9,
   "metadata": {},
   "outputs": [
    {
     "name": "stdout",
     "output_type": "stream",
     "text": [
      "                       df       sum_sq    mean_sq         F    PR(>F)\n",
      "FreeTime              1.0     2.137750   2.137750  0.951710  0.329760\n",
      "StudyTime             1.0     0.252584   0.252584  0.112448  0.737516\n",
      "FreeTime:StudyTime    1.0    16.294400  16.294400  7.254141  0.007313\n",
      "Residual            496.0  1114.125361   2.246220       NaN       NaN\n"
     ]
    }
   ],
   "source": [
    "# Hãy cho biết điểm LOGIC có phụ thuộc vào loại GT trên từng nhóm KV hay không\n",
    "model = ols('Score ~ FreeTime + StudyTime + FreeTime:StudyTime',data=df).fit()\n",
    "result = sm.stats.anova_lm(model, type=2)\n",
    " \n",
    "# Print the result\n",
    "print(result)\n",
    "\n",
    "# Logiv -> GT => p-value = 0.052 => accept H0 ->không phụ thuộc\n",
    "# Logiv -> KV => p-value = 0.019 => reject H0 ->phụ thuộc\n",
    "# Logiv -> GT:KV => p-value = 0.577 => accept H0 ->không phụ thuộc"
   ]
  },
  {
   "cell_type": "code",
   "execution_count": 10,
   "metadata": {},
   "outputs": [
    {
     "name": "stdout",
     "output_type": "stream",
     "text": [
      "Sex  Result\n",
      "B    0         2.280000\n",
      "     1         2.550000\n",
      "F    0         2.617778\n",
      "     1         2.675000\n",
      "G    0         2.246250\n",
      "     1         2.580000\n",
      "L    0         2.820000\n",
      "     1         2.595556\n",
      "M    0         2.754286\n",
      "     1         2.753000\n",
      "T    0         2.521667\n",
      "     1         2.267000\n",
      "Name: Score, dtype: float64\n"
     ]
    }
   ],
   "source": [
    "average_time_by_sexual_orientation = df.groupby(['Sex','Result'])['Score'].mean()\n",
    "print(average_time_by_sexual_orientation)\n"
   ]
  },
  {
   "cell_type": "code",
   "execution_count": 11,
   "metadata": {},
   "outputs": [
    {
     "name": "stdout",
     "output_type": "stream",
     "text": [
      "Sex\n",
      "F    2.644706\n",
      "L    2.701176\n",
      "M    2.753529\n",
      "Name: Score, dtype: float64\n"
     ]
    }
   ],
   "source": [
    "average_all_students = df['Score'].mean()\n",
    "\n",
    "# Sử dụng groupby để tính điểm trung bình cho từng nhóm xu hướng tình dục\n",
    "average_by_sexual_orientation = df.groupby('Sex')['Score'].mean()\n",
    "\n",
    "# So sánh điểm trung bình của từng nhóm với điểm trung bình của tất cả sinh viên\n",
    "groups_higher_than_average = average_by_sexual_orientation[average_by_sexual_orientation > average_all_students]\n",
    "\n",
    "# In ra những nhóm có điểm trung bình cao hơn\n",
    "print(groups_higher_than_average)"
   ]
  },
  {
   "cell_type": "code",
   "execution_count": 12,
   "metadata": {},
   "outputs": [
    {
     "data": {
      "text/plain": [
       "(500, 5)"
      ]
     },
     "execution_count": 12,
     "metadata": {},
     "output_type": "execute_result"
    }
   ],
   "source": [
    "df.shape"
   ]
  },
  {
   "cell_type": "code",
   "execution_count": 13,
   "metadata": {},
   "outputs": [
    {
     "name": "stdout",
     "output_type": "stream",
     "text": [
      "             df       sum_sq   mean_sq        F    PR(>F)\n",
      "Sex         5.0    11.509670  2.301934  1.01414  0.408585\n",
      "Residual  494.0  1121.300425  2.269839      NaN       NaN\n"
     ]
    }
   ],
   "source": [
    "import statsmodels.api as sm\n",
    "from statsmodels.formula.api import ols\n",
    "\n",
    "model = ols ('Score ~ Sex', data=df).fit()\n",
    "result = sm.stats.anova_lm(model, type = 2)\n",
    "\n",
    "print(result)\n",
    "# ==> không phụ thuộc độc lập"
   ]
  },
  {
   "cell_type": "code",
   "execution_count": null,
   "metadata": {},
   "outputs": [],
   "source": []
  },
  {
   "cell_type": "code",
   "execution_count": 14,
   "metadata": {},
   "outputs": [
    {
     "name": "stdout",
     "output_type": "stream",
     "text": [
      "Số lượng sinh viên đạt điểm cao nhất: FreeTime     26\n",
      "StudyTime    26\n",
      "Score        26\n",
      "Sex          26\n",
      "Result       26\n",
      "dtype: int64\n"
     ]
    }
   ],
   "source": [
    "#22 đếm sinh viên điêm cao nhất\n",
    "highest_score = df['Score'].max()\n",
    "\n",
    "# Đếm số lượng sinh viên có điểm bằng điểm cao nhất\n",
    "num_students_highest_score = df[df['Score'] == highest_score].count()\n",
    "\n",
    "print(\"Số lượng sinh viên đạt điểm cao nhất:\", num_students_highest_score)"
   ]
  },
  {
   "cell_type": "code",
   "execution_count": 15,
   "metadata": {},
   "outputs": [
    {
     "name": "stdout",
     "output_type": "stream",
     "text": [
      "                       df       sum_sq    mean_sq         F    PR(>F)\n",
      "FreeTime              1.0     2.137750   2.137750  0.951710  0.329760\n",
      "StudyTime             1.0     0.252584   0.252584  0.112448  0.737516\n",
      "FreeTime:StudyTime    1.0    16.294400  16.294400  7.254141  0.007313\n",
      "Residual            496.0  1114.125361   2.246220       NaN       NaN\n"
     ]
    }
   ],
   "source": [
    "model = ols('Score ~ FreeTime + StudyTime + FreeTime:StudyTime',data=df).fit()\n",
    "result = sm.stats.anova_lm(model, type=2)\n",
    " \n",
    "# Print the result\n",
    "print(result)\n",
    "\n",
    "# ==> tương quan"
   ]
  },
  {
   "cell_type": "code",
   "execution_count": null,
   "metadata": {},
   "outputs": [],
   "source": [
    "# so sánh kurtosis"
   ]
  },
  {
   "cell_type": "code",
   "execution_count": 16,
   "metadata": {},
   "outputs": [
    {
     "data": {
      "text/plain": [
       "StudyTime   -1.179135\n",
       "dtype: float64"
      ]
     },
     "execution_count": 16,
     "metadata": {},
     "output_type": "execute_result"
    }
   ],
   "source": [
    "df[['StudyTime']].kurtosis()\n"
   ]
  },
  {
   "cell_type": "code",
   "execution_count": 19,
   "metadata": {},
   "outputs": [
    {
     "name": "stderr",
     "output_type": "stream",
     "text": [
      "c:\\Users\\hungl\\AppData\\Local\\Programs\\Python\\Python311\\Lib\\site-packages\\seaborn\\_oldcore.py:1498: FutureWarning: is_categorical_dtype is deprecated and will be removed in a future version. Use isinstance(dtype, CategoricalDtype) instead\n",
      "  if pd.api.types.is_categorical_dtype(vector):\n",
      "c:\\Users\\hungl\\AppData\\Local\\Programs\\Python\\Python311\\Lib\\site-packages\\seaborn\\_oldcore.py:1498: FutureWarning: is_categorical_dtype is deprecated and will be removed in a future version. Use isinstance(dtype, CategoricalDtype) instead\n",
      "  if pd.api.types.is_categorical_dtype(vector):\n",
      "c:\\Users\\hungl\\AppData\\Local\\Programs\\Python\\Python311\\Lib\\site-packages\\seaborn\\_oldcore.py:1498: FutureWarning: is_categorical_dtype is deprecated and will be removed in a future version. Use isinstance(dtype, CategoricalDtype) instead\n",
      "  if pd.api.types.is_categorical_dtype(vector):\n",
      "c:\\Users\\hungl\\AppData\\Local\\Programs\\Python\\Python311\\Lib\\site-packages\\seaborn\\_oldcore.py:1498: FutureWarning: is_categorical_dtype is deprecated and will be removed in a future version. Use isinstance(dtype, CategoricalDtype) instead\n",
      "  if pd.api.types.is_categorical_dtype(vector):\n",
      "c:\\Users\\hungl\\AppData\\Local\\Programs\\Python\\Python311\\Lib\\site-packages\\seaborn\\_oldcore.py:1498: FutureWarning: is_categorical_dtype is deprecated and will be removed in a future version. Use isinstance(dtype, CategoricalDtype) instead\n",
      "  if pd.api.types.is_categorical_dtype(vector):\n",
      "c:\\Users\\hungl\\AppData\\Local\\Programs\\Python\\Python311\\Lib\\site-packages\\seaborn\\_oldcore.py:1119: FutureWarning: use_inf_as_na option is deprecated and will be removed in a future version. Convert inf values to NaN before operating instead.\n",
      "  with pd.option_context('mode.use_inf_as_na', True):\n"
     ]
    },
    {
     "data": {
      "image/png": "[encoded data removed]",
      "text/plain": [
       "<Figure size 624.125x500 with 1 Axes>"
      ]
     },
     "metadata": {},
     "output_type": "display_data"
    }
   ],
   "source": [
    "sns.displot(data=df[['StudyTime']],kind='kde')\n",
    "plt.show()"
   ]
  },
  {
   "cell_type": "code",
   "execution_count": 25,
   "metadata": {},
   "outputs": [
    {
     "name": "stdout",
     "output_type": "stream",
     "text": [
      "Khoảng dữ liệu nghi ngờ bất thường (Suspicious Outlier Range):\n",
      "Giá trị dưới ngưỡng: -2.750000000000001\n",
      "Giá trị trên ngưỡng: 8.05\n",
      "1.3\n",
      "4.0\n"
     ]
    }
   ],
   "source": [
    "#khoảng nghi ngờ\n",
    "data=df['Score']\n",
    "Q1 = np.percentile(data, 25)\n",
    "Q3 = np.percentile(data, 75)\n",
    "IQR = Q3 - Q1\n",
    "\n",
    "# Xác định khoảng dữ liệu nghi ngờ bất thường\n",
    "lower_threshold = Q1 - 1.5 * IQR\n",
    "upper_threshold = Q3 + 1.5 * IQR\n",
    "\n",
    "print(\"Khoảng dữ liệu nghi ngờ bất thường (Suspicious Outlier Range):\")\n",
    "print(f\"Giá trị dưới ngưỡng: {lower_threshold}\")\n",
    "print(f\"Giá trị trên ngưỡng: {upper_threshold}\")\n",
    "\n",
    "\n",
    "\n",
    "\n"
   ]
  },
  {
   "cell_type": "code",
   "execution_count": 26,
   "metadata": {},
   "outputs": [
    {
     "name": "stdout",
     "output_type": "stream",
     "text": [
      "lower bound =  -2.750000000000001\n",
      "upper bound =  8.05\n",
      "IQR 2.7\n",
      "ngoai bien dưới -2.4250000000000007\n",
      "ngoai bien tren 10.675\n"
     ]
    },
    {
     "data": {
      "image/png": "[encoded data removed]",
      "text/plain": [
       "<Figure size 640x480 with 1 Axes>"
      ]
     },
     "metadata": {},
     "output_type": "display_data"
    }
   ],
   "source": [
    "sns.boxplot(data=df['Score'],orient=\"h\")\n",
    "print('lower bound = ', df['Score'].quantile(0.25) - 1.5*(df['Score'].quantile(0.75) -\n",
    "df['Score'].quantile(0.25)))\n",
    "print('upper bound = ', df['Score'].quantile(0.75) + 1.5*(df['Score'].quantile(0.75) -\n",
    "df['Score'].quantile(0.25)))\n",
    "IQR = df['Score'].quantile(0.75) - df['Score'].quantile(0.25)\n",
    "print('IQR',IQR)\n",
    "print('ngoai bien dưới', 1.625 -1.5*IQR)\n",
    "print('ngoai bien tren', 6.625 +1.5*IQR)\n"
   ]
  },
  {
   "cell_type": "code",
   "execution_count": 33,
   "metadata": {},
   "outputs": [
    {
     "name": "stdout",
     "output_type": "stream",
     "text": [
      "Hệ số góc (slope) cho ThoiGianNghi: -0.02130679484671954\n",
      "Hệ số góc (slope) cho ThoiGianHoc: -0.007618853646361461\n",
      "Hệ số giao (intercept): 2.7059652695340413\n"
     ]
    }
   ],
   "source": [
    "# mô hình hồi quy tuyến tính\n",
    "from sklearn import linear_model\n",
    "data=df[['FreeTime','StudyTime','Score']]\n",
    "df = pd.DataFrame(data)\n",
    "\n",
    "# Tạo mô hình hồi quy tuyến tính\n",
    "model = LinearRegression()\n",
    "\n",
    "# Xác định biến độc lập và biến phụ thuộc\n",
    "X = df[['FreeTime', 'StudyTime']]\n",
    "y = df['Score']\n",
    "\n",
    "# Khớp mô hình với dữ liệu\n",
    "model.fit(X, y)\n",
    "\n",
    "# In ra các tham số hồi quy\n",
    "print(\"Hệ số góc (slope) cho ThoiGianNghi:\", model.coef_[0])\n",
    "print(\"Hệ số góc (slope) cho ThoiGianHoc:\", model.coef_[1])\n",
    "print(\"Hệ số giao (intercept):\", model.intercept_)"
   ]
  },
  {
   "cell_type": "code",
   "execution_count": 34,
   "metadata": {},
   "outputs": [
    {
     "data": {
      "text/plain": [
       "2.518723437375197"
      ]
     },
     "execution_count": 34,
     "metadata": {},
     "output_type": "execute_result"
    }
   ],
   "source": [
    "tong=-0.02130679484671954*7-0.007618853646361461*5+2.7059652695340413\n",
    "tong\n"
   ]
  },
  {
   "cell_type": "code",
   "execution_count": 35,
   "metadata": {},
   "outputs": [
    {
     "name": "stdout",
     "output_type": "stream",
     "text": [
      "The Pearson Correlation Coefficient is -0.01803162411355623  with a P-value of P = 0.687519978776968\n"
     ]
    }
   ],
   "source": [
    "#bằng chứng \n",
    "pearson_coef, p_value = stats.pearsonr(df['StudyTime'], df['Score'])\n",
    "print(\"The Pearson Correlation Coefficient is\", pearson_coef, \" with a P-value of P =\", p_value)  "
   ]
  },
  {
   "cell_type": "code",
   "execution_count": null,
   "metadata": {},
   "outputs": [],
   "source": [
    "\n",
    "# <ul>\n",
    "#     <li>giá trị p là $<$ 0,001: chúng tôi cho rằng có bằng chứng chắc chắn rằng mối tương quan là đáng kể.</li>\n",
    "#     <li>giá trị p là $<$ 0,05: có bằng chứng vừa phải cho thấy mối tương quan là đáng kể.</li>\n",
    "#     <li>giá trị p là $<$ 0,1: có bằng chứng yếu cho thấy mối tương quan là đáng kể.</li>\n",
    "#     <li>giá trị p là $>$ 0,1: không có bằng chứng nào cho thấy mối tương quan là đáng kể.</li>\n",
    "# </ul>"
   ]
  }
 ],
 "metadata": {
  "kernelspec": {
   "display_name": "Python 3",
   "language": "python",
   "name": "python3"
  },
  "language_info": {
   "codemirror_mode": {
    "name": "ipython",
    "version": 3
   },
   "file_extension": ".py",
   "mimetype": "text/x-python",
   "name": "python",
   "nbconvert_exporter": "python",
   "pygments_lexer": "ipython3",
   "version": "3.11.5"
  }
 },
 "nbformat": 4,
 "nbformat_minor": 2
}
