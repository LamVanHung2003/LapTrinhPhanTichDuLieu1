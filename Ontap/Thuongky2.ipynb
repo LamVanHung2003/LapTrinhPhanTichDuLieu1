{
 "cells": [
  {
   "cell_type": "code",
   "execution_count": 1,
   "metadata": {},
   "outputs": [],
   "source": [
    "import pandas as pd\n",
    "df = pd.read_csv('./boston.csv')"
   ]
  },
  {
   "cell_type": "code",
   "execution_count": null,
   "metadata": {},
   "outputs": [],
   "source": []
  },
  {
   "cell_type": "code",
   "execution_count": 2,
   "metadata": {},
   "outputs": [],
   "source": [
    "# Tập dử liệu Input (đặc trưng) và Output (mục tiêu)\n",
    "x = df[['AGE', 'LSTAT']].values # input\n",
    "y = df[['MEDV']].values  # output"
   ]
  },
  {
   "cell_type": "code",
   "execution_count": null,
   "metadata": {},
   "outputs": [],
   "source": []
  },
  {
   "cell_type": "code",
   "execution_count": 3,
   "metadata": {},
   "outputs": [],
   "source": [
    "# chia tách ra training (huấn luyện) và testing (kiểm thử)\n",
    "from sklearn.model_selection import train_test_split\n",
    "x_train, x_test, y_train, y_test = train_test_split(x, y, test_size=0.25, random_state=16)"
   ]
  },
  {
   "cell_type": "code",
   "execution_count": 4,
   "metadata": {},
   "outputs": [
    {
     "data": {
      "text/html": [
       "<style>#sk-container-id-1 {color: black;}#sk-container-id-1 pre{padding: 0;}#sk-container-id-1 div.sk-toggleable {background-color: white;}#sk-container-id-1 label.sk-toggleable__label {cursor: pointer;display: block;width: 100%;margin-bottom: 0;padding: 0.3em;box-sizing: border-box;text-align: center;}#sk-container-id-1 label.sk-toggleable__label-arrow:before {content: \"▸\";float: left;margin-right: 0.25em;color: #696969;}#sk-container-id-1 label.sk-toggleable__label-arrow:hover:before {color: black;}#sk-container-id-1 div.sk-estimator:hover label.sk-toggleable__label-arrow:before {color: black;}#sk-container-id-1 div.sk-toggleable__content {max-height: 0;max-width: 0;overflow: hidden;text-align: left;background-color: #f0f8ff;}#sk-container-id-1 div.sk-toggleable__content pre {margin: 0.2em;color: black;border-radius: 0.25em;background-color: #f0f8ff;}#sk-container-id-1 input.sk-toggleable__control:checked~div.sk-toggleable__content {max-height: 200px;max-width: 100%;overflow: auto;}#sk-container-id-1 input.sk-toggleable__control:checked~label.sk-toggleable__label-arrow:before {content: \"▾\";}#sk-container-id-1 div.sk-estimator input.sk-toggleable__control:checked~label.sk-toggleable__label {background-color: #d4ebff;}#sk-container-id-1 div.sk-label input.sk-toggleable__control:checked~label.sk-toggleable__label {background-color: #d4ebff;}#sk-container-id-1 input.sk-hidden--visually {border: 0;clip: rect(1px 1px 1px 1px);clip: rect(1px, 1px, 1px, 1px);height: 1px;margin: -1px;overflow: hidden;padding: 0;position: absolute;width: 1px;}#sk-container-id-1 div.sk-estimator {font-family: monospace;background-color: #f0f8ff;border: 1px dotted black;border-radius: 0.25em;box-sizing: border-box;margin-bottom: 0.5em;}#sk-container-id-1 div.sk-estimator:hover {background-color: #d4ebff;}#sk-container-id-1 div.sk-parallel-item::after {content: \"\";width: 100%;border-bottom: 1px solid gray;flex-grow: 1;}#sk-container-id-1 div.sk-label:hover label.sk-toggleable__label {background-color: #d4ebff;}#sk-container-id-1 div.sk-serial::before {content: \"\";position: absolute;border-left: 1px solid gray;box-sizing: border-box;top: 0;bottom: 0;left: 50%;z-index: 0;}#sk-container-id-1 div.sk-serial {display: flex;flex-direction: column;align-items: center;background-color: white;padding-right: 0.2em;padding-left: 0.2em;position: relative;}#sk-container-id-1 div.sk-item {position: relative;z-index: 1;}#sk-container-id-1 div.sk-parallel {display: flex;align-items: stretch;justify-content: center;background-color: white;position: relative;}#sk-container-id-1 div.sk-item::before, #sk-container-id-1 div.sk-parallel-item::before {content: \"\";position: absolute;border-left: 1px solid gray;box-sizing: border-box;top: 0;bottom: 0;left: 50%;z-index: -1;}#sk-container-id-1 div.sk-parallel-item {display: flex;flex-direction: column;z-index: 1;position: relative;background-color: white;}#sk-container-id-1 div.sk-parallel-item:first-child::after {align-self: flex-end;width: 50%;}#sk-container-id-1 div.sk-parallel-item:last-child::after {align-self: flex-start;width: 50%;}#sk-container-id-1 div.sk-parallel-item:only-child::after {width: 0;}#sk-container-id-1 div.sk-dashed-wrapped {border: 1px dashed gray;margin: 0 0.4em 0.5em 0.4em;box-sizing: border-box;padding-bottom: 0.4em;background-color: white;}#sk-container-id-1 div.sk-label label {font-family: monospace;font-weight: bold;display: inline-block;line-height: 1.2em;}#sk-container-id-1 div.sk-label-container {text-align: center;}#sk-container-id-1 div.sk-container {/* jupyter's `normalize.less` sets `[hidden] { display: none; }` but bootstrap.min.css set `[hidden] { display: none !important; }` so we also need the `!important` here to be able to override the default hidden behavior on the sphinx rendered scikit-learn.org. See: https://github.com/scikit-learn/scikit-learn/issues/21755 */display: inline-block !important;position: relative;}#sk-container-id-1 div.sk-text-repr-fallback {display: none;}</style><div id=\"sk-container-id-1\" class=\"sk-top-container\"><div class=\"sk-text-repr-fallback\"><pre>LinearRegression()</pre><b>In a Jupyter environment, please rerun this cell to show the HTML representation or trust the notebook. <br />On GitHub, the HTML representation is unable to render, please try loading this page with nbviewer.org.</b></div><div class=\"sk-container\" hidden><div class=\"sk-item\"><div class=\"sk-estimator sk-toggleable\"><input class=\"sk-toggleable__control sk-hidden--visually\" id=\"sk-estimator-id-1\" type=\"checkbox\" checked><label for=\"sk-estimator-id-1\" class=\"sk-toggleable__label sk-toggleable__label-arrow\">LinearRegression</label><div class=\"sk-toggleable__content\"><pre>LinearRegression()</pre></div></div></div></div></div>"
      ],
      "text/plain": [
       "LinearRegression()"
      ]
     },
     "execution_count": 4,
     "metadata": {},
     "output_type": "execute_result"
    }
   ],
   "source": [
    "from sklearn.preprocessing import MinMaxScaler\n",
    "from sklearn.linear_model import LinearRegression\n",
    "from sklearn.model_selection import train_test_split\n",
    "from sklearn.preprocessing import StandardScaler\n",
    "from sklearn.preprocessing import FunctionTransformer\n",
    "from sklearn.preprocessing import PolynomialFeatures\n",
    "import numpy as np\n",
    "import math \n",
    "def silu(x):\n",
    "    return x / (1 + np.exp(-x))\n",
    "\n",
    "x_train = silu(x_train)\n",
    "x_test = silu(x_test)\n",
    "# Tạo và huấn luyện MinMaxScaler\n",
    "scaler = PolynomialFeatures(degree=2)\n",
    "x_train_scaled = scaler.fit_transform(x_train)\n",
    "# Tạo và huấn luyện mô hình Linear Regression trên dữ liệu đã được chuẩn hóa\n",
    "regressor = LinearRegression()\n",
    "regressor.fit(x_train_scaled, y_train)\n"
   ]
  },
  {
   "cell_type": "code",
   "execution_count": 5,
   "metadata": {},
   "outputs": [
    {
     "name": "stdout",
     "output_type": "stream",
     "text": [
      "(379, 2)\n"
     ]
    }
   ],
   "source": [
    "print(x_train.shape)\n"
   ]
  },
  {
   "cell_type": "code",
   "execution_count": 6,
   "metadata": {},
   "outputs": [
    {
     "data": {
      "text/plain": [
       "array([[1.00000000e+00, 1.00000000e+02, 2.03200000e+01, 1.00000000e+04,\n",
       "        2.03200000e+03, 4.12902399e+02],\n",
       "       [1.00000000e+00, 1.00000000e+02, 2.00800000e+01, 1.00000000e+04,\n",
       "        2.00800000e+03, 4.03206398e+02],\n",
       "       [1.00000000e+00, 4.03000000e+01, 1.04196892e+01, 1.62409000e+03,\n",
       "        4.19913474e+02, 1.08569923e+02],\n",
       "       ...,\n",
       "       [1.00000000e+00, 8.41000000e+01, 1.42699909e+01, 7.07281000e+03,\n",
       "        1.20010624e+03, 2.03632641e+02],\n",
       "       [1.00000000e+00, 1.84999998e+01, 6.34902022e+00, 3.42249994e+02,\n",
       "        1.17456873e+02, 4.03100577e+01],\n",
       "       [1.00000000e+00, 9.52000000e+01, 1.13198627e+01, 9.06304000e+03,\n",
       "        1.07765093e+03, 1.28139292e+02]])"
      ]
     },
     "execution_count": 6,
     "metadata": {},
     "output_type": "execute_result"
    }
   ],
   "source": [
    "# Dòng đầu tiên sau khi tiến hành chuẩn hóa dử liệu trên tập dử liệu đầu vào cho tập train\n",
    "x_train_scaled"
   ]
  },
  {
   "cell_type": "code",
   "execution_count": 7,
   "metadata": {},
   "outputs": [
    {
     "name": "stdout",
     "output_type": "stream",
     "text": [
      "[37.72824962]\n"
     ]
    }
   ],
   "source": [
    "# Hệ số tự do\n",
    "print(regressor.intercept_)"
   ]
  },
  {
   "cell_type": "code",
   "execution_count": 8,
   "metadata": {},
   "outputs": [
    {
     "data": {
      "text/plain": [
       "array([7.2])"
      ]
     },
     "execution_count": 8,
     "metadata": {},
     "output_type": "execute_result"
    }
   ],
   "source": [
    "# Dòng đầu tiên trên dử liệu đầu ra trên tập dữ liệu train\n",
    "y_train[0]"
   ]
  },
  {
   "cell_type": "code",
   "execution_count": 9,
   "metadata": {},
   "outputs": [
    {
     "name": "stdout",
     "output_type": "stream",
     "text": [
      "[[ 0.00000000e+00  8.86410682e-02 -2.19456503e+00  7.47947773e-04\n",
      "  -1.09823172e-02  6.23890608e-02]]\n"
     ]
    }
   ],
   "source": [
    "# Hệ số gốc\n",
    "print(regressor.coef_)"
   ]
  },
  {
   "cell_type": "code",
   "execution_count": 13,
   "metadata": {},
   "outputs": [
    {
     "data": {
      "text/html": [
       "<style>#sk-container-id-2 {color: black;}#sk-container-id-2 pre{padding: 0;}#sk-container-id-2 div.sk-toggleable {background-color: white;}#sk-container-id-2 label.sk-toggleable__label {cursor: pointer;display: block;width: 100%;margin-bottom: 0;padding: 0.3em;box-sizing: border-box;text-align: center;}#sk-container-id-2 label.sk-toggleable__label-arrow:before {content: \"▸\";float: left;margin-right: 0.25em;color: #696969;}#sk-container-id-2 label.sk-toggleable__label-arrow:hover:before {color: black;}#sk-container-id-2 div.sk-estimator:hover label.sk-toggleable__label-arrow:before {color: black;}#sk-container-id-2 div.sk-toggleable__content {max-height: 0;max-width: 0;overflow: hidden;text-align: left;background-color: #f0f8ff;}#sk-container-id-2 div.sk-toggleable__content pre {margin: 0.2em;color: black;border-radius: 0.25em;background-color: #f0f8ff;}#sk-container-id-2 input.sk-toggleable__control:checked~div.sk-toggleable__content {max-height: 200px;max-width: 100%;overflow: auto;}#sk-container-id-2 input.sk-toggleable__control:checked~label.sk-toggleable__label-arrow:before {content: \"▾\";}#sk-container-id-2 div.sk-estimator input.sk-toggleable__control:checked~label.sk-toggleable__label {background-color: #d4ebff;}#sk-container-id-2 div.sk-label input.sk-toggleable__control:checked~label.sk-toggleable__label {background-color: #d4ebff;}#sk-container-id-2 input.sk-hidden--visually {border: 0;clip: rect(1px 1px 1px 1px);clip: rect(1px, 1px, 1px, 1px);height: 1px;margin: -1px;overflow: hidden;padding: 0;position: absolute;width: 1px;}#sk-container-id-2 div.sk-estimator {font-family: monospace;background-color: #f0f8ff;border: 1px dotted black;border-radius: 0.25em;box-sizing: border-box;margin-bottom: 0.5em;}#sk-container-id-2 div.sk-estimator:hover {background-color: #d4ebff;}#sk-container-id-2 div.sk-parallel-item::after {content: \"\";width: 100%;border-bottom: 1px solid gray;flex-grow: 1;}#sk-container-id-2 div.sk-label:hover label.sk-toggleable__label {background-color: #d4ebff;}#sk-container-id-2 div.sk-serial::before {content: \"\";position: absolute;border-left: 1px solid gray;box-sizing: border-box;top: 0;bottom: 0;left: 50%;z-index: 0;}#sk-container-id-2 div.sk-serial {display: flex;flex-direction: column;align-items: center;background-color: white;padding-right: 0.2em;padding-left: 0.2em;position: relative;}#sk-container-id-2 div.sk-item {position: relative;z-index: 1;}#sk-container-id-2 div.sk-parallel {display: flex;align-items: stretch;justify-content: center;background-color: white;position: relative;}#sk-container-id-2 div.sk-item::before, #sk-container-id-2 div.sk-parallel-item::before {content: \"\";position: absolute;border-left: 1px solid gray;box-sizing: border-box;top: 0;bottom: 0;left: 50%;z-index: -1;}#sk-container-id-2 div.sk-parallel-item {display: flex;flex-direction: column;z-index: 1;position: relative;background-color: white;}#sk-container-id-2 div.sk-parallel-item:first-child::after {align-self: flex-end;width: 50%;}#sk-container-id-2 div.sk-parallel-item:last-child::after {align-self: flex-start;width: 50%;}#sk-container-id-2 div.sk-parallel-item:only-child::after {width: 0;}#sk-container-id-2 div.sk-dashed-wrapped {border: 1px dashed gray;margin: 0 0.4em 0.5em 0.4em;box-sizing: border-box;padding-bottom: 0.4em;background-color: white;}#sk-container-id-2 div.sk-label label {font-family: monospace;font-weight: bold;display: inline-block;line-height: 1.2em;}#sk-container-id-2 div.sk-label-container {text-align: center;}#sk-container-id-2 div.sk-container {/* jupyter's `normalize.less` sets `[hidden] { display: none; }` but bootstrap.min.css set `[hidden] { display: none !important; }` so we also need the `!important` here to be able to override the default hidden behavior on the sphinx rendered scikit-learn.org. See: https://github.com/scikit-learn/scikit-learn/issues/21755 */display: inline-block !important;position: relative;}#sk-container-id-2 div.sk-text-repr-fallback {display: none;}</style><div id=\"sk-container-id-2\" class=\"sk-top-container\"><div class=\"sk-text-repr-fallback\"><pre>PolynomialFeatures()</pre><b>In a Jupyter environment, please rerun this cell to show the HTML representation or trust the notebook. <br />On GitHub, the HTML representation is unable to render, please try loading this page with nbviewer.org.</b></div><div class=\"sk-container\" hidden><div class=\"sk-item\"><div class=\"sk-estimator sk-toggleable\"><input class=\"sk-toggleable__control sk-hidden--visually\" id=\"sk-estimator-id-2\" type=\"checkbox\" checked><label for=\"sk-estimator-id-2\" class=\"sk-toggleable__label sk-toggleable__label-arrow\">PolynomialFeatures</label><div class=\"sk-toggleable__content\"><pre>PolynomialFeatures()</pre></div></div></div></div></div>"
      ],
      "text/plain": [
       "PolynomialFeatures()"
      ]
     },
     "execution_count": 13,
     "metadata": {},
     "output_type": "execute_result"
    }
   ],
   "source": []
  },
  {
   "cell_type": "code",
   "execution_count": 10,
   "metadata": {},
   "outputs": [
    {
     "name": "stdout",
     "output_type": "stream",
     "text": [
      "Score or R-Squared:  0.6957632695289517\n",
      "Root Mean Squared Error:  4.428017053433868\n",
      "Mean Absolute Percentage Error:  0.18515312729577654\n"
     ]
    }
   ],
   "source": [
    "import numpy as np\n",
    "from sklearn import metrics\n",
    " \n",
    "scaler.fit(x_test)\n",
    "\n",
    "# Biến đổi dữ liệu kiểm thử\n",
    "x_test_scaled = scaler.transform(x_test)\n",
    "\n",
    "y_test_pred = regressor.predict(x_test_scaled)\n",
    "\n",
    "print('Score or R-Squared: ', regressor.score(x_test_scaled, y_test))\n",
    "\n",
    "# print('Mean Absolute Error: ', metrics.mean_absolute_error(y_test, y_test_pred))\n",
    "# print('Mean Squared Error:     ', metrics.mean_squared_error(y_test, y_test_pred))\n",
    "print('Root Mean Squared Error: ', np.sqrt(metrics.mean_squared_error(y_test, y_test_pred)))\n",
    "print('Mean Absolute Percentage Error: ', metrics.mean_absolute_percentage_error(y_test, y_test_pred))"
   ]
  },
  {
   "cell_type": "code",
   "execution_count": 15,
   "metadata": {},
   "outputs": [
    {
     "data": {
      "text/plain": [
       "array([[33.15607485],\n",
       "       [11.50037292],\n",
       "       [13.81143399],\n",
       "       [28.86222605],\n",
       "       [19.1876972 ],\n",
       "       [21.42147832],\n",
       "       [21.1911529 ],\n",
       "       [14.13118157],\n",
       "       [16.39585031],\n",
       "       [36.73296024],\n",
       "       [14.48869735],\n",
       "       [11.20474833],\n",
       "       [11.60532193],\n",
       "       [26.45342113],\n",
       "       [18.99195454],\n",
       "       [24.6016053 ],\n",
       "       [24.93039947],\n",
       "       [34.33877603],\n",
       "       [18.44389924],\n",
       "       [13.92154146],\n",
       "       [26.49770526],\n",
       "       [18.09069836],\n",
       "       [10.95550865],\n",
       "       [14.59841406],\n",
       "       [12.29175756],\n",
       "       [20.14709729],\n",
       "       [11.12441097],\n",
       "       [18.13346978],\n",
       "       [13.32362649],\n",
       "       [10.84771758],\n",
       "       [22.98234201],\n",
       "       [24.76511924],\n",
       "       [17.62252382],\n",
       "       [10.6249031 ],\n",
       "       [11.13767493],\n",
       "       [27.38539462],\n",
       "       [18.13819305],\n",
       "       [13.34993476],\n",
       "       [32.81025329],\n",
       "       [17.18264676],\n",
       "       [26.61382378],\n",
       "       [31.52069479],\n",
       "       [29.98742136],\n",
       "       [14.15362193],\n",
       "       [18.78952283],\n",
       "       [26.69213726],\n",
       "       [14.83092672],\n",
       "       [10.73655365],\n",
       "       [11.62407269],\n",
       "       [18.37853581],\n",
       "       [25.34778257],\n",
       "       [15.31670176],\n",
       "       [11.13879868],\n",
       "       [12.27400001],\n",
       "       [24.31614173],\n",
       "       [20.70092449],\n",
       "       [41.73673092],\n",
       "       [30.03709277],\n",
       "       [15.33245465],\n",
       "       [26.45104345],\n",
       "       [30.54007946],\n",
       "       [26.7715131 ],\n",
       "       [24.69985985],\n",
       "       [25.60717872],\n",
       "       [16.2479356 ],\n",
       "       [33.38794059],\n",
       "       [11.11004223],\n",
       "       [19.13887315],\n",
       "       [20.06306331],\n",
       "       [12.22802446],\n",
       "       [17.16791145],\n",
       "       [11.95011996],\n",
       "       [29.4106833 ],\n",
       "       [19.99976339],\n",
       "       [16.58206993],\n",
       "       [16.69943856],\n",
       "       [24.43425096],\n",
       "       [11.34980509],\n",
       "       [18.32691906],\n",
       "       [23.35591773],\n",
       "       [32.81910503],\n",
       "       [10.63625045],\n",
       "       [11.02614891],\n",
       "       [12.72871133],\n",
       "       [24.73633544],\n",
       "       [22.7683769 ],\n",
       "       [25.11740329],\n",
       "       [19.12080508],\n",
       "       [15.92585993],\n",
       "       [17.09155408],\n",
       "       [21.35999277],\n",
       "       [19.02935314],\n",
       "       [34.84119796],\n",
       "       [21.89932981],\n",
       "       [14.26766687],\n",
       "       [17.46043131],\n",
       "       [17.562014  ],\n",
       "       [18.42597014],\n",
       "       [22.01040658],\n",
       "       [12.15259532],\n",
       "       [18.35411129],\n",
       "       [22.33163207],\n",
       "       [14.70162715],\n",
       "       [25.94003705],\n",
       "       [23.92248994],\n",
       "       [33.81753201],\n",
       "       [33.25354736],\n",
       "       [21.22325037],\n",
       "       [17.77318269],\n",
       "       [21.06611502],\n",
       "       [30.75586767],\n",
       "       [27.78043919],\n",
       "       [24.60585852],\n",
       "       [24.61124389],\n",
       "       [16.08056786],\n",
       "       [25.83657323],\n",
       "       [23.29811198],\n",
       "       [31.31654568],\n",
       "       [32.3174374 ],\n",
       "       [18.24210765],\n",
       "       [23.2352099 ],\n",
       "       [27.40763235],\n",
       "       [15.44578991],\n",
       "       [15.93201894],\n",
       "       [37.29233539],\n",
       "       [23.34196946],\n",
       "       [34.53569223]])"
      ]
     },
     "execution_count": 15,
     "metadata": {},
     "output_type": "execute_result"
    }
   ],
   "source": [
    "y_test_pred"
   ]
  },
  {
   "cell_type": "code",
   "execution_count": 14,
   "metadata": {},
   "outputs": [
    {
     "data": {
      "text/plain": [
       "array([[1.00000000e+00, 1.00000000e+02, 7.38544026e+00, 1.00000000e+04,\n",
       "        7.38544026e+02, 5.45447278e+01],\n",
       "       [1.00000000e+00, 9.39000000e+01, 2.28800000e+01, 8.81721000e+03,\n",
       "        2.14843200e+03, 5.23494400e+02],\n",
       "       [1.00000000e+00, 7.78000000e+01, 2.99700000e+01, 6.05284000e+03,\n",
       "        2.33166600e+03, 8.98200900e+02],\n",
       "       [1.00000000e+00, 5.18000000e+01, 6.57088061e+00, 2.68324000e+03,\n",
       "        3.40371615e+02, 4.31764720e+01],\n",
       "       [1.00000000e+00, 9.84000000e+01, 1.45899933e+01, 9.68256000e+03,\n",
       "        1.43565534e+03, 2.12867904e+02],\n",
       "       [1.00000000e+00, 6.81000000e+01, 1.16498984e+01, 4.63761000e+03,\n",
       "        7.93358083e+02, 1.35720133e+02],\n",
       "       [1.00000000e+00, 9.07000000e+01, 1.28699669e+01, 8.22649000e+03,\n",
       "        1.16730600e+03, 1.65636047e+02],\n",
       "       [1.00000000e+00, 9.19000000e+01, 1.86599999e+01, 8.44561000e+03,\n",
       "        1.71485399e+03, 3.48195595e+02],\n",
       "       [1.00000000e+00, 9.93000000e+01, 1.67399991e+01, 9.86049000e+03,\n",
       "        1.66228191e+03, 2.80227570e+02],\n",
       "       [1.00000000e+00, 6.45000000e+01, 3.67444517e+00, 4.16025000e+03,\n",
       "        2.37001714e+02, 1.35015473e+01],\n",
       "       [1.00000000e+00, 8.65000000e+01, 1.81299998e+01, 7.48225000e+03,\n",
       "        1.56824498e+03, 3.28696891e+02],\n",
       "       [1.00000000e+00, 1.00000000e+02, 2.33400000e+01, 1.00000000e+04,\n",
       "        2.33400000e+03, 5.44755600e+02],\n",
       "       [1.00000000e+00, 9.41000000e+01, 2.26000000e+01, 8.85481000e+03,\n",
       "        2.12666000e+03, 5.10760000e+02],\n",
       "       [1.00000000e+00, 1.62999986e+01, 6.58095750e+00, 2.65689956e+02,\n",
       "        1.07269598e+02, 4.33090016e+01],\n",
       "       [1.00000000e+00, 1.00000000e+02, 3.79700000e+01, 1.00000000e+04,\n",
       "        3.79700000e+03, 1.44172090e+03],\n",
       "       [1.00000000e+00, 3.19000000e+01, 8.22780699e+00, 1.01761000e+03,\n",
       "        2.62467043e+02, 6.76968079e+01],\n",
       "       [1.00000000e+00, 9.79000000e+01, 1.11198353e+01, 9.58441000e+03,\n",
       "        1.08863187e+03, 1.23650737e+02],\n",
       "       [1.00000000e+00, 1.00000000e+02, 6.89305328e+00, 1.00000000e+04,\n",
       "        6.89305328e+02, 4.75141835e+01],\n",
       "       [1.00000000e+00, 4.19000000e+01, 1.33399785e+01, 1.75561000e+03,\n",
       "        5.58945101e+02, 1.77955027e+02],\n",
       "       [1.00000000e+00, 8.25000000e+01, 1.87599999e+01, 6.80625000e+03,\n",
       "        1.54769999e+03, 3.51937595e+02],\n",
       "       [1.00000000e+00, 7.67000000e+01, 9.07896571e+00, 5.88289000e+03,\n",
       "        6.96356670e+02, 8.24276184e+01],\n",
       "       [1.00000000e+00, 9.88000000e+01, 1.53899968e+01, 9.76144000e+03,\n",
       "        1.52053169e+03, 2.36852002e+02],\n",
       "       [1.00000000e+00, 9.56000000e+01, 2.72600000e+01, 9.13936000e+03,\n",
       "        2.60605600e+03, 7.43107600e+02],\n",
       "       [1.00000000e+00, 1.00000000e+02, 3.43700000e+01, 1.00000000e+04,\n",
       "        3.43700000e+03, 1.18129690e+03],\n",
       "       [1.00000000e+00, 1.00000000e+02, 2.12200000e+01, 1.00000000e+04,\n",
       "        2.12200000e+03, 4.50288399e+02],\n",
       "       [1.00000000e+00, 3.66000000e+01, 1.16899021e+01, 1.33956000e+03,\n",
       "        4.27850416e+02, 1.36653810e+02],\n",
       "       [1.00000000e+00, 9.08000000e+01, 2.57900000e+01, 8.24464000e+03,\n",
       "        2.34173200e+03, 6.65124100e+02],\n",
       "       [1.00000000e+00, 8.44000000e+01, 1.46999939e+01, 7.12336000e+03,\n",
       "        1.24067949e+03, 2.16089822e+02],\n",
       "       [1.00000000e+00, 9.43000000e+01, 1.96899999e+01, 8.89249000e+03,\n",
       "        1.85676699e+03, 3.87696098e+02],\n",
       "       [1.00000000e+00, 1.00000000e+02, 2.82800000e+01, 1.00000000e+04,\n",
       "        2.82800000e+03, 7.99758400e+02],\n",
       "       [1.00000000e+00, 4.54000000e+01, 9.73942654e+00, 2.06116000e+03,\n",
       "        4.42169965e+02, 9.48564293e+01],\n",
       "       [1.00000000e+00, 7.92000000e+01, 1.01496034e+01, 6.27264000e+03,\n",
       "        8.03848589e+02, 1.03014449e+02],\n",
       "       [1.00000000e+00, 1.00000000e+02, 3.69800000e+01, 1.00000000e+04,\n",
       "        3.69800000e+03, 1.36752040e+03],\n",
       "       [1.00000000e+00, 1.00000000e+02, 2.64500000e+01, 1.00000000e+04,\n",
       "        2.64500000e+03, 6.99602500e+02],\n",
       "       [1.00000000e+00, 9.48000000e+01, 2.39800000e+01, 8.98704000e+03,\n",
       "        2.27330400e+03, 5.75040400e+02],\n",
       "       [1.00000000e+00, 8.41000000e+01, 9.03892825e+00, 7.07281000e+03,\n",
       "        7.60173866e+02, 8.17022238e+01],\n",
       "       [1.00000000e+00, 9.50000000e+01, 1.51699961e+01, 9.02500000e+03,\n",
       "        1.44114963e+03, 2.30128781e+02],\n",
       "       [1.00000000e+00, 1.00000000e+02, 1.97799999e+01, 1.00000000e+04,\n",
       "        1.97799999e+03, 3.91248398e+02],\n",
       "       [1.00000000e+00, 1.56999976e+01, 2.97721344e+00, 2.46489925e+02,\n",
       "        4.67422439e+01, 8.86379985e+00],\n",
       "       [1.00000000e+00, 7.35000000e+01, 1.50999958e+01, 5.40225000e+03,\n",
       "        1.10984969e+03, 2.28009874e+02],\n",
       "       [1.00000000e+00, 7.89000000e+01, 9.13901950e+00, 6.22521000e+03,\n",
       "        7.21068638e+02, 8.35216774e+01],\n",
       "       [1.00000000e+00, 3.72000000e+01, 4.54386676e+00, 1.38384000e+03,\n",
       "        1.69031844e+02, 2.06467252e+01],\n",
       "       [1.00000000e+00, 1.38999872e+01, 4.39863030e+00, 1.93209645e+02,\n",
       "        6.11409050e+01, 1.93479485e+01],\n",
       "       [1.00000000e+00, 7.02000000e+01, 1.84599998e+01, 4.92804000e+03,\n",
       "        1.29589199e+03, 3.40771593e+02],\n",
       "       [1.00000000e+00, 4.21000000e+01, 1.29999706e+01, 1.77241000e+03,\n",
       "        5.47298763e+02, 1.68999236e+02],\n",
       "       [1.00000000e+00, 4.67000000e+01, 7.50588992e+00, 2.18089000e+03,\n",
       "        3.50525059e+02, 5.63383834e+01],\n",
       "       [1.00000000e+00, 9.87000000e+01, 1.81299998e+01, 9.74169000e+03,\n",
       "        1.78943098e+03, 3.28696891e+02],\n",
       "       [1.00000000e+00, 9.79000000e+01, 2.64000000e+01, 9.58441000e+03,\n",
       "        2.58456000e+03, 6.96960000e+02],\n",
       "       [1.00000000e+00, 9.57000000e+01, 2.95300000e+01, 9.15849000e+03,\n",
       "        2.82602100e+03, 8.72020900e+02],\n",
       "       [1.00000000e+00, 8.85000000e+01, 1.46899939e+01, 7.83225000e+03,\n",
       "        1.30006446e+03, 2.15795920e+02],\n",
       "       [1.00000000e+00, 1.71999994e+01, 7.33523906e+00, 2.95839980e+02,\n",
       "        1.26166108e+02, 5.38057321e+01],\n",
       "       [1.00000000e+00, 9.26000000e+01, 1.74399995e+01, 8.57476000e+03,\n",
       "        1.61494396e+03, 3.04153584e+02],\n",
       "       [1.00000000e+00, 9.36000000e+01, 2.41600000e+01, 8.76096000e+03,\n",
       "        2.26137600e+03, 5.83705600e+02],\n",
       "       [1.00000000e+00, 9.88000000e+01, 2.12400000e+01, 9.76144000e+03,\n",
       "        2.09851200e+03, 4.51137599e+02],\n",
       "       [1.00000000e+00, 9.45000000e+01, 1.12498537e+01, 8.93025000e+03,\n",
       "        1.06311117e+03, 1.26559208e+02],\n",
       "       [1.00000000e+00, 7.65000000e+01, 1.24999534e+01, 5.85225000e+03,\n",
       "        9.56246436e+02, 1.56248835e+02],\n",
       "       [1.00000000e+00, 7.33000000e+01, 2.27736906e+00, 5.37289000e+03,\n",
       "        1.66931152e+02, 5.18640983e+00],\n",
       "       [1.00000000e+00, 3.89000000e+01, 5.36552263e+00, 1.51321000e+03,\n",
       "        2.08718830e+02, 2.87888331e+01],\n",
       "       [1.00000000e+00, 9.74000000e+01, 1.75999996e+01, 9.48676000e+03,\n",
       "        1.71423996e+03, 3.09759986e+02],\n",
       "       [1.00000000e+00, 4.56000000e+01, 7.59619847e+00, 2.07936000e+03,\n",
       "        3.46386650e+02, 5.77022312e+01],\n",
       "       [1.00000000e+00, 3.22000000e+01, 4.81232729e+00, 1.03684000e+03,\n",
       "        1.54956939e+02, 2.31584939e+01],\n",
       "       [1.00000000e+00, 5.95000000e+01, 8.04743205e+00, 3.54025000e+03,\n",
       "        4.78822207e+02, 6.47611626e+01],\n",
       "       [1.00000000e+00, 6.91000000e+01, 9.66938938e+00, 4.77481000e+03,\n",
       "        6.68154806e+02, 9.34970910e+01],\n",
       "       [1.00000000e+00, 8.99000000e+01, 1.02896504e+01, 8.08201000e+03,\n",
       "        9.25039575e+02, 1.05876906e+02],\n",
       "       [1.00000000e+00, 7.17000000e+01, 1.59399981e+01, 5.14089000e+03,\n",
       "        1.14289786e+03, 2.54083539e+02],\n",
       "       [1.00000000e+00, 2.79000000e+01, 3.21492775e+00, 7.78410000e+02,\n",
       "        8.96964843e+01, 1.03357605e+01],\n",
       "       [1.00000000e+00, 1.00000000e+02, 2.36000000e+01, 1.00000000e+04,\n",
       "        2.36000000e+03, 5.56960000e+02],\n",
       "       [1.00000000e+00, 9.46000000e+01, 1.44299922e+01, 8.94916000e+03,\n",
       "        1.36507726e+03, 2.08224675e+02],\n",
       "       [1.00000000e+00, 8.74000000e+01, 1.34399804e+01, 7.63876000e+03,\n",
       "        1.17465429e+03, 1.80633074e+02],\n",
       "       [1.00000000e+00, 9.45000000e+01, 2.13200000e+01, 8.93025000e+03,\n",
       "        2.01474000e+03, 4.54542399e+02],\n",
       "       [1.00000000e+00, 5.67000000e+01, 1.47599943e+01, 3.21489000e+03,\n",
       "        8.36891675e+02, 2.17857431e+02],\n",
       "       [1.00000000e+00, 1.00000000e+02, 2.17800000e+01, 1.00000000e+04,\n",
       "        2.17800000e+03, 4.74368400e+02],\n",
       "       [1.00000000e+00, 2.01000000e+01, 4.93573049e+00, 4.04009998e+02,\n",
       "        9.92081827e+01, 2.43614355e+01],\n",
       "       [1.00000000e+00, 8.29000000e+01, 1.32699771e+01, 6.87241000e+03,\n",
       "        1.10008110e+03, 1.76092292e+02],\n",
       "       [1.00000000e+00, 9.67000000e+01, 1.64699988e+01, 9.35089000e+03,\n",
       "        1.59264889e+03, 2.71260862e+02],\n",
       "       [1.00000000e+00, 9.29000000e+01, 1.62099985e+01, 8.63041000e+03,\n",
       "        1.50590886e+03, 2.62764052e+02],\n",
       "       [1.00000000e+00, 3.73000000e+01, 8.50828606e+00, 1.39129000e+03,\n",
       "        3.17359070e+02, 7.23909317e+01],\n",
       "       [1.00000000e+00, 1.00000000e+02, 2.29800000e+01, 1.00000000e+04,\n",
       "        2.29800000e+03, 5.28080400e+02],\n",
       "       [1.00000000e+00, 9.03000000e+01, 1.48099945e+01, 8.15409000e+03,\n",
       "        1.33734251e+03, 2.19335938e+02],\n",
       "       [1.00000000e+00, 3.49000000e+01, 9.15903681e+00, 1.21801000e+03,\n",
       "        3.19650385e+02, 8.38879553e+01],\n",
       "       [1.00000000e+00, 5.84000000e+01, 5.00758217e+00, 3.41056000e+03,\n",
       "        2.92442799e+02, 2.50758792e+01],\n",
       "       [1.00000000e+00, 1.00000000e+02, 2.68200000e+01, 1.00000000e+04,\n",
       "        2.68200000e+03, 7.19312400e+02],\n",
       "       [1.00000000e+00, 9.54000000e+01, 2.43900000e+01, 9.10116000e+03,\n",
       "        2.32680600e+03, 5.94872100e+02],\n",
       "       [1.00000000e+00, 7.29000000e+01, 2.11400000e+01, 5.31441000e+03,\n",
       "        1.54110600e+03, 4.46899599e+02],\n",
       "       [1.00000000e+00, 1.84999998e+01, 7.78677742e+00, 3.42249994e+02,\n",
       "        1.44055381e+02, 6.06339026e+01],\n",
       "       [1.00000000e+00, 9.71000000e+01, 1.22699424e+01, 9.42841000e+03,\n",
       "        1.19141141e+03, 1.50551488e+02],\n",
       "       [1.00000000e+00, 9.79945660e+00, 2.95500000e+01, 9.60293497e+01,\n",
       "        2.89573943e+02, 8.73202500e+02],\n",
       "       [1.00000000e+00, 6.54000000e+01, 1.32199760e+01, 4.27716000e+03,\n",
       "        8.64586432e+02, 1.74767766e+02],\n",
       "       [1.00000000e+00, 9.88000000e+01, 1.71199994e+01, 9.76144000e+03,\n",
       "        1.69145594e+03, 2.93094378e+02],\n",
       "       [1.00000000e+00, 4.76000000e+01, 1.47999945e+01, 2.26576000e+03,\n",
       "        7.04479737e+02, 2.19039836e+02],\n",
       "       [1.00000000e+00, 7.45000000e+01, 1.19699242e+01, 5.55025000e+03,\n",
       "        8.91759354e+02, 1.43279086e+02],\n",
       "       [1.00000000e+00, 4.37000000e+01, 1.27899643e+01, 1.90969000e+03,\n",
       "        5.58921441e+02, 1.63583188e+02],\n",
       "       [1.00000000e+00, 3.19000000e+01, 2.72692473e+00, 1.01761000e+03,\n",
       "        8.69888988e+01, 7.43611847e+00],\n",
       "       [1.00000000e+00, 3.02000000e+01, 1.01295962e+01, 9.12040000e+02,\n",
       "        3.05913805e+02, 1.02608719e+02],\n",
       "       [1.00000000e+00, 8.32000000e+01, 1.83299998e+01, 6.92224000e+03,\n",
       "        1.52505598e+03, 3.35988893e+02],\n",
       "       [1.00000000e+00, 9.53000000e+01, 1.56999976e+01, 9.08209000e+03,\n",
       "        1.49620977e+03, 2.46489925e+02],\n",
       "       [1.00000000e+00, 7.98000000e+01, 1.49799953e+01, 6.36804000e+03,\n",
       "        1.19540363e+03, 2.24400260e+02],\n",
       "       [1.00000000e+00, 8.84000000e+01, 1.46499936e+01, 7.81456000e+03,\n",
       "        1.29505944e+03, 2.14622314e+02],\n",
       "       [1.00000000e+00, 2.58000000e+01, 9.96953360e+00, 6.65640000e+02,\n",
       "        2.57213967e+02, 9.93916002e+01],\n",
       "       [1.00000000e+00, 9.49000000e+01, 2.14500000e+01, 9.00601000e+03,\n",
       "        2.03560500e+03, 4.60102500e+02],\n",
       "       [1.00000000e+00, 9.54000000e+01, 1.50299955e+01, 9.10116000e+03,\n",
       "        1.43386157e+03, 2.25900766e+02],\n",
       "       [1.00000000e+00, 7.77000000e+01, 1.14998835e+01, 6.03729000e+03,\n",
       "        8.93540948e+02, 1.32247321e+02],\n",
       "       [1.00000000e+00, 9.27000000e+01, 1.80599997e+01, 8.59329000e+03,\n",
       "        1.67416198e+03, 3.26163591e+02],\n",
       "       [1.00000000e+00, 6.59103377e+00, 6.71190183e+00, 4.34417261e+01,\n",
       "        4.42383716e+01, 4.50496262e+01],\n",
       "       [1.00000000e+00, 2.14000000e+01, 8.42816079e+00, 4.57960000e+02,\n",
       "        1.80362641e+02, 7.10338944e+01],\n",
       "       [1.00000000e+00, 6.52000000e+01, 4.94600088e+00, 4.25104000e+03,\n",
       "        3.22479257e+02, 2.44629247e+01],\n",
       "       [1.00000000e+00, 4.05000000e+01, 3.87538070e+00, 1.64025000e+03,\n",
       "        1.56952918e+02, 1.50185756e+01],\n",
       "       [1.00000000e+00, 5.29000000e+01, 1.12198496e+01, 2.79841000e+03,\n",
       "        5.93530045e+02, 1.25885025e+02],\n",
       "       [1.00000000e+00, 3.33000000e+01, 1.41499899e+01, 1.10889000e+03,\n",
       "        4.71194663e+02, 2.00222213e+02],\n",
       "       [1.00000000e+00, 5.43000000e+01, 1.13798700e+01, 2.94849000e+03,\n",
       "        6.17926942e+02, 1.29501442e+02],\n",
       "       [1.00000000e+00, 7.70000000e+01, 7.00367702e+00, 5.92900000e+03,\n",
       "        5.39283131e+02, 4.90514918e+01],\n",
       "       [1.00000000e+00, 3.11000000e+01, 6.25815813e+00, 9.67210000e+02,\n",
       "        1.94628718e+02, 3.91645432e+01],\n",
       "       [1.00000000e+00, 6.82000000e+01, 9.67939483e+00, 4.65124000e+03,\n",
       "        6.60134727e+02, 9.36906843e+01],\n",
       "       [1.00000000e+00, 6.30000000e+01, 9.42924303e+00, 3.96900000e+03,\n",
       "        5.94042311e+02, 8.89106241e+01],\n",
       "       [1.00000000e+00, 9.82000000e+01, 1.69599993e+01, 9.64324000e+03,\n",
       "        1.66547193e+03, 2.87641575e+02],\n",
       "       [1.00000000e+00, 5.68000000e+01, 8.43817693e+00, 3.22624000e+03,\n",
       "        4.79288450e+02, 7.12028299e+01],\n",
       "       [1.00000000e+00, 4.80000000e+01, 9.61936139e+00, 2.30400000e+03,\n",
       "        4.61729347e+02, 9.25321136e+01],\n",
       "       [1.00000000e+00, 6.79243475e+00, 3.42949883e+00, 4.61371699e+01,\n",
       "        2.32946470e+01, 1.17614622e+01],\n",
       "       [1.00000000e+00, 3.41000000e+01, 4.01216447e+00, 1.16281000e+03,\n",
       "        1.36814808e+02, 1.60974637e+01],\n",
       "       [1.00000000e+00, 7.06000000e+01, 1.40999894e+01, 4.98436000e+03,\n",
       "        9.95459251e+02, 1.98809701e+02],\n",
       "       [1.00000000e+00, 4.24000000e+01, 9.46926962e+00, 1.79776000e+03,\n",
       "        4.01497032e+02, 8.96670672e+01],\n",
       "       [1.00000000e+00, 2.77000000e+01, 6.34902022e+00, 7.67290000e+02,\n",
       "        1.75867860e+02, 4.03100577e+01],\n",
       "       [1.00000000e+00, 8.59000000e+01, 1.70999994e+01, 7.37881000e+03,\n",
       "        1.46888994e+03, 2.92409978e+02],\n",
       "       [1.00000000e+00, 9.35000000e+01, 1.68999992e+01, 8.74225000e+03,\n",
       "        1.58014993e+03, 2.85609974e+02],\n",
       "       [1.00000000e+00, 7.60000000e+01, 4.14841116e+00, 5.77600000e+03,\n",
       "        3.15279248e+02, 1.72093152e+01],\n",
       "       [1.00000000e+00, 9.18000000e+01, 1.16398975e+01, 8.42724000e+03,\n",
       "        1.06854259e+03, 1.35487214e+02],\n",
       "       [1.00000000e+00, 3.42000000e+01, 2.97721344e+00, 1.16964000e+03,\n",
       "        1.01820700e+02, 8.86379985e+00]])"
      ]
     },
     "execution_count": 14,
     "metadata": {},
     "output_type": "execute_result"
    }
   ],
   "source": [
    "x_test_scaled"
   ]
  },
  {
   "cell_type": "code",
   "execution_count": 11,
   "metadata": {},
   "outputs": [
    {
     "data": {
      "text/plain": [
       "array([33.15607485])"
      ]
     },
     "execution_count": 11,
     "metadata": {},
     "output_type": "execute_result"
    }
   ],
   "source": [
    "# Kết quả dự báo đầu tiên cho giá trị medv\n",
    "y_test_pred[0]"
   ]
  },
  {
   "cell_type": "code",
   "execution_count": 12,
   "metadata": {},
   "outputs": [
    {
     "name": "stdout",
     "output_type": "stream",
     "text": [
      "Giá trị vAge và vIstat sau khi scale: [[1.00000e+00 3.75000e+01 4.65000e+00 1.40625e+03 1.74375e+02 2.16225e+01]]\n",
      "Giá trị dự báo medv: [31.33332977]\n"
     ]
    }
   ],
   "source": [
    "# Dự báo giá trị medv khi biết giá trị vAge = 37.5 và vIstat = 4.65\n",
    "vAge = 37.5 \n",
    "vIstat = 4.65\n",
    "\n",
    "scaled = scaler.transform([[vAge, vIstat]])\n",
    "\n",
    "print(f\"Giá trị vAge và vIstat sau khi scale: {scaled}\")\n",
    "\n",
    "predicted = regressor.predict(scaled)\n",
    "\n",
    "print(f\"Giá trị dự báo medv: {predicted[0]}\")"
   ]
  },
  {
   "cell_type": "code",
   "execution_count": null,
   "metadata": {},
   "outputs": [],
   "source": []
  }
 ],
 "metadata": {
  "kernelspec": {
   "display_name": "Python 3",
   "language": "python",
   "name": "python3"
  },
  "language_info": {
   "codemirror_mode": {
    "name": "ipython",
    "version": 3
   },
   "file_extension": ".py",
   "mimetype": "text/x-python",
   "name": "python",
   "nbconvert_exporter": "python",
   "pygments_lexer": "ipython3",
   "version": "3.11.5"
  }
 },
 "nbformat": 4,
 "nbformat_minor": 2
}
